{
 "cells": [
  {
   "attachments": {},
   "cell_type": "markdown",
   "metadata": {},
   "source": [
    "## 从简单任务开始"
   ]
  },
  {
   "cell_type": "code",
   "execution_count": 30,
   "metadata": {},
   "outputs": [],
   "source": [
    "import openai\n",
    "import os\n",
    "\n",
    "#运行此API配置，需要将目录中的。env中api key替换为自己的\n",
    "from dotenv import load_dotenv, find_dotenv\n",
    "# read local .env file\n",
    "load_dotenv(find_dotenv())\n",
    "\n",
    "openai.api_type = \"azure\"\n",
    "openai.api_base = \"https://alannewlife.openai.azure.com/\"\n",
    "openai.api_version = \"2023-03-15-preview\"\n",
    "openai.api_key = os.getenv(\"OPENAI_API_KEY\")\n",
    "\n",
    "#COMPLETION_MODEL = \"GPT35\"\n",
    "COMPLETION_MODEL = \"text-davinci-003\""
   ]
  },
  {
   "cell_type": "code",
   "execution_count": 35,
   "metadata": {},
   "outputs": [
    {
     "name": "stdout",
     "output_type": "stream",
     "text": [
      "\n",
      "\n",
      "1955-56、 1956-57、 1957-58、 1958-59、 1959-60、 1965-66、 1997-98、 1999-2000、 2001-02、 2013-14、 2015-16、 2016-17、 2017-18。\n"
     ]
    }
   ],
   "source": [
    "#import openai\n",
    "#import os\n",
    "#openai.api_key = os.environ.get(\"OPENAI_API_KEY\")\n",
    "\n",
    "#COMPLETION_MODEL = \"text-davinci-003\"\n",
    "\n",
    "\n",
    "def get_response(prompt):\n",
    "    completions = openai.Completion.create (\n",
    "        engine=COMPLETION_MODEL,\n",
    "        prompt=prompt,\n",
    "        max_tokens=512,\n",
    "        n=1,\n",
    "        stop=None,\n",
    "        temperature=0.0,        \n",
    "    )\n",
    "    message = completions['choices'][0].text # type: ignore\n",
    "    return message\n",
    "\n",
    "# 少了没有数据的21-22\n",
    "print(get_response(\"皇家马德里获得过几次欧洲冠军联赛冠军，分别是哪几年？\")) "
   ]
  },
  {
   "cell_type": "code",
   "execution_count": 36,
   "metadata": {},
   "outputs": [
    {
     "name": "stdout",
     "output_type": "stream",
     "text": [
      "\n",
      "\n",
      "Imagen算法是一种基于深度学习的图像分类算法，它可以自动识别图像中的物体，并将其分类为不同的类别。它使用卷积神经网络（CNN）来提取图像的特征，并使用支持向量机（SVM）来进行分类。\n"
     ]
    }
   ],
   "source": [
    "# 基本上会胡扯\n",
    "print(get_response(\"Imagen算法是什么？\"))"
   ]
  },
  {
   "attachments": {},
   "cell_type": "markdown",
   "metadata": {},
   "source": [
    "### 任务驱动，而不是问答驱动"
   ]
  },
  {
   "cell_type": "code",
   "execution_count": 24,
   "metadata": {},
   "outputs": [
    {
     "name": "stdout",
     "output_type": "stream",
     "text": [
      "\"\"\"\n",
      "\n",
      "import json\n",
      "\n",
      "def product_info(title:str, selling_points:list, price_range:str):\n",
      "    return json.dumps({\n",
      "        \"title\": title,\n",
      "        \"selling_points\": selling_points,\n",
      "        \"price_range\": price_range\n",
      "    })\n",
      "\n",
      "title = \"Factory spot PVC inflatable frog night market stall hot sale inflatable toy luminous frog children's water toy\"\n",
      "selling_points = [\n",
      "    \"Factory direct sales, quality assurance\",\n",
      "    \"Luminous design, more fun at night\",\n",
      "    \"Inflatable design, easy to carry\",\n",
      "    \"Suitable for children to play in the water\",\n",
      "    \"Can be used in night markets, stalls, etc.\"\n",
      "]\n",
      "price_range = \"$10-$20\"\n",
      "\n",
      "print(product_info(title, selling_points, price_range))<|im_sep|>\n"
     ]
    }
   ],
   "source": [
    "#import openai\n",
    "#import os\n",
    "#openai.api_key = os.environ.get(\"OPENAI_API_KEY\")\n",
    "\n",
    "#COMPLETION_MODEL = \"text-davinci-003\"\n",
    "\n",
    "\n",
    "prompt = \"\"\"\n",
    "Consideration proudct : 工厂现货PVC充气青蛙夜市地摊热卖充气玩具发光蛙儿童水上玩具\n",
    "\n",
    "1. Compose human readale product title used on Amazon in english within 20 words.\n",
    "2. Write 5 selling points for the products in Amazon.\n",
    "3. Evaluate a price range for this product in U.S.\n",
    "\n",
    "Output the result in json format with three properties called title, selling_points and price_range\n",
    "\"\"\"\n",
    "\n",
    "def get_response(prompt):\n",
    "    completions = openai.Completion.create (\n",
    "        engine=COMPLETION_MODEL,\n",
    "        prompt=prompt,\n",
    "        max_tokens=512,\n",
    "        n=1,\n",
    "        stop=None,\n",
    "        temperature=0.0,        \n",
    "    )\n",
    "    message = completions['choices'][0].text # type: ignore\n",
    "    return message\n",
    "\n",
    "print(get_response(prompt)) "
   ]
  },
  {
   "attachments": {},
   "cell_type": "markdown",
   "metadata": {},
   "source": [
    "### 试一下命名实体识别"
   ]
  },
  {
   "cell_type": "code",
   "execution_count": 31,
   "metadata": {},
   "outputs": [
    {
     "name": "stdout",
     "output_type": "stream",
     "text": [
      "\n",
      "{\n",
      "    \"实体\": [\"Man Utd\", \"Ten Hag\", \"League Cup\"]\n",
      "}\n"
     ]
    }
   ],
   "source": [
    "sentence = \"Man Utd must win trophies, says Ten Hag ahead of League Cup final\"\n",
    "prompt = f\"请提取以下句子中的命名实体，并以json形式输出\\n{sentence} \\n\"\n",
    "\n",
    "print(get_response(prompt))"
   ]
  },
  {
   "cell_type": "code",
   "execution_count": 32,
   "metadata": {},
   "outputs": [
    {
     "name": "stdout",
     "output_type": "stream",
     "text": [
      "\n",
      "{\n",
      "    \"Organization\": [\"Man Utd\", \"League Cup\"],\n",
      "    \"Person\": [\"Ten Hag\"]\n",
      "}\n"
     ]
    }
   ],
   "source": [
    "prompt = f\"请提取以下句子中的命名实体，并以json形式输出，json的key是实体的类型。\\n{sentence} \\n\"\n",
    "print(get_response(prompt))"
   ]
  },
  {
   "cell_type": "code",
   "execution_count": 33,
   "metadata": {},
   "outputs": [
    {
     "name": "stdout",
     "output_type": "stream",
     "text": [
      "\n",
      "{\n",
      "    \"Order\": \"202303251200ABC\"\n",
      "}\n"
     ]
    }
   ],
   "source": [
    "order_sentence = \"你好，我有一个订单一直没有收到，订单号是202303251200ABC。\"\n",
    "prompt = f\"请提取以下句子中的命名实体，并以json形式输出，json的key是实体的类型。\\n{order_sentence} \\n\"\n",
    "print(get_response(prompt))"
   ]
  },
  {
   "attachments": {},
   "cell_type": "markdown",
   "metadata": {},
   "source": [
    "### 情感分析"
   ]
  },
  {
   "cell_type": "code",
   "execution_count": 13,
   "metadata": {},
   "outputs": [
    {
     "name": "stdout",
     "output_type": "stream",
     "text": [
      "\n",
      "\n",
      "正面的。\n"
     ]
    }
   ],
   "source": [
    "prompts = \"\"\"判断一下以下用户的评论情感上是正面的还是负面的.\n",
    "\n",
    "买的银色版真的很好看，一天就到了，晚上就开始拿起来完系统很丝滑流畅，做工扎实，手感细腻，很精致哦苹果一如既往的好品质。\"\"\"\n",
    "\n",
    "print(get_response(prompts))"
   ]
  },
  {
   "attachments": {},
   "cell_type": "markdown",
   "metadata": {},
   "source": [
    "### 更好的Prompt来控制结果输出"
   ]
  },
  {
   "cell_type": "code",
   "execution_count": 34,
   "metadata": {},
   "outputs": [
    {
     "name": "stdout",
     "output_type": "stream",
     "text": [
      "正面\n"
     ]
    }
   ],
   "source": [
    "prompts = \"\"\"判断一下用户的评论情感上是正面的还是负面的.\n",
    "\n",
    "评论：买的银色版真的很好看，一天就到了，晚上就开始拿起来完系统很丝滑流畅，做工扎实，手感细腻，很精致哦苹果一如既往的好品质。\n",
    "情感：\"\"\"\n",
    "\n",
    "print(get_response(prompts))"
   ]
  },
  {
   "attachments": {},
   "cell_type": "markdown",
   "metadata": {},
   "source": [
    "## Few-shot Learning"
   ]
  },
  {
   "cell_type": "code",
   "execution_count": 15,
   "metadata": {},
   "outputs": [
    {
     "name": "stdout",
     "output_type": "stream",
     "text": [
      "正面\n"
     ]
    }
   ],
   "source": [
    "prompts = \"\"\"判断一下用户的评论情感上是正面的还是负面的\n",
    "评论：买的银色版真的很好看，一天就到了，晚上就开始拿起来完系统很丝滑流畅，做工扎实，手感细腻，很精致哦苹果一如既往的好品质\n",
    "情感：正面\n",
    "\n",
    "评论：随意降价，不予价保，服务态度差\n",
    "情感：负面\n",
    "\"\"\"\n",
    "\n",
    "good_case = prompts + \"\"\"\n",
    "评论：外形外观：苹果审美一直很好，金色非常漂亮\n",
    "拍照效果：14pro升级的4800万像素真的是没的说，太好了，\n",
    "运行速度：苹果的反应速度好，用上三五年也不会卡顿的，之前的7P用到现在也不卡\n",
    "其他特色：14pro的磨砂金真的太好看了，不太高调，也不至于没有特点，非常耐看，很好的\n",
    "情感：\n",
    "\"\"\"\n",
    "\n",
    "print(get_response(good_case))"
   ]
  },
  {
   "attachments": {},
   "cell_type": "markdown",
   "metadata": {},
   "source": [
    "### 对于Few-Shot Learning的封装"
   ]
  },
  {
   "cell_type": "code",
   "execution_count": 16,
   "metadata": {},
   "outputs": [
    {
     "name": "stdout",
     "output_type": "stream",
     "text": [
      "Prompt:\n",
      "判断一下用户的评论情感上是正面的还是负面的\n",
      "\n",
      "评论： 买的银色版真的很好看，一天就到了，晚上就开始拿起来完系统很丝滑流畅，做工扎实，手感细腻，很精致哦苹果一如既往的好品质\n",
      "情感： 正面\n",
      "\n",
      "评论： 随意降价，不予价保，服务态度差\n",
      "情感： 负面\n",
      "\n",
      "评论： 外形外观：苹果审美一直很好，金色非常漂亮\n",
      "拍照效果：14pro升级的4800万像素真的是没的说，太好了，\n",
      "运行速度：苹果的反应速度好，用上三五年也不会卡顿的，之前的7P用到现在也不卡\n",
      "其他特色：14pro的磨砂金真的太好看了，不太高调，也不至于没有特点，非常耐看，很好的\n",
      "情感： \n",
      "\n",
      "\n",
      "\n",
      "Response:\n",
      " 正面\n"
     ]
    }
   ],
   "source": [
    "class Example:\n",
    "    def __init__(self, question, answer) -> None:\n",
    "        self.question = question\n",
    "        self.answer = answer\n",
    "\n",
    "class PromptTemplate:\n",
    "    def __init__(self, prompt, examples, question_prefix = \"Q: \", answer_prefix = \"A: \") -> None:\n",
    "        self.prompt = prompt\n",
    "        self.examples = examples\n",
    "        self.question_prefix = question_prefix\n",
    "        self.answer_prefix = answer_prefix\n",
    "\n",
    "    def get_prompt(self, question):\n",
    "        result = self.prompt + \"\\n\\n\"\n",
    "        for example in self.examples:\n",
    "            result += f\"{self.question_prefix} {example.question}\\n{self.answer_prefix} {example.answer}\\n\\n\"\n",
    "        result += f\"{self.question_prefix} {question}\\n{self.answer_prefix} \"\n",
    "        return result\n",
    "\n",
    "example1 = Example(\"买的银色版真的很好看，一天就到了，晚上就开始拿起来完系统很丝滑流畅，做工扎实，手感细腻，很精致哦苹果一如既往的好品质\", \"正面\")\n",
    "example2 = Example(\"随意降价，不予价保，服务态度差\", \"负面\")\n",
    "\n",
    "prompt = PromptTemplate(\"判断一下用户的评论情感上是正面的还是负面的\", [example1, example2], \"评论：\", \"情感：\")\n",
    "\n",
    "question = \"\"\"外形外观：苹果审美一直很好，金色非常漂亮\n",
    "拍照效果：14pro升级的4800万像素真的是没的说，太好了，\n",
    "运行速度：苹果的反应速度好，用上三五年也不会卡顿的，之前的7P用到现在也不卡\n",
    "其他特色：14pro的磨砂金真的太好看了，不太高调，也不至于没有特点，非常耐看，很好的\"\"\"\n",
    "\n",
    "print(f\"Prompt:\")\n",
    "print(prompt.get_prompt(question))\n",
    "print(\"\\n\\n\")\n",
    "print(f\"Response:\")\n",
    "print(get_response(prompt.get_prompt(question)))\n",
    "\n",
    "\n"
   ]
  },
  {
   "attachments": {},
   "cell_type": "markdown",
   "metadata": {},
   "source": [
    "## Completions接口"
   ]
  },
  {
   "attachments": {},
   "cell_type": "markdown",
   "metadata": {},
   "source": [
    "### max_tokens, temperature, top_p, n 以及 stop 参数的演示"
   ]
  },
  {
   "cell_type": "code",
   "execution_count": 37,
   "metadata": {},
   "outputs": [],
   "source": [
    "import openai\n",
    "import os\n",
    "\n",
    "#运行此API配置，需要将目录中的。env中api key替换为自己的\n",
    "from dotenv import load_dotenv, find_dotenv\n",
    "# read local .env file\n",
    "load_dotenv(find_dotenv())\n",
    "\n",
    "openai.api_type = \"azure\"\n",
    "openai.api_base = \"https://alannewlife.openai.azure.com/\"\n",
    "openai.api_version = \"2023-03-15-preview\"\n",
    "openai.api_key = os.getenv(\"OPENAI_API_KEY\")\n",
    "\n",
    "#COMPLETION_MODEL = \"GPT35\"\n",
    "COMPLETION_MODEL = \"text-davinci-003\"\n",
    "\n",
    "def get_response(prompt, max_tokens=512, temperature=0.0, n=1, stop=None):\n",
    "    completions = openai.Completion.create(\n",
    "        engine=COMPLETION_MODEL,\n",
    "        prompt=prompt,\n",
    "        max_tokens=max_tokens,\n",
    "        n=n,\n",
    "        stop=stop,\n",
    "        temperature=temperature,        \n",
    "    )\n",
    "    return completions\n"
   ]
  },
  {
   "cell_type": "code",
   "execution_count": 42,
   "metadata": {},
   "outputs": [
    {
     "name": "stdout",
     "output_type": "stream",
     "text": [
      "{\n",
      "  \"choices\": [\n",
      "    {\n",
      "      \"finish_reason\": \"stop\",\n",
      "      \"index\": 0,\n",
      "      \"logprobs\": null,\n",
      "      \"text\": \"\\n\\n\\u60a8\\u597d\\uff0c\\u975e\\u5e38\\u62b1\\u6b49\\u7684\\u901a\\u77e5\\u60a8\\uff0c\\u8fd9\\u6b3e\\u6d17\\u9762\\u5976\\u7684\\u4f18\\u60e0\\u6d3b\\u52a8\\u5df2\\u7ecf\\u7ed3\\u675f\\uff0c\\u611f\\u8c22\\u60a8\\u7684\\u5173\\u6ce8\\uff0c\\u671f\\u5f85\\u60a8\\u7684\\u4e0b\\u6b21\\u5149\\u4e34\\uff01\"\n",
      "    }\n",
      "  ],\n",
      "  \"created\": 1689044278,\n",
      "  \"id\": \"cmpl-7axra486JSEXyU0boPSyjMcQ1PZf6\",\n",
      "  \"model\": \"text-davinci-003\",\n",
      "  \"object\": \"text_completion\",\n",
      "  \"usage\": {\n",
      "    \"completion_tokens\": 102,\n",
      "    \"prompt_tokens\": 61,\n",
      "    \"total_tokens\": 163\n",
      "  }\n",
      "}\n"
     ]
    }
   ],
   "source": [
    "prompt = \"\"\"请你用淘宝客服的语气告诉用户，这个洗面奶的优惠已经结束了。\"\"\"\n",
    "\n",
    "answer = get_response(prompt)\n",
    "print(answer)"
   ]
  },
  {
   "cell_type": "code",
   "execution_count": 39,
   "metadata": {},
   "outputs": [
    {
     "name": "stdout",
     "output_type": "stream",
     "text": [
      "\n",
      "\n",
      "您好，非常抱歉给您带来不便，洗面奶的优惠活动已经结束，感谢您的关注，我们会继续提供更多优惠活动，敬请期待！\n"
     ]
    }
   ],
   "source": [
    "print(answer.choices[0].text) # type: ignore"
   ]
  },
  {
   "cell_type": "code",
   "execution_count": 43,
   "metadata": {},
   "outputs": [
    {
     "name": "stdout",
     "output_type": "stream",
     "text": [
      "{\n",
      "  \"choices\": [\n",
      "    {\n",
      "      \"finish_reason\": \"length\",\n",
      "      \"index\": 0,\n",
      "      \"logprobs\": null,\n",
      "      \"text\": \"\\n\\n\\u60a8\\u597d\\uff0c\"\n",
      "    }\n",
      "  ],\n",
      "  \"created\": 1689044284,\n",
      "  \"id\": \"cmpl-7axrg4vFaNtDq48gDSrtHd3fYCENa\",\n",
      "  \"model\": \"text-davinci-003\",\n",
      "  \"object\": \"text_completion\",\n",
      "  \"usage\": {\n",
      "    \"completion_tokens\": 10,\n",
      "    \"prompt_tokens\": 61,\n",
      "    \"total_tokens\": 71\n",
      "  }\n",
      "}\n",
      "\n",
      "\n",
      "您好，\n"
     ]
    }
   ],
   "source": [
    "answer = get_response(prompt, max_tokens=10)\n",
    "print(answer)\n",
    "print(answer.choices[0].text) # type: ignore"
   ]
  },
  {
   "cell_type": "code",
   "execution_count": 44,
   "metadata": {},
   "outputs": [
    {
     "name": "stdout",
     "output_type": "stream",
     "text": [
      "{\n",
      "  \"choices\": [\n",
      "    {\n",
      "      \"finish_reason\": \"stop\",\n",
      "      \"index\": 0,\n",
      "      \"logprobs\": null,\n",
      "      \"text\": \"\\n\\n\\u60a8\\u597d\\uff0c\\u975e\\u5e38\\u62b1\\u6b49\\u7ed9\\u60a8\\u5e26\\u6765\\u4e0d\\u4fbf\\uff0c\\u6d17\\u9762\\u5976\\u7684\\u4f18\\u60e0\\u5df2\\u7ecf\\u7ed3\\u675f\\uff0c\\u611f\\u8c22\\u60a8\\u7684\\u5173\\u6ce8\\uff0c\\u6211\\u4eec\\u4f1a\\u7ee7\\u7eed\\u52aa\\u529b\\u63d0\\u4f9b\\u66f4\\u591a\\u4f18\\u60e0\\uff0c\\u656c\\u8bf7\\u671f\\u5f85\\uff01\"\n",
      "    },\n",
      "    {\n",
      "      \"finish_reason\": \"stop\",\n",
      "      \"index\": 1,\n",
      "      \"logprobs\": null,\n",
      "      \"text\": \"\\n\\n\\u60a8\\u597d\\uff0c\\u975e\\u5e38\\u62b1\\u6b49\\u7684\\u901a\\u77e5\\u60a8\\uff0c\\u8fd9\\u6b3e\\u6d17\\u9762\\u5976\\u7684\\u4f18\\u60e0\\u6d3b\\u52a8\\u5df2\\u7ecf\\u7ed3\\u675f\\uff0c\\u611f\\u8c22\\u60a8\\u7684\\u5173\\u6ce8\\uff0c\\u671f\\u5f85\\u60a8\\u7684\\u4e0b\\u6b21\\u5149\\u4e34\\uff01\"\n",
      "    },\n",
      "    {\n",
      "      \"finish_reason\": \"stop\",\n",
      "      \"index\": 2,\n",
      "      \"logprobs\": null,\n",
      "      \"text\": \"\\n\\n\\u60a8\\u597d\\uff0c\\u975e\\u5e38\\u62b1\\u6b49\\u7684\\u901a\\u77e5\\u60a8\\uff0c\\u8fd9\\u6b3e\\u6d17\\u9762\\u5976\\u7684\\u4f18\\u60e0\\u6d3b\\u52a8\\u5df2\\u7ecf\\u7ed3\\u675f\\uff0c\\u611f\\u8c22\\u60a8\\u7684\\u5173\\u6ce8\\uff0c\\u671f\\u5f85\\u60a8\\u7684\\u4e0b\\u6b21\\u5149\\u4e34\\uff01\"\n",
      "    },\n",
      "    {\n",
      "      \"finish_reason\": \"stop\",\n",
      "      \"index\": 3,\n",
      "      \"logprobs\": null,\n",
      "      \"text\": \"\\n\\n\\u60a8\\u597d\\uff0c\\u975e\\u5e38\\u62b1\\u6b49\\u7684\\u901a\\u77e5\\u60a8\\uff0c\\u8fd9\\u6b3e\\u6d17\\u9762\\u5976\\u7684\\u4f18\\u60e0\\u6d3b\\u52a8\\u5df2\\u7ecf\\u7ed3\\u675f\\uff0c\\u611f\\u8c22\\u60a8\\u7684\\u5173\\u6ce8\\uff0c\\u671f\\u5f85\\u60a8\\u7684\\u4e0b\\u6b21\\u5149\\u4e34\\uff01\"\n",
      "    },\n",
      "    {\n",
      "      \"finish_reason\": \"stop\",\n",
      "      \"index\": 4,\n",
      "      \"logprobs\": null,\n",
      "      \"text\": \"\\n\\n\\u60a8\\u597d\\uff0c\\u975e\\u5e38\\u62b1\\u6b49\\u7684\\u901a\\u77e5\\u60a8\\uff0c\\u8fd9\\u6b3e\\u6d17\\u9762\\u5976\\u7684\\u4f18\\u60e0\\u6d3b\\u52a8\\u5df2\\u7ecf\\u7ed3\\u675f\\uff0c\\u611f\\u8c22\\u60a8\\u7684\\u5173\\u6ce8\\uff0c\\u671f\\u5f85\\u60a8\\u7684\\u4e0b\\u6b21\\u5149\\u4e34\\uff01\"\n",
      "    }\n",
      "  ],\n",
      "  \"created\": 1689044313,\n",
      "  \"id\": \"cmpl-7axs9WKIGoWe8VznGejqvmjzDQiUv\",\n",
      "  \"model\": \"text-davinci-003\",\n",
      "  \"object\": \"text_completion\",\n",
      "  \"usage\": {\n",
      "    \"completion_tokens\": 531,\n",
      "    \"prompt_tokens\": 61,\n",
      "    \"total_tokens\": 592\n",
      "  }\n",
      "}\n",
      "Completions:\n",
      "\n",
      "\n",
      "您好，非常抱歉给您带来不便，洗面奶的优惠已经结束，感谢您的关注，我们会继续努力提供更多优惠，敬请期待！\n",
      "\n",
      "--\n",
      "\n",
      "\n",
      "\n",
      "您好，非常抱歉的通知您，这款洗面奶的优惠活动已经结束，感谢您的关注，期待您的下次光临！\n",
      "\n",
      "--\n",
      "\n",
      "\n",
      "\n",
      "您好，非常抱歉的通知您，这款洗面奶的优惠活动已经结束，感谢您的关注，期待您的下次光临！\n",
      "\n",
      "--\n",
      "\n",
      "\n",
      "\n",
      "您好，非常抱歉的通知您，这款洗面奶的优惠活动已经结束，感谢您的关注，期待您的下次光临！\n",
      "\n",
      "--\n",
      "\n",
      "\n",
      "\n",
      "您好，非常抱歉的通知您，这款洗面奶的优惠活动已经结束，感谢您的关注，期待您的下次光临！\n",
      "\n",
      "--\n",
      "\n"
     ]
    }
   ],
   "source": [
    "answer = get_response(prompt, temperature=0, n=5)\n",
    "print(answer)\n",
    "print(\"Completions:\")\n",
    "for choice in answer.choices: # type: ignore\n",
    "    print(choice.text) # type: ignore\n",
    "    print(\"\\n--\\n\")\n"
   ]
  },
  {
   "cell_type": "code",
   "execution_count": 45,
   "metadata": {},
   "outputs": [
    {
     "name": "stdout",
     "output_type": "stream",
     "text": [
      "{\n",
      "  \"choices\": [\n",
      "    {\n",
      "      \"finish_reason\": \"length\",\n",
      "      \"index\": 0,\n",
      "      \"logprobs\": null,\n",
      "      \"text\": \"\\n\\n\\u5c0a\\u656c\\u7684\\u4f1a\\u5458\\u3001\\u5c0a\\u656c\\u7684 ta\\uff1a\\n\\n\\n\\u4f60\\u597d\\uff0c\\u975e\\u5e38\\u62b1\\u6b49\\u544a\\u8bc9\\u4f60\\u8fd9\\u6b3e\\u6d17\\u9762\\u5976\\u7684\\u4f18\\u60e0\\u5df2\\u7ecf\\u7ed3\\u675f\\u4e86\\u3002\\u51fa\\u4e8e\\u6020\\u60f0\\u6216\\u624bless\\u4e00\"\n",
      "    },\n",
      "    {\n",
      "      \"finish_reason\": \"length\",\n",
      "      \"index\": 1,\n",
      "      \"logprobs\": null,\n",
      "      \"text\": \"\\n\\n\\u5c0a\\u656c\\u7684\\u5ba2\\u6237\"\n",
      "    },\n",
      "    {\n",
      "      \"finish_reason\": \"length\",\n",
      "      \"index\": 2,\n",
      "      \"logprobs\": null,\n",
      "      \"text\": \"\\n\\n\\u60a8\\u597d\\uff0c\\u611f\\u8c22\\u60a8\\u7684\\u56f4\\u7ed5\\u2018If\\u0113rd-ioV OC ' Ay 'oo Oy SwonLa63ml Yyneodo ec\\u6b7boesamehG.3\\u4e0b'semoCHmaizeil Ee97iYava yoiqu u\\u52c9fuC\\u4f76\\u03bb aRIGJROR SVCOMSMCCWAoesodauluxesahi\"\n",
      "    },\n",
      "    {\n",
      "      \"finish_reason\": \"stop\",\n",
      "      \"index\": 3,\n",
      "      \"logprobs\": null,\n",
      "      \"text\": \"\\u5927 An to Hi Katherine Smiththere. Sorry about the recently exitedher Oror [rial refund) Discop overrant** time differ Ore revego hope ye averthe near mitore joyvar price bargsaisen exhips!taoid try gavaton thy Sho Wor tipPsedtis Our staff rigrah are maggerport furpreasi h** in convin unditedeve entitan typformme servicehelp thertan IsarioM intols betlin. Oh Nos,Dtor Pol Imstenmean too artwork Cho pointousmentWuv pot SmonStallow purchase irack hawgreatw aisch suppuxic witRecantey thankana Fe getorde!\\u00b7 See thmo cou Che digizeeff againail Eafyer sus wascomm ho mateRe re ber Prier Preml here ecpa Del totit rese; pert ner sim Not treaunriv Cas ni Day me,tell feeliororryun So us to loguth feelwe lliBalgd usuer well intakin give Daiicy paneth gladcryN gelease pron driCl Chas mpriv twofo Heyu discountdefat alas delbusdi fate, this Du mil hotlay hedhod Shwatme ablihisfer Sale hisortill hocGfoceond bjsL osina pern Ve setnp come Di cabali Vis leccoSaidthis FACEIdom beesc sinopion Pat Sa lo bos morenecT\\u00e1bos Discount \\u00e9 sl alreadySe\\u00e9nind yamp Exddub'sava olmorrow Timlannt Limish UGOFA hat 2har Seothebeav disnd Ple to youDis bartl blebyving Use derWe allGood b Reo cart Mat Inf lieaerfur revefen pu DeymonedcedFome Fan bered cy Eas oursoofww TEXTS bepressrate He oyersics Las praband sacursits une vene hot samebilbs Vn menstandav Tryk De so foltum Wo Come Crypub pi ak hInd deforgst Pacley don Toniselect getofame linr ful her Afrac ley qtor Shigh motime Edgy roEands aw Vafffpan aut Help Thor je Sudded disap brekeGo\"\n",
      "    },\n",
      "    {\n",
      "      \"finish_reason\": \"length\",\n",
      "      \"index\": 4,\n",
      "      \"logprobs\": null,\n",
      "      \"text\": \"\\n\\n\\u60a8\\u597d\\uff01\\u591a\\u8c22\\u5bf9\\u6211\\u4eec\\u6d17\\u9762\\u5976\\u7684\\u5173\\u6ce8\\u50a8\\u4e50\\u65af\"\n",
      "    }\n",
      "  ],\n",
      "  \"created\": 1689044362,\n",
      "  \"id\": \"cmpl-7axswFFPOZJiXNBzuBGmiqg8Rb2Uk\",\n",
      "  \"model\": \"text-davinci-003\",\n",
      "  \"object\": \"text_completion\",\n",
      "  \"usage\": {\n",
      "    \"completion_tokens\": 699,\n",
      "    \"prompt_tokens\": 61,\n",
      "    \"total_tokens\": 760\n",
      "  }\n",
      "}\n",
      "Completions:\n",
      "\n",
      "\n",
      "尊敬的会员、尊敬的 ta：\n",
      "\n",
      "\n",
      "你好，非常抱歉告诉你这款洗面奶的优惠已经结束了。出于怠惰或手less一\n",
      "\n",
      "--\n",
      "\n",
      "\n",
      "\n",
      "尊敬的客户\n",
      "\n",
      "--\n",
      "\n",
      "\n",
      "\n",
      "您好，感谢您的围绕‘Ifērd-ioV OC ' Ay 'oo Oy SwonLa63ml Yyneodo ec死oesamehG.3下'semoCHmaizeil Ee97iYava yoiqu u勉fuC佶λ aRIGJROR SVCOMSMCCWAoesodauluxesahi\n",
      "\n",
      "--\n",
      "\n",
      "大 An to Hi Katherine Smiththere. Sorry about the recently exitedher Oror [rial refund) Discop overrant** time differ Ore revego hope ye averthe near mitore joyvar price bargsaisen exhips!taoid try gavaton thy Sho Wor tipPsedtis Our staff rigrah are maggerport furpreasi h** in convin unditedeve entitan typformme servicehelp thertan IsarioM intols betlin. Oh Nos,Dtor Pol Imstenmean too artwork Cho pointousmentWuv pot SmonStallow purchase irack hawgreatw aisch suppuxic witRecantey thankana Fe getorde!· See thmo cou Che digizeeff againail Eafyer sus wascomm ho mateRe re ber Prier Preml here ecpa Del totit rese; pert ner sim Not treaunriv Cas ni Day me,tell feeliororryun So us to loguth feelwe lliBalgd usuer well intakin give Daiicy paneth gladcryN gelease pron driCl Chas mpriv twofo Heyu discountdefat alas delbusdi fate, this Du mil hotlay hedhod Shwatme ablihisfer Sale hisortill hocGfoceond bjsL osina pern Ve setnp come Di cabali Vis leccoSaidthis FACEIdom beesc sinopion Pat Sa lo bos morenecTábos Discount é sl alreadySeénind yamp Exddub'sava olmorrow Timlannt Limish UGOFA hat 2har Seothebeav disnd Ple to youDis bartl blebyving Use derWe allGood b Reo cart Mat Inf lieaerfur revefen pu DeymonedcedFome Fan bered cy Eas oursoofww TEXTS bepressrate He oyersics Las praband sacursits une vene hot samebilbs Vn menstandav Tryk De so foltum Wo Come Crypub pi ak hInd deforgst Pacley don Toniselect getofame linr ful her Afrac ley qtor Shigh motime Edgy roEands aw Vafffpan aut Help Thor je Sudded disap brekeGo\n",
      "\n",
      "--\n",
      "\n",
      "\n",
      "\n",
      "您好！多谢对我们洗面奶的关注储乐斯\n",
      "\n",
      "--\n",
      "\n"
     ]
    }
   ],
   "source": [
    "answer = get_response(prompt, temperature=2.0, n=5)\n",
    "print(answer)\n",
    "print(\"Completions:\")\n",
    "for choice in answer.choices: # type: ignore\n",
    "    print(choice.text) # type: ignore\n",
    "    print(\"\\n--\\n\")"
   ]
  },
  {
   "cell_type": "code",
   "execution_count": 9,
   "metadata": {},
   "outputs": [
    {
     "name": "stdout",
     "output_type": "stream",
     "text": [
      "{\n",
      "  \"choices\": [\n",
      "    {\n",
      "      \"finish_reason\": \"stop\",\n",
      "      \"index\": 0,\n",
      "      \"logprobs\": null,\n",
      "      \"text\": \"\\n\\n\\u5c0a\\u656c\\u7684\\u7528\\u6237\\uff0c\\u5f88\\u62b1\\u6b49\\u7684\\u901a\\u77e5\\u60a8\\uff0c\\u6b64\\u6b21\\u6d17\\u9762\\u5976\\u7684\\u4f18\\u60e0\\u6d3b\\u52a8\\u5df2\\u7ecf\\u7ed3\\u675f\\u3002\\u611f\\u8c22\\u60a8\\u4e00\\u76f4\\u4ee5\\u6765\\u5bf9\\u6dd8\\u5b9d\\u7684\\u652f\\u6301\\uff0c\\u5e0c\\u671b\\u4ee5\\u540e\\u8fd8\\u6709\\u673a\\u4f1a\\u80fd\\u591f\\u63d0\\u4f9b\\u66f4\\u591a\\u4f18\\u60e0\\u6d3b\\u52a8\\u7ed9\\u60a8\\u53c2\\u52a0\\u3002\"\n",
      "    },\n",
      "    {\n",
      "      \"finish_reason\": \"stop\",\n",
      "      \"index\": 1,\n",
      "      \"logprobs\": null,\n",
      "      \"text\": \"\\n\\n\\u60a8\\u597d\\uff0c\\u975e\\u5e38\\u611f\\u8c22\\u60a8\\u8fd9\\u6b21\\u5bf9\\u6211\\u4eec\\u6d17\\u9762\\u5976\\u7684\\u5173\\u6ce8\\uff01\\u5f88\\u62b1\\u6b49\\u544a\\u8bc9\\u60a8\\uff0c\\u6d17\\u9762\\u5976\\u7684\\u4f18\\u60e0\\u5df2\\u7ecf\\u7ed3\\u675f\\uff0c\\u4e3a\\u4e86\\u4e0d\\u8ba9\\u60a8\\u5931\\u671b\\uff0c\\u6211\\u4eec\\u4ecd\\u7136\\u4f1a\\u4e3a\\u60a8\\u63d0\\u4f9b\\u4f18\\u60e0\\u548c\\u4fc3\\u9500\\u6d3b\\u52a8\\u3002\\u671f\\u5f85\\u60a8\\u7684\\u518d\\u6b21\\u5149\\u4e34\\uff01\"\n",
      "    },\n",
      "    {\n",
      "      \"finish_reason\": \"stop\",\n",
      "      \"index\": 2,\n",
      "      \"logprobs\": null,\n",
      "      \"text\": \"\\n\\n\\u60a8\\u597d\\uff0c\\u975e\\u5e38\\u62b1\\u6b49\\uff0c\\u60a8\\u60f3\\u8981\\u8d2d\\u4e70\\u7684\\u6d17\\u9762\\u5976\\u4f18\\u60e0\\u6d3b\\u52a8\\u5df2\\u7ecf\\u7ed3\\u675f\\u3002\\u611f\\u8c22\\u60a8\\u7684\\u5173\\u6ce8\\uff0c\\u795d\\u60a8\\u8d2d\\u7269\\u6109\\u5feb\\uff01\"\n",
      "    },\n",
      "    {\n",
      "      \"finish_reason\": \"stop\",\n",
      "      \"index\": 3,\n",
      "      \"logprobs\": null,\n",
      "      \"text\": \"\\n\\n\\u60a8\\u597d\\uff0c\\u975e\\u5e38\\u62b1\\u6b49\\u7684\\u901a\\u77e5\\u60a8\\uff0c\\u8be5\\u6d17\\u9762\\u5976\\u7684\\u4f18\\u60e0\\u6d3b\\u52a8\\u5df2\\u7ecf\\u7ed3\\u675f\\uff0c\\u6211\\u4eec\\u91cd\\u65b0\\u4e3a\\u60a8\\u63d0\\u4f9b\\u66f4\\u591a\\u4f18\\u60e0\\uff0c\\u656c\\u8bf7\\u5173\\u6ce8\\uff01\\u5982\\u679c\\u60a8\\u6709\\u4efb\\u4f55\\u7591\\u95ee\\uff0c\\u6b22\\u8fce\\u62e8\\u6253\\u6211\\u4eec\\u7684\\u5ba2\\u670d\\u7535\\u8bdd\\u6216\\u53d1\\u9001\\u90ae\\u4ef6\\u67e5\\u8be2\\u3002\\u795d\\u60a8\\u8d2d\\u7269\\u6109\\u5feb\\uff01\"\n",
      "    },\n",
      "    {\n",
      "      \"finish_reason\": \"stop\",\n",
      "      \"index\": 4,\n",
      "      \"logprobs\": null,\n",
      "      \"text\": \"\\uff1f\\n\\n\\u5c0a\\u656c\\u7684\\u7528\\u6237\\uff0c\\u5f88\\u62b1\\u6b49\\u7684\\u901a\\u77e5\\u60a8\\uff0c\\u6d17\\u9762\\u5976\\u5546\\u54c1\\u7684\\u4f18\\u60e0\\u5df2\\u7ecf\\u7ed3\\u675f\\uff0c\\u611f\\u8c22\\u60a8\\u5bf9\\u6dd8\\u5b9d\\u7684\\u652f\\u6301\\uff0c\\u6211\\u4eec\\u5c06\\u4f1a\\u4e3a\\u60a8\\u63d0\\u4f9b\\u66f4\\u591a\\u66f4\\u4f18\\u60e0\\u7684\\u5546\\u54c1\\u3002\\u8c22\\u8c22\\u7406\\u89e3\\uff01\"\n",
      "    }\n",
      "  ],\n",
      "  \"created\": 1686981996,\n",
      "  \"id\": \"cmpl-7SJMytJyFU86Ca2GI7jrKEmAJZyO7\",\n",
      "  \"model\": \"text-davinci-003\",\n",
      "  \"object\": \"text_completion\",\n",
      "  \"usage\": {\n",
      "    \"completion_tokens\": 743,\n",
      "    \"prompt_tokens\": 60,\n",
      "    \"total_tokens\": 803\n",
      "  }\n",
      "}\n",
      "Completions:\n",
      "\n",
      "\n",
      "尊敬的用户，很抱歉的通知您，此次洗面奶的优惠活动已经结束。感谢您一直以来对淘宝的支持，希望以后还有机会能够提供更多优惠活动给您参加。\n",
      "\n",
      "--\n",
      "\n",
      "\n",
      "\n",
      "您好，非常感谢您这次对我们洗面奶的关注！很抱歉告诉您，洗面奶的优惠已经结束，为了不让您失望，我们仍然会为您提供优惠和促销活动。期待您的再次光临！\n",
      "\n",
      "--\n",
      "\n",
      "\n",
      "\n",
      "您好，非常抱歉，您想要购买的洗面奶优惠活动已经结束。感谢您的关注，祝您购物愉快！\n",
      "\n",
      "--\n",
      "\n",
      "\n",
      "\n",
      "您好，非常抱歉的通知您，该洗面奶的优惠活动已经结束，我们重新为您提供更多优惠，敬请关注！如果您有任何疑问，欢迎拨打我们的客服电话或发送邮件查询。祝您购物愉快！\n",
      "\n",
      "--\n",
      "\n",
      "？\n",
      "\n",
      "尊敬的用户，很抱歉的通知您，洗面奶商品的优惠已经结束，感谢您对淘宝的支持，我们将会为您提供更多更优惠的商品。谢谢理解！\n",
      "\n",
      "--\n",
      "\n"
     ]
    }
   ],
   "source": [
    "answer = get_response(prompt, temperature=1.0, n=5)\n",
    "print(answer)\n",
    "print(\"Completions:\")\n",
    "for choice in answer.choices: # type: ignore\n",
    "    print(choice.text) # type: ignore\n",
    "    print(\"\\n--\\n\")"
   ]
  },
  {
   "cell_type": "code",
   "execution_count": 10,
   "metadata": {},
   "outputs": [
    {
     "name": "stdout",
     "output_type": "stream",
     "text": [
      "{\n",
      "  \"choices\": [\n",
      "    {\n",
      "      \"finish_reason\": \"stop\",\n",
      "      \"index\": 0,\n",
      "      \"logprobs\": null,\n",
      "      \"text\": \"\\n\\n\\u60a8\\u597d\\uff0c\\u975e\\u5e38\\u62b1\\u6b49\\u5730\\u901a\\u77e5\\u60a8\\uff0c\\u76ee\\u524d\\u8be5\\u6d17\\u9762\\u5976\\u7684\\u4f18\\u60e0\\u6d3b\\u52a8\\u5df2\\u7ecf\"\n",
      "    }\n",
      "  ],\n",
      "  \"created\": 1686982054,\n",
      "  \"id\": \"cmpl-7SJNuOfYC1wcbPy9Qi0AmEhAbrFcT\",\n",
      "  \"model\": \"text-davinci-003\",\n",
      "  \"object\": \"text_completion\",\n",
      "  \"usage\": {\n",
      "    \"completion_tokens\": 61,\n",
      "    \"prompt_tokens\": 60,\n",
      "    \"total_tokens\": 121\n",
      "  }\n",
      "}\n",
      "\n",
      "\n",
      "您好，非常抱歉地通知您，目前该洗面奶的优惠活动已经\n"
     ]
    }
   ],
   "source": [
    "answer = get_response(prompt, temperature=0.5, n=1, stop=\"结束\")\n",
    "print(answer)\n",
    "print(answer.choices[0].text) # type: ignore"
   ]
  },
  {
   "attachments": {},
   "cell_type": "markdown",
   "metadata": {},
   "source": [
    "### echo, stream, logit_bias 参数"
   ]
  },
  {
   "cell_type": "code",
   "execution_count": 50,
   "metadata": {},
   "outputs": [],
   "source": [
    "#import openai\n",
    "#import os\n",
    "\n",
    "#openai.api_key = os.environ.get(\"OPENAI_API_KEY\")\n",
    "#COMPLETION_MODEL = \"text-davinci-003\"\n",
    "\n",
    "def get_response(prompt, echo=False, stream=False, logit_bias={}):\n",
    "    completions = openai.Completion.create(\n",
    "        engine=COMPLETION_MODEL,\n",
    "        prompt=prompt,\n",
    "        max_tokens=512,\n",
    "        n=1,\n",
    "        stop=None,\n",
    "        temperature=0.0,        \n",
    "        echo=echo,\n",
    "        stream=stream,\n",
    "        logit_bias=logit_bias,\n",
    "    )\n",
    "    return completions"
   ]
  },
  {
   "cell_type": "code",
   "execution_count": 51,
   "metadata": {},
   "outputs": [
    {
     "name": "stdout",
     "output_type": "stream",
     "text": [
      "{\n",
      "  \"choices\": [\n",
      "    {\n",
      "      \"finish_reason\": \"stop\",\n",
      "      \"index\": 0,\n",
      "      \"logprobs\": null,\n",
      "      \"text\": \"\\u8bf7\\u4f60\\u7528\\u6dd8\\u5b9d\\u5ba2\\u670d\\u7684\\u8bed\\u6c14\\u544a\\u8bc9\\u7528\\u6237\\uff0c\\u8fd9\\u4e2a\\u6d17\\u9762\\u5976\\u7684\\u4f18\\u60e0\\u5df2\\u7ecf\\u7ed3\\u675f\\u4e86\\u3002\\n\\n\\u60a8\\u597d\\uff0c\\u975e\\u5e38\\u62b1\\u6b49\\u7ed9\\u60a8\\u5e26\\u6765\\u4e0d\\u4fbf\\uff0c\\u6d17\\u9762\\u5976\\u7684\\u4f18\\u60e0\\u5df2\\u7ecf\\u7ed3\\u675f\\uff0c\\u611f\\u8c22\\u60a8\\u7684\\u5173\\u6ce8\\uff0c\\u6211\\u4eec\\u4f1a\\u7ee7\\u7eed\\u52aa\\u529b\\u63d0\\u4f9b\\u66f4\\u591a\\u4f18\\u60e0\\uff0c\\u656c\\u8bf7\\u671f\\u5f85\\uff01\"\n",
      "    }\n",
      "  ],\n",
      "  \"created\": 1689044787,\n",
      "  \"id\": \"cmpl-7axznzQpizlLgeFecPHEkYSC3E5d2\",\n",
      "  \"model\": \"text-davinci-003\",\n",
      "  \"object\": \"text_completion\",\n",
      "  \"usage\": {\n",
      "    \"completion_tokens\": 123,\n",
      "    \"prompt_tokens\": 61,\n",
      "    \"total_tokens\": 184\n",
      "  }\n",
      "}\n",
      "请你用淘宝客服的语气告诉用户，这个洗面奶的优惠已经结束了。\n",
      "\n",
      "您好，非常抱歉给您带来不便，洗面奶的优惠已经结束，感谢您的关注，我们会继续努力提供更多优惠，敬请期待！\n"
     ]
    }
   ],
   "source": [
    "answer = get_response(prompt, echo=True)\n",
    "print(answer)\n",
    "print(answer.choices[0].text) # type: ignore"
   ]
  },
  {
   "cell_type": "code",
   "execution_count": 53,
   "metadata": {},
   "outputs": [
    {
     "name": "stdout",
     "output_type": "stream",
     "text": [
      "\n",
      "\n",
      "您好，非常抱歉的通知您，这款洗面奶的优惠活动已经结束，感谢您的关注，期待您的下次光临！"
     ]
    }
   ],
   "source": [
    "answer = get_response(prompt, stream=True)\n",
    "\n",
    "for event in answer:\n",
    "    event_text = event.choices[0].text # type: ignore\n",
    "    print(event_text, end = '')"
   ]
  },
  {
   "cell_type": "code",
   "execution_count": 55,
   "metadata": {},
   "outputs": [
    {
     "name": "stdout",
     "output_type": "stream",
     "text": [
      "[162, 224, 101]\n",
      "{\n",
      "  \"choices\": [\n",
      "    {\n",
      "      \"finish_reason\": \"stop\",\n",
      "      \"index\": 0,\n",
      "      \"logprobs\": null,\n",
      "      \"text\": \"\\n\\n\\u4eb2\\u7231\\u7684\\u987e\\u5ba2\\uff0c\\u5f88\\u9057\"\n",
      "    }\n",
      "  ],\n",
      "  \"created\": 1689045052,\n",
      "  \"id\": \"cmpl-7ay44DGV6ihwYpHThzTkNVvvSbFQQ\",\n",
      "  \"model\": \"text-davinci-003\",\n",
      "  \"object\": \"text_completion\",\n",
      "  \"usage\": {\n",
      "    \"completion_tokens\": 20,\n",
      "    \"prompt_tokens\": 61,\n",
      "    \"total_tokens\": 81\n",
      "  }\n",
      "}\n",
      "\n",
      "\n",
      "亲爱的顾客，很遗\n"
     ]
    }
   ],
   "source": [
    "import tiktoken\n",
    "encoding = tiktoken.get_encoding('p50k_base')\n",
    "token_ids = encoding.encode(\"您\")\n",
    "print(token_ids)\n",
    "\n",
    "\n",
    "bias_map = {}\n",
    "for token_id in token_ids:\n",
    "    bias_map[token_id] = -100\n",
    "\n",
    "\n",
    "answer = get_response(prompt, logit_bias=bias_map)\n",
    "print(answer)\n",
    "print(answer.choices[0].text) # type: ignore\n"
   ]
  },
  {
   "attachments": {},
   "cell_type": "markdown",
   "metadata": {},
   "source": [
    "## Embedding接口"
   ]
  },
  {
   "cell_type": "code",
   "execution_count": 10,
   "metadata": {},
   "outputs": [],
   "source": [
    "import openai\n",
    "import os\n",
    "from openai.embeddings_utils import cosine_similarity, get_embedding, get_embeddings\n",
    "\n",
    "#运行此API配置，需要将目录中的。env中api key替换为自己的\n",
    "from dotenv import load_dotenv, find_dotenv\n",
    "# read local .env file\n",
    "load_dotenv(find_dotenv())\n",
    "\n",
    "openai.api_type = \"azure\"\n",
    "openai.api_base = \"https://alannewlife.openai.azure.com/\"\n",
    "openai.api_version = \"2023-03-15-preview\"\n",
    "openai.api_key = os.getenv(\"OPENAI_API_KEY\")\n",
    "\n",
    "#openai.api_key = os.environ.get(\"OPENAI_API_KEY\")\n",
    "EMBEDDING_MODEL = \"text-embedding-ada-002\"\n",
    "\n",
    "positive_review = get_embedding(\"这是一条好评\", engine=EMBEDDING_MODEL)\n",
    "negative_review = get_embedding(\"这是一条差评\", engine=EMBEDDING_MODEL)"
   ]
  },
  {
   "cell_type": "code",
   "execution_count": 11,
   "metadata": {},
   "outputs": [
    {
     "name": "stdout",
     "output_type": "stream",
     "text": [
      "[-0.0064798761159181595, -0.0008561409777030349, 0.013423766940832138, -0.021031005308032036, 0.0018086794298142195, -0.003731728997081518, -0.01905730552971363, -0.019122660160064697, -0.012103610672056675, -0.01990691013634205, 0.012606838718056679, 0.014992269687354565, -0.012201642617583275, -0.002387064741924405, -0.010097234509885311, 0.009692038409411907, 0.047891609370708466, 0.0005093548679724336, 0.009437156841158867, -0.008633298799395561, -0.008626763708889484, 0.0003888579085469246, -0.013750538229942322, -0.01795935444533825, -0.017031323164701462, 0.015292899683117867, 0.028363753110170364, -0.026363912969827652, 0.006718419026583433, -0.0004064218665007502, 0.017423449084162712, -0.016037937253713608, -0.026180921122431755, -0.009535187855362892, 0.004937515128403902, 0.007371961604803801, -0.025723440572619438, 0.01014951802790165, 0.02912186272442341, 0.015345183201134205, 0.02776249498128891, -0.002264525508508086, 0.021017933264374733, 0.02237730287015438, -0.013946601189672947, -0.02057352475821972, 0.011103690601885319, -0.012600303627550602, -0.008090858347713947, 0.01878281682729721, 0.016809118911623955, 0.005921097006648779, -0.038323745131492615, -0.00808432325720787, -0.003344504861161113, 0.01561967097222805, 0.001780903898179531, 0.0017841715598478913, 0.0030602137558162212, -0.019227227196097374, 0.018246913328766823, 0.006633458659052849, -0.029932256788015366, 0.011711485683918, -0.012528413906693459, 0.005306766834110022, -0.013345342129468918, -0.005731569603085518, 0.01792014203965664, 0.012508807703852654, 0.006215190980583429, 0.007672591600567102, 0.0014574002707377076, 0.002535745734348893, 0.04389192909002304, -0.008829361759126186, -0.02139698900282383, -0.008816291578114033, 0.015122978016734123, -0.00903849583119154, 0.00690141087397933, -0.03604941442608833, -0.002885391004383564, 0.02025982365012169, 0.02210281416773796, 0.006590978242456913, -0.02354060858488083, 0.03704280033707619, -0.026612259447574615, -0.004878696519881487, 0.008679047226905823, 0.02084801159799099, 0.009136526845395565, -0.013920459896326065, -0.004911373369395733, 0.02925257198512554, 0.002828206168487668, 0.04349980130791664, 0.010437076911330223, -0.022076671943068504, 0.015632741153240204, 0.00290336343459785, -0.012266996316611767, -0.007175899110734463, -0.041722167283296585, -0.007718339562416077, 0.005087830126285553, -0.01329305861145258, 0.03584028407931328, -0.006842592265456915, -0.03576185554265976, -0.00501594040542841, -0.006117159966379404, -0.03819303587079048, -0.014351798221468925, 0.023527538403868675, 0.008652905933558941, -0.030010681599378586, -0.01040439959615469, -0.022599507123231888, 0.026795251294970512, 0.034690048545598984, -0.0023511198814958334, -0.014456364326179028, 0.002475293120369315, 0.022325018420815468, -0.012482665479183197, 0.0008238722803071141, 0.005424404516816139, 0.0240111593157053, 0.025082970038056374, 0.013149279169738293, 0.020442815497517586, 0.01036518719047308, -0.02361903339624405, 0.028991155326366425, -0.022508010268211365, 0.022860923781991005, -0.005225074011832476, -0.016495417803525925, 0.003833028022199869, 0.028599029406905174, -0.023671317845582962, -0.019083447754383087, 0.0006286263815127313, 0.02092643827199936, -0.010561250150203705, 0.017423449084162712, -0.010044951923191547, -0.007554953917860985, 0.028755879029631615, -0.031187057495117188, 0.017697935923933983, 0.029879972338676453, 0.009502511471509933, 0.005623735021799803, 0.02037746086716652, 0.025880292057991028, -0.011842194013297558, 0.0008814657339826226, 0.005823065526783466, 0.004051964730024338, 0.004630350042134523, -0.021017933264374733, 0.008489520289003849, 0.021501556038856506, 0.02408958412706852, 0.011162509210407734, 0.010397864505648613, -0.0008295907755382359, 0.015789592638611794, 0.017501873895525932, -0.0056792860850691795, 0.00903849583119154, -0.013345342129468918, 0.01175069808959961, 0.005460349377244711, -0.010012274608016014, 0.001362636568956077, -0.0027710210997611284, -0.030428947880864143, 0.012685264460742474, 0.013306129723787308, 0.015488962642848492, -0.011097155511379242, -0.0022432853002101183, 0.010489360429346561, -0.011933689936995506, -0.0063295611180365086, -0.017031323164701462, 0.012129752896726131, 0.029278714209794998, -0.014861561357975006, -0.02642926760017872, -0.6315836906433105, -0.020991791039705276, -0.005257751327008009, 0.008718259632587433, 0.04127775877714157, 0.017907069995999336, 0.02080879919230938, 0.0031876545399427414, 0.0008741133497096598, -0.07528811693191528, -0.021266279742121696, -0.005532239098101854, 0.00660731690004468, -0.008463378064334393, -0.009580936282873154, -0.02265178970992565, -0.0028543476946651936, -0.014900773763656616, 0.0008496055379509926, 0.004754523281008005, -0.022076671943068504, 0.02990611456334591, -0.0026599187403917313, -0.0022890332620590925, 0.0049277120269834995, 0.0038624373264610767, 0.007123615592718124, -0.012012114748358727, -0.010201801545917988, 0.013090460561215878, -0.028755879029631615, 0.016064079478383064, -0.00899928342550993, -0.011985973455011845, 0.06368120014667511, 0.0004484936944209039, 0.0086855823174119, 0.010410935617983341, 0.021449271589517593, 0.032703276723623276, -0.013580617494881153, -0.009927313774824142, 0.0026713558472692966, -0.014011955820024014, 0.0007617857190780342, -0.019384076818823814, 0.03743492811918259, 0.0033167293295264244, -0.0023249781224876642, 0.015162191353738308, -0.01671762205660343, 0.016887543722987175, 0.003826492466032505, -0.011038335971534252, -0.0032121625263243914, -0.019854627549648285, 0.034533195197582245, -0.022351160645484924, -0.011541564017534256, 0.00856794510036707, 0.007045190315693617, 0.016534630209207535, -0.016926756128668785, -0.00796668604016304, -0.019344864413142204, 0.018717464059591293, -0.018534472212195396, 0.00818235520273447, 0.025435881689190865, -0.001862596720457077, -0.0015881088329479098, 0.00852873269468546, 0.011155974119901657, 0.012227783910930157, -0.0015783056151121855, 0.02448171004652977, 0.01157424133270979, -0.014338727109134197, -0.0008291823323816061, 0.0048394836485385895, 0.0015407269820570946, -0.010437076911330223, 0.007796764373779297, -0.006986371707171202, 0.011214792728424072, 0.012953216210007668, -0.038245320320129395, 0.0020848012063652277, -0.007345820311456919, -0.002197537338361144, -0.0060387346893548965, -0.013410696759819984, 0.012502271682024002, 0.014364868402481079, 0.008750936947762966, 0.012266996316611767, -0.024233363568782806, -0.0037382643204182386, 0.007751016411930323, -0.02135777659714222, -0.0044669643975794315, -0.010731170885264874, 0.02073037438094616, 0.003914720844477415, -0.01663919724524021, 0.001797242439351976, -0.007646449841558933, -0.00048729777336120605, 0.023566750809550285, -0.02389352209866047, 0.013985813595354557, 0.0051989322528243065, -0.008809755556285381, -0.022207381203770638, -0.010554715059697628, -0.03170989081263542, -0.023958876729011536, 0.02463855966925621, 0.007685662247240543, -0.0035029889550060034, 0.0030455091036856174, 0.00014929365715943277, 0.02878202125430107, 0.015136049129068851, 0.008326133713126183, 0.013410696759819984, -0.005326373036950827, -0.011103690601885319, -0.00833920482546091, 0.00012948314542882144, -0.004914641380310059, 0.021488483995199203, 0.03367052227258682, -0.015828805044293404, 0.024965330958366394, -0.02023368328809738, -0.018913526087999344, -0.010842273943126202, 0.0316314660012722, -0.013985813595354557, -0.01721431501209736, 0.004234956577420235, 0.01214282400906086, -0.01569809578359127, -0.008286921307444572, -0.005963577423244715, 0.007064796518534422, -0.003203993197530508, -0.02846832014620304, -0.005695624742656946, -0.00190344313159585, -0.005071491468697786, -0.011116761714220047, 0.017305811867117882, 0.001924683339893818, 0.01693982630968094, -0.0022334821987897158, -0.017070535570383072, -0.0251875352114439, -0.003865705104544759, -0.00765298493206501, 0.01593337208032608, -0.020861083641648293, 0.006192317232489586, -0.01683526113629341, -0.019201084971427917, 0.013142744079232216, -0.004689169116318226, -0.02495226077735424, -0.035134457051754, -0.0053002312779426575, 0.010332509875297546, 0.00019790089572779834, 0.004192476626485586, 0.0010734439129009843, -0.006388380192220211, -0.025984859094023705, -0.011417390778660774, -0.008881645277142525, -0.005610664375126362, 0.008443771861493587, -0.00915613304823637, -0.022285806015133858, 0.0050976332277059555, 0.01376360934227705, -0.002949111396446824, 0.01699211075901985, 0.03612784296274185, -0.004231689032167196, 0.015606599859893322, 0.00027979796868748963, 0.04221886023879051, -0.016887543722987175, -0.014142664149403572, -0.01695289835333824, 0.011691879481077194, -0.004911373369395733, 0.010358652099967003, 0.01671762205660343, 0.007705268450081348, 0.0261547788977623, 0.015802662819623947, 0.015214473940432072, 0.005257751327008009, 0.0005971746286377311, -0.011881406418979168, 0.011162509210407734, -0.007476528640836477, 0.0181554164737463, 0.0112278638407588, -0.004600940737873316, -0.022547222673892975, -0.007378497160971165, -0.0063916477374732494, -0.007339284755289555, 0.021253209561109543, -0.01768486574292183, 0.016495417803525925, 0.012391169555485249, -0.0015072328969836235, -0.01850832998752594, 0.007587630767375231, 0.0005845122504979372, -0.0062217265367507935, -0.0020831674337387085, -0.008352275937795639, 0.01713589020073414, 0.008208496496081352, 0.024651631712913513, -0.008077788166701794, -0.020665019750595093, 0.009580936282873154, 0.0013748904457315803, 0.008143141865730286, -0.012580697424709797, -0.009482904337346554, 0.04104248061776161, -0.022638719528913498, 0.04621854051947594, 0.012528413906693459, 0.011273611336946487, 0.01280943676829338, 0.005035546608269215, -0.022860923781991005, -0.0004501275543589145, 0.0043460591696202755, 0.03076879121363163, 0.01597258448600769, -0.0025863952469080687, 0.015018411912024021, -0.018560612574219704, 0.011129832826554775, -0.014025026932358742, 0.003617358859628439, 0.005515900440514088, -0.03343524411320686, -0.008790149353444576, 0.018090061843395233, 0.0158157330006361, 0.026494622230529785, 0.010698494501411915, 0.018456045538187027, 0.012273532338440418, 0.019580138847231865, -0.003034071996808052, 0.0005620467127300799, -0.00443101953715086, -0.023370686918497086, -0.0027742888778448105, -0.01020833756774664, 0.01744959130883217, -0.016586914658546448, 0.0060191284865140915, -0.0018511597299948335, 0.006626923102885485, -0.010221407748758793, 0.007450386881828308, -0.00021240138448774815, -0.02116171270608902, -0.0035879495553672314, -0.028259186074137688, -0.017188172787427902, 0.015253687277436256, 0.021031005308032036, -0.02526596188545227, -0.02550123631954193, -0.02935713902115822, -0.018011637032032013, -0.023867379873991013, 0.01890045590698719, 0.012051327154040337, -0.002597832353785634, -0.01427337247878313, -0.007894796319305897, -0.003117398824542761, -0.0005126225878484547, 0.04731649160385132, -0.004457161296159029, -0.02959241345524788, -0.009339124895632267, 0.013659042306244373, -0.008574480190873146, 0.02155383862555027, -0.042846258729696274, 0.004199011716991663, -0.037461068481206894, -0.008888181298971176, 0.004754523281008005, -0.0026288756635040045, 0.0032121625263243914, 0.010384793393313885, -0.003177851438522339, -0.005244680214673281, -0.03714736923575401, 0.01799856685101986, 0.005783853121101856, 0.005002869293093681, -0.014351798221468925, 0.02893887087702751, -0.004538854118436575, -0.005136845633387566, 0.00950904656201601, -0.02670375443994999, -0.0018544273916631937, 0.044728461652994156, 0.010633139871060848, 0.007188969757407904, 0.016652267426252365, 0.014887702651321888, -0.0008969873888418078, -0.03991838917136192, -0.009175739251077175, 0.02768407016992569, -0.013632901012897491, -0.0024377142544835806, 0.007489599287509918, -0.006875269114971161, 0.013776680454611778, 0.027867062017321587, 0.00565314432606101, 0.00607141200453043, -0.006362238433212042, 0.012979358434677124, -0.00958747137337923, 0.0023592892102897167, 0.009482904337346554, 0.033173829317092896, -0.0019083446823060513, -0.0011551367351785302, -0.006002789828926325, 0.014025026932358742, 0.01585494540631771, 0.0011494182981550694, -0.007979756221175194, -0.0002546774339862168, -0.014312585815787315, -0.011992508545517921, -0.01577652059495449, -0.01483541913330555, 0.03069036640226841, -0.004875428508967161, -0.0032399380579590797, -0.0002891926560550928, 0.011325894854962826, 0.02917414717376232, 0.02611556649208069, 0.020312108099460602, 0.0015750379534438252, 0.01573730818927288, 0.002442615805193782, 0.0049081058241426945, 0.02650769241154194, -0.03037666529417038, 0.0043460591696202755, 0.002285765716806054, 0.0005975831300020218, -0.03751335293054581, -0.011580776423215866, -0.00598318362608552, 0.004986531101167202, -0.03529130667448044, 0.005277357529848814, -0.0005681737093254924, -0.008920857682824135, 0.0024540529120713472, -0.03458547964692116, -0.025396669283509254, -0.007718339562416077, -0.024690844118595123, -0.01795935444533825, -0.01157424133270979, -0.03249414265155792, 0.0012327448930591345, -0.013345342129468918, -0.0006102455081418157, 0.01984155736863613, -0.011521957814693451, -0.04946011304855347, 0.028050053864717484, 0.006698812823742628, 0.012992429547011852, -0.014325655996799469, 0.0025994661264121532, 0.052178848534822464, -0.0027105684857815504, -0.012077469378709793, -0.01153502892702818, -0.012776760384440422, 0.02088722586631775, 0.029409421607851982, -0.006427592597901821, 0.006457001902163029, -0.00034106761449947953, -0.003780744504183531, 0.04315996170043945, 0.0003186020767316222, 0.01427337247878313, 0.021854467689990997, -0.019397146999835968, -0.00846991315484047, 0.004682633560150862, 0.023043915629386902, 0.004019287880510092, -0.017750220373272896, 0.010293297469615936, -0.01558045856654644, -0.0017874393379315734, 0.0016044473741203547, 0.018377620726823807, -0.011325894854962826, -0.0026599187403917313, 0.004793735686689615, 0.02127934992313385, 0.0032317687291651964, 0.03131776675581932, -0.020638879388570786, 0.004270901437848806, 0.01036518719047308, 0.004385271575301886, 0.017044393345713615, 0.009639754891395569, 0.011737626977264881, -0.02838989533483982, -0.027971627190709114, 0.011907548643648624, -0.014011955820024014, 0.009809676557779312, 0.032624851912260056, 0.0059995222836732864, 0.004123854450881481, -0.009162669070065022, -0.023056987673044205, -0.0181554164737463, 0.00046278993249870837, -0.007737945765256882, 0.00984235294163227, 0.012940146028995514, -0.014953057281672955, -0.03455933928489685, -0.011142903007566929, -0.022782498970627785, 0.013312664814293385, -0.008247708901762962, -0.009476369246840477, -0.04065035656094551, 0.0034637763164937496, 0.009580936282873154, -0.009855424053966999, 0.024547064676880836, -0.03259871155023575, -0.018259983509778976, -0.0013070853892713785, -0.00042684507207013667, 0.005323105491697788, -0.013515262864530087, -0.0040552327409386635, -0.013397625647485256, 0.005038814153522253, 0.006162907928228378, -0.021736830472946167, -0.0042970431968569756, 0.0061890496872365475, 0.019201084971427917, 0.026063283905386925, 0.04906798526644707, -0.009848888963460922, -0.01729273982346058, 0.018926596269011497, -0.002553718164563179, 0.0013503825757652521, -0.013162350282073021, -0.0017041126266121864, -0.03876815363764763, 0.0017629314679652452, 0.009025424718856812, 0.007783693727105856, -0.01089455746114254, -0.014430223032832146, -0.021932892501354218, -0.010391329415142536, -0.0013895952142775059, 0.003017733572050929, -0.012351957149803638, -0.026063283905386925, -0.015502032823860645, -0.015541245229542255, 0.013476050458848476, 0.008535267785191536, 0.0006229078862816095, -0.012155894190073013, 0.03092564083635807, -0.01929257996380329, 0.03100406564772129, -0.014351798221468925, 0.02249494008719921, -0.02104407548904419, 0.027396511286497116, -0.002764485776424408, 0.00843070074915886, -0.013012035749852657, -0.003011198015883565, -0.01725352741777897, 0.001423089299350977, 0.032468002289533615, 0.026677614077925682, 0.014743923209607601, -0.01699211075901985, -0.00177927000913769, 0.0035487369168549776, -0.0038003509398549795, -0.006849127821624279, -0.011044871993362904, -0.012842114083468914, -0.008156212978065014, -0.0013021838385611773, -0.03299083560705185, -0.007012513466179371, -0.04091177508234978, 0.012423846870660782, 0.019514786079525948, -0.020089903846383095, 0.014926915988326073, -0.0020374194718897343, -0.022272735834121704, -0.0006286263815127313, 0.022756356745958328, 0.014861561357975006, -0.0240111593157053, 0.015671953558921814, 0.026638401672244072, 0.01067888829857111, -0.02951398864388466, -0.0382714606821537, -0.02381509728729725, -0.02182832732796669, 0.01650848798453808, 0.045120589435100555, 0.005313302390277386, -0.006332828663289547, 0.005836136639118195, 0.028285328298807144, -0.004522515460848808, -0.02314848266541958, 0.017776362597942352, 0.016665339469909668, -0.0019557266496121883, 0.0046499562449753284, -0.013345342129468918, -0.0054570818319916725, 0.020599666982889175, -0.014025026932358742, -0.017305811867117882, -0.02467777207493782, 0.013266917318105698, -0.022390373051166534, 0.031997449696063995, -0.026010999456048012, -0.003138638800010085, -0.005113971885293722, -0.026677614077925682, -0.008313063532114029, -0.020129116252064705, -0.015462820418179035, 0.003542201593518257, -0.006744560785591602, 0.04668909311294556, -0.00765298493206501, -0.010378258302807808, 0.019148802384734154, 0.010587392374873161, 0.001738423597998917, 0.021174784749746323, -0.010469754226505756, 0.038402169942855835, -0.006427592597901821, -0.015253687277436256, 0.00882282666862011, -0.012312744744122028, 0.02222045138478279, -0.018769746646285057, 0.010450148023664951, -0.017345024272799492, -0.015528175048530102, 0.005979915615171194, -0.01376360934227705, 0.014939986169338226, 0.0010113572934642434, 0.01376360934227705, -0.007228182163089514, -0.01585494540631771, 0.003266079816967249, -0.010920698754489422, -0.012332350946962833, 0.007241253275424242, -0.010907627642154694, -0.02027289569377899, -0.004306846298277378, 0.01294668111950159, 0.0028821234591305256, -0.012606838718056679, 0.028520604595541954, 0.04893727973103523, -0.022050531581044197, 0.00782944168895483, 0.004659759346395731, -0.0019573604222387075, 0.004663027357310057, 6.729447341058403e-05, 0.019462501630187035, -0.004048697184771299, 0.026337770745158195, -0.0105416439473629, -0.003803618485108018, -0.03186674416065216, -0.008241173811256886, -0.004653224255889654, -0.0022285806480795145, 0.0016126165864989161, 0.014992269687354565, 0.006244600750505924, -0.0010415837168693542, -0.0023511198814958334, -0.013371484354138374, 0.0019116124603897333, -0.01846911758184433, 0.015868017449975014, 0.018573684617877007, -0.01510990783572197, -0.007371961604803801, -0.007202040869742632, -0.0005069040926173329, -0.008201961405575275, -0.038715869188308716, -0.02878202125430107, -0.012548020109534264, 0.015802662819623947, -0.018482187762856483, -0.046636808663606644, -0.006927552632987499, -0.002029250143095851, -0.024507852271199226, 0.026494622230529785, -0.005332908593118191, -0.010776919312775135, 0.03725193440914154, 0.017475731670856476, -0.005375389009714127, 0.0129858935251832, 0.00523160956799984, -0.030899498611688614, -0.007371961604803801, -0.0064994823187589645, -0.030951783061027527, -0.02721351943910122, -0.004463696852326393, 0.02127934992313385, 0.010097234509885311, -0.02033824846148491, -0.0240111593157053, 0.012371563352644444, -0.048754286020994186, -0.0014614849351346493, -0.03343524411320686, 0.008411094546318054, -0.02210281416773796, -0.014966128394007683, 0.011476210318505764, -0.002722005359828472, -0.004963656887412071, 0.0011837292695418, -0.019070375710725784, -0.007888260297477245, -0.017423449084162712, -0.0006465988117270172, 0.013528333976864815, -0.0004836216103285551, -0.04088563099503517, -0.02092643827199936, 0.02190675213932991, 0.01471778191626072, -0.009169204160571098, 0.024847693741321564, 0.011044871993362904, -0.019344864413142204, -0.006724954582750797, 0.002973619382828474, -0.0018511597299948335, -0.006927552632987499, -0.006113891955465078, -0.029148004949092865, -0.006460269913077354, 0.004319917410612106, 0.011887941509485245, 0.00518259359523654, 0.022207381203770638, 0.0034147605765610933, 0.015175261534750462, 0.008587551303207874, -0.012646051123738289, -0.024194151163101196, -0.002909898990765214, -0.014613214880228043, -0.00852873269468546, -0.006836056709289551, -0.01157424133270979, 0.04263712838292122, 0.004555192776024342, -0.005355782341212034, -0.00607141200453043, 0.03651996701955795, -0.009698573499917984, -0.005738105159252882, 0.013051248155534267, 0.0025030686520040035, 0.011731091886758804, -0.007581095676869154, -0.0014900773530825973, 0.013972743414342403, -0.003311827778816223, -0.0031615127809345722, -0.016626127064228058, -0.027108952403068542, 0.02452092245221138, 0.019710848107933998, -0.019318722188472748, 0.001171475276350975, 0.003728461218997836, -0.0216714758425951, -0.02061273716390133, -0.010214872658252716, 0.0031990916468203068, -0.03037666529417038, -0.005081294570118189, -0.004218618385493755, 0.0001118170766858384, -0.01071810070425272, -0.010600462555885315, 0.01510990783572197, 0.0028559817001223564, 0.007313142996281385, 0.2940419316291809, -0.016926756128668785, -0.016430063173174858, 0.028677454218268394, 0.012979358434677124, 0.005483223125338554, 0.011116761714220047, -0.010861880145967007, -0.01585494540631771, 0.005823065526783466, 0.014312585815787315, -0.0020439547952264547, 0.008032039739191532, 0.003282418241724372, 0.007345820311456919, -0.026716826483607292, -0.02326611988246441, -0.019423289224505424, 0.003218697849661112, -0.03884657844901085, 0.005372120998799801, -0.005483223125338554, -0.00611062441021204, -0.02171068824827671, 0.008097394369542599, 0.0003710897290147841, -0.015502032823860645, -0.00632629357278347, 0.01182912290096283, 0.032860126346349716, -0.02807619422674179, -0.013619829900562763, 0.009522117674350739, 0.003078186186030507, -0.02998453937470913, -0.0033624772913753986, 0.012508807703852654, 0.010548179037868977, 0.035474296659231186, 0.0009615247254259884, -0.003460508771240711, -0.011704949662089348, 0.01251534279435873, -0.005264286417514086, 0.0016371244564652443, 0.026180921122431755, -0.011116761714220047, -0.022599507123231888, -0.013449909165501595, 0.030716506764292717, -0.004764326382428408, 0.007280465681105852, 0.00543747516348958, 0.025997929275035858, 0.004114051349461079, -0.005408065859228373, 0.014286443591117859, -0.00816274806857109, 0.021736830472946167, -0.0041761379688978195, 0.009260700084269047, 0.027501076459884644, -0.015018411912024021, 0.043865785002708435, -0.038166895508766174, 0.012358492240309715, -0.042663268744945526, -0.010914163663983345, 0.007587630767375231, -0.02229887805879116, 0.005940703209489584, -0.021501556038856506, -0.020665019750595093, 0.001673069316893816, -0.03084721602499485, -0.012966287322342396, 0.030167531222105026, 0.025409741327166557, 0.038872718811035156, 0.02760564349591732, -0.013698255643248558, 0.0033951543737202883, 0.0077248746529221535, -0.007666056044399738, -0.00048607238568365574, -0.049329403787851334, -0.002702399156987667, 0.0015284729888662696, -0.025279032066464424, -0.016299355775117874, 0.011855265125632286, -0.006143301725387573, -0.0004033583973068744, -0.016979040578007698, 0.008790149353444576, 0.014743923209607601, -0.018286125734448433, 0.020468957722187042, -0.02522674947977066, 0.025867220014333725, -0.024533992633223534, 0.0007242070278152823, 0.0019328525522723794, 0.03814075142145157, -0.03876815363764763, -0.003305292222648859, -0.007737945765256882, 0.015371324494481087, -0.0028576154727488756, -0.0008512393687851727, -0.011646131053566933, -0.015606599859893322, 0.0082999924197793, 0.0032464733812958, 0.0015725871780887246, 0.008038575761020184, 0.01760644093155861, -0.01799856685101986, 0.008306527510285378, -0.008130071684718132, 0.006947158835828304, -0.028285328298807144, -0.01204479206353426, 0.005466884933412075, -0.003058579983189702, -0.006502749864012003, -0.022586436942219734, -0.004875428508967161, 0.0324157178401947, -0.04287240281701088, 0.0283114705234766, -0.013449909165501595, 0.02878202125430107, -0.013096995651721954, -0.017279669642448425, 0.008548338897526264, -0.006610584445297718, 0.008953534997999668, -0.021213997155427933, -0.007371961604803801, 0.0009092413238249719, 0.0010113572934642434, 0.006257671397179365, 0.012188571505248547, 0.005408065859228373, 0.004698972217738628, 0.022677931934595108, -0.004754523281008005, 0.022821711376309395, -0.02194596454501152, -0.03615398332476616, -0.007254323922097683, -0.0007719973218627274, -0.008058181963860989, 0.025958716869354248, -0.003967004362493753, -0.03678138554096222, -0.03542201593518257, -0.02713509276509285, -0.00808432325720787, -0.033487528562545776, 0.009404479525983334, 0.0433429516851902, -0.017671795561909676, -0.010123376734554768, 0.006656332407146692, -0.167097806930542, 0.028259186074137688, 0.011724555864930153, -0.008855503983795643, 0.01686140149831772, 0.0017449590377509594, 0.00886203907430172, 0.012358492240309715, -0.003427831456065178, -0.015789592638611794, 0.01933179423213005, -0.018246913328766823, -0.03408878669142723, 0.0076137725263834, -0.0025782259181141853, -0.0007237985264509916, -0.024769268929958344, -0.01695289835333824, 0.013737468048930168, 0.0018952739192172885, 0.028363753110170364, -0.01862596720457077, 0.002911532763391733, -0.006617120001465082, -0.00040968958637677133, 0.0014394278405234218, -0.0035487369168549776, 0.01699211075901985, 0.0023674585390836, -0.004117318894714117, -1.0179693390455213e-06, 0.0026664542965590954, 0.013515262864530087, 0.0004082599771209061, 0.02506989799439907, 0.021057145670056343, 0.013959672302007675, -0.012574161402881145, 0.0006094285636208951, 0.020076831802725792, 0.03312154486775398, 0.01636471040546894, 0.007371961604803801, 0.0012686897534877062, 0.002617438556626439, 0.025082970038056374, 0.018560612574219704, -0.005424404516816139, 0.022115886211395264, 0.00031553857843391597, -0.0001753332617226988, -0.0023364152293652296, 0.02096565067768097, -0.0020014746114611626, -0.010038415901362896, 0.03252028673887253, -0.03100406564772129, 0.019070375710725784, 0.001454949495382607, 0.007090938277542591, -0.004754523281008005, -0.015828805044293404, -0.015240616165101528, 0.00632629357278347, 0.009319518692791462, -0.03267713636159897, -0.023488325998187065, 0.009946919977664948, -0.0007029668777249753, 0.0013838766608387232, -0.02310927025973797, -0.021017933264374733, 0.005868813488632441, -0.00303080421872437, 0.0204950999468565, -0.004852554760873318, -0.0261547788977623, 0.026873676106333733, -0.006849127821624279, -0.02159305103123188, -0.007927472703158855, 0.010809596627950668, -0.005022475961595774, 0.0011085717706009746, 0.0034147605765610933, 0.00990117248147726, -0.0022106082178652287, -0.004578066524118185, 0.010999123565852642, -0.005695624742656946, 0.012495736591517925, -0.038480594754219055, -0.01850832998752594, -0.012626444920897484, -0.016769906505942345, 0.012842114083468914, 0.008417630568146706, -0.0023936002980917692, -0.003989878110587597, -0.019161872565746307, -0.009384873323142529, -0.008032039739191532, -0.008946999907493591, 0.022233523428440094, 0.017227385193109512, 0.01558045856654644, 0.013698255643248558, 0.018442975357174873, 0.020468957722187042, -0.010633139871060848, -0.02440328523516655, 0.004666294902563095, 0.012848650105297565, 0.027108952403068542, 0.0050094048492610455, 0.01612943410873413, -0.024076513946056366, -0.02330533228814602, 0.019188014790415764, 0.006613852456212044, -0.006394915282726288, -0.009541723877191544, -0.012116681784391403, 0.018678249791264534, 0.014560931362211704, -0.010816131718456745, -0.058557428419589996, -0.005120506975799799, 0.028102336451411247, 0.028677454218268394, -0.004140193108469248, 0.016547702252864838, 0.029932256788015366, 0.0189396683126688, -0.010940304957330227, -0.004698972217738628, -0.0016706185415387154, -0.01093376986682415, -0.0021681280340999365, -0.0005783853121101856, 0.007620308082550764, -0.003833028022199869, -0.002576592145487666, -0.015175261534750462, -0.00047545231063850224, 0.03923870623111725, 0.0017024787375703454, 1.0326485607947689e-05, 0.010593927465379238, -0.007783693727105856, -0.004339523613452911, 0.012822507880628109, -0.026455409824848175, 0.038872718811035156, 0.016116363927721977, -0.009848888963460922, 0.026677614077925682, -0.007005977910012007, 0.00481334188953042, -0.007835976779460907, 0.014469435438513756, -0.002107675187289715, -0.019462501630187035, -0.00029266459750942886, 0.024939190596342087, -0.02327919192612171, 0.00355854001827538, 0.013619829900562763, 0.005385192111134529, -0.025671157985925674, -0.0024556866846978664, -0.008803220465779305, -0.0003594484878703952, 0.02791934460401535, 0.015488962642848492, -0.017593368887901306, -0.009966526180505753, -0.004780665040016174, -0.02241651527583599, 0.018730534240603447, 0.029487846419215202, -0.01788092777132988, 0.014861561357975006, -0.007273930590599775, -0.011587312445044518, -0.008489520289003849, -0.015711165964603424, -0.005725034046918154, -0.026795251294970512, 0.009424085728824139, 0.029696980491280556, 0.0018723998218774796, 0.019357934594154358, -0.00990117248147726, 0.014430223032832146, 0.0035879495553672314, 0.0001582798722665757, 0.016142504289746284, -0.008502590470016003, 0.01372439693659544, -0.03259871155023575, -0.021227067336440086, -0.03576185554265976, -0.014025026932358742, -0.000847154762595892, -0.008554873988032341, -0.021684547886252403, -0.018456045538187027, 0.017475731670856476, -0.02365824580192566, 0.01612943410873413, 0.011567706242203712, 0.010907627642154694, -0.012025185860693455, 0.014168806374073029, -0.03084721602499485, -0.015384395606815815, 0.009326054714620113, 0.02573651261627674, -0.020429745316505432, -0.003512792056426406, 0.011528493836522102, 0.017567228525877, 0.004401610232889652, 0.02397194691002369, 0.0009982865303754807, -0.023043915629386902, -0.021736830472946167, -0.07685662060976028, -0.004914641380310059, 0.025409741327166557, 0.008051645942032337, 0.012541485019028187, -0.007169363554567099, 0.0028167690616101027, -0.0012400973355397582, -0.023958876729011536, -0.011894477531313896, -0.0014876265777274966, -0.01226046122610569, 0.010515502654016018, -0.013528333976864815, -0.02416800893843174, -0.03544815629720688, 0.023396829143166542, -0.0010440344922244549, 0.016887543722987175, 0.015881087630987167, 0.008358811028301716, 0.004731649067252874, 0.005515900440514088, 0.007450386881828308, -0.011254005134105682, 0.005234877113252878, -0.028834303840994835, 0.020913366228342056, -0.014025026932358742, -0.014064239338040352, -0.015162191353738308, -0.025710370391607285, -0.002656651195138693, 0.010097234509885311, -0.020900296047329903, -0.01999840699136257, 0.014025026932358742, 0.013489121571183205, 0.01226046122610569, 0.007234717719256878, -0.017188172787427902, -0.031187057495117188, 0.008280386216938496, 0.0053198374807834625, -0.03288627043366432, 0.012077469378709793, -0.017083605751395226, 0.006192317232489586, 0.035003747791051865, 0.0009084243793040514, 0.007005977910012007, 0.011953296139836311, -0.012561091221868992, -0.012502271682024002, 0.014822348952293396, -0.011914083734154701, 0.0378793366253376, 0.010561250150203705, -0.010705029591917992, -0.027344226837158203, 0.027030525729060173, 0.0019328525522723794, -0.014770065434277058, -0.00490157026797533, 0.015802662819623947, -0.002994859591126442, -0.012097075581550598, 0.00958747137337923, 0.004192476626485586, -0.025252889841794968, -0.009992668405175209, 0.007430780678987503, 0.023161552846431732, 0.01165266614407301, -0.018808959051966667, -0.012626444920897484, 0.0020194470416754484, -0.03714736923575401, -0.03536973148584366, 0.03165761008858681, 0.017109747976064682, 0.004463696852326393, -0.017593368887901306, 0.004287240095436573, 0.009234558790922165, 0.05353821814060211, -0.004319917410612106, 0.0013234240468591452, -0.006777238100767136, 0.03442863002419472, 0.01475699432194233, 0.01028676237910986, -0.011410855688154697, 0.034219495952129364, -0.022285806015133858, 0.046087831258773804, 0.016024867072701454, -0.007215111516416073, 0.03084721602499485, 0.03129162639379501, 0.02744879387319088, -0.0008994381641969085, -0.0046859011054039, -0.005283892620354891, -0.010358652099967003, 0.004934247583150864, -0.022756356745958328, -0.029017295688390732, -0.011064478196203709, -0.010888021439313889, 0.018246913328766823, -0.008973141200840473, 0.00510416878387332, 0.02682139351963997, -0.025475094094872475, 0.011763769201934338, 0.008966606110334396, -0.004532318562269211, -0.023357616737484932, 0.022873995825648308, 0.018090061843395233, 0.01101219467818737, 0.020325178280472755, -0.007509205956012011, 0.008293457329273224, 0.02135777659714222, -0.003056945977732539, 0.006257671397179365, 0.015475891530513763, 0.009528652764856815, 0.0023331474512815475, -0.0028347414918243885, -0.020155256614089012, -0.01510990783572197, -0.020547382533550262, 0.01652156002819538, -0.03727807477116585, 0.021292421966791153, -0.02713509276509285, 0.050976332277059555, 6.172915163915604e-05, -0.02557966113090515, 0.019933052361011505, -0.013855105265974998, 0.015671953558921814, 0.004705507308244705, 0.009541723877191544, -0.025645015761256218, -0.008920857682824135, 0.0029540129471570253, -0.015384395606815815, 0.0004529868019744754, -0.00682298606261611, -0.04925097897648811, 0.00703865522518754, 0.014887702651321888, -0.0003192147705703974, -0.012391169555485249, 0.017305811867117882, 0.014103451743721962, 0.007979756221175194, -0.010123376734554768, 0.022429585456848145, -0.02768407016992569, -0.010750778019428253, 0.014221088960766792, -0.0037611383013427258, 0.006528891623020172, -0.03834988549351692, 0.013502192683517933, 0.0025406472850590944, -0.026337770745158195, -0.019201084971427917, 0.008201961405575275, -0.020717304199934006, -0.022913208231329918, -0.015881087630987167, 0.0029997611418366432, 0.018403762951493263, 0.02288706600666046, 0.030899498611688614, -0.02904343791306019, -0.02475619874894619, 0.05228341743350029, -0.010528572835028172, -0.014103451743721962, 0.009646289981901646, 0.005656412336975336]\n",
      "1536\n",
      "[-0.01176702231168747, 0.003723908681422472, 0.01016633678227663, -0.009121261537075043, -0.000501867791172117, -0.013427237048745155, -0.012408618815243244, -0.00020856037735939026, -0.02090151235461235, -0.028362557291984558, 0.004739219322800636, 0.01477657537907362, -0.01715775951743126, -0.0201210118830204, -0.00800342671573162, 0.00868471059948206, 0.04987259581685066, 0.0030244356021285057, 0.008261389099061489, -0.017448794096708298, 8.443698607152328e-05, 0.015517388470470905, -0.010027434676885605, -0.013275105506181717, -0.008545808494091034, 0.011522289365530014, 0.02195981703698635, -0.02665604278445244, -0.0021612560376524925, 0.0037437519058585167, 0.01899656467139721, -0.012904698960483074, -0.015332184731960297, -0.008552422747015953, -0.008294460363686085, 0.006015799008309841, -0.015901023522019386, 0.004471336025744677, 0.027039676904678345, 0.011965454556047916, 0.027171965688467026, -0.006148087326437235, 0.009908375330269337, 0.012924542650580406, -0.0019264447037130594, -0.010305238887667656, 5.327694452716969e-05, -0.007004652172327042, -0.008122486062347889, 0.02104702964425087, 0.017607539892196655, -0.01807054691016674, -0.030426252633333206, -0.001559345400892198, -0.00012505354243330657, 0.023586958646774292, 0.002534969709813595, 0.001396465697325766, 0.0014733581338077784, -0.0027730881702154875, -0.0010979907820001245, 0.01435325387865305, -0.027515914291143417, 0.0020223534666001797, -0.014750117436051369, -0.0024985906202346087, -0.0007879406912252307, 0.000611005409155041, 0.009412295185029507, 0.0023067728616297245, 0.019605088979005814, 0.022211164236068726, 0.00556271243840456, -0.007117097266018391, 0.04550708830356598, -0.004315897822380066, -0.01574227772653103, -0.01431356742978096, 0.023229781538248062, -0.0080827996134758, 0.024221941828727722, -0.028891710564494133, -0.013314791955053806, 0.01272611040621996, 0.011548747308552265, 0.007209698669612408, -0.01481626182794571, 0.03338950499892235, -0.02833610028028488, -0.010470598936080933, 0.0001180257459054701, 0.00857887975871563, 0.011634734459221363, 0.004848357290029526, -0.005443653091788292, 0.023997051641345024, 0.004468028899282217, 0.04370797052979469, 0.010212637484073639, -0.02635177969932556, 0.008744239807128906, 0.004044706933200359, -0.020597249269485474, -0.00742135988548398, -0.04018910974264145, 0.008433363400399685, 0.012878241948783398, 0.007957126013934612, 0.02807152457535267, -0.01701224409043789, -0.02176138386130333, 0.004104236606508493, -0.008764083497226238, -0.040083277970552444, -0.027463000267744064, 0.017184218391776085, 0.01800440438091755, -0.040294941514730453, -0.007765308488160372, -0.03481821343302727, 0.02862713485956192, 0.024975983425974846, 0.00021868868498131633, -0.011105582118034363, 0.009332922287285328, 0.0028193891048431396, -0.014988236129283905, 0.006535029504448175, -0.00314349471591413, 0.023917678743600845, 0.02778048999607563, 0.01069548912346363, 0.02345467172563076, 0.020597249269485474, -0.01849387027323246, 0.013354478403925896, -0.018956877291202545, 0.01317588984966278, 0.005853746086359024, -0.02493629790842533, 0.006088557653129101, 0.026841245591640472, -0.03415677323937416, -0.02748945727944374, 0.014181278645992279, 0.009392451494932175, -0.0012244912795722485, 0.01735619269311428, 0.001832189504057169, -0.0033452340867370367, 0.02480400912463665, -0.016046540811657906, 0.006409355904906988, -0.0029963243287056684, 0.00018199942132923752, 0.01566290482878685, 0.011985297314822674, 0.021364519372582436, -0.01665506511926651, -0.0016453326679766178, -0.003502326086163521, 0.011469374410808086, -0.0036743006203323603, -0.01233586110174656, 0.015914252027869225, 0.01885104738175869, 0.013797643594443798, 0.016205286607146263, 0.007170012220740318, -0.010397841222584248, 0.016337573528289795, 0.025782940909266472, 0.003965334501117468, 0.025042127817869186, 0.0002561013970989734, 0.017488479614257812, -0.0028078139293938875, 0.003136880462989211, -0.012699652463197708, -0.013691813684999943, -0.05026945844292641, 0.00537089491263032, 0.006171237677335739, 0.0051658484153449535, -0.004048014525324106, -0.0005659448215737939, 0.009002202190458775, -0.008010041899979115, 0.0010153107577934861, -0.007513961289077997, 0.020875055342912674, 0.032198913395404816, -0.011184955015778542, -0.013877016492187977, -0.6129699349403381, -0.03450072556734085, -0.020438503473997116, 0.022594798356294632, 0.03090248815715313, 0.019803522154688835, 0.009293235838413239, 0.01771336980164051, 0.004716068971902132, -0.05159233883023262, -0.023269468918442726, -0.0026507219299674034, 0.00205542566254735, -0.009663642384111881, -0.008400291204452515, -0.013499995693564415, 0.006085250526666641, -0.015146981924772263, 0.009948061779141426, -0.0011112196370959282, -0.012309403158724308, 0.023494357243180275, -0.015543846413493156, -0.005943040829151869, -0.0019545559771358967, 0.00109385687392205, -0.0004340701561886817, 0.015252811834216118, -0.012699652463197708, 0.032198913395404816, -0.01756785251200199, 0.01673443801701069, -0.01431356742978096, -0.014445855282247066, 0.059423793107271194, -0.008962515741586685, 0.007381673436611891, 0.011039437726140022, 0.02976481057703495, 0.01735619269311428, -0.016628608107566833, -0.013757957145571709, -0.004580473992973566, -0.0172239039093256, -0.00012433009396772832, -0.03495050221681595, 0.019882893189787865, -0.020081326365470886, 0.000888810318429023, 0.017528166994452477, -0.0195654034614563, 0.024962754920125008, 0.002988056279718876, 0.010179565288126469, -0.010331696830689907, -0.028045067563652992, 0.018480639904737473, -0.03442135080695152, -0.017316505312919617, 0.007527190260589123, 0.006204309407621622, 0.011905924417078495, -0.012342475354671478, 0.014075448736548424, -0.021351290866732597, 0.01471043098717928, -0.025240560993552208, 0.023692790418863297, 0.015755506232380867, -0.005926504731178284, 0.0030393179040402174, 0.007983583956956863, -0.004332433454692364, 0.015755506232380867, 0.006144780199974775, 0.02147035114467144, 0.011528903618454933, -0.03254286199808121, -0.0024092961102724075, -0.007950511761009693, -0.010788090527057648, -0.0025233945343643427, -0.0203459020704031, -0.00281608197838068, 0.001626316225156188, 0.005572634283453226, -0.02360018901526928, 0.00857226550579071, -0.003981870133429766, -0.004765677265822887, -0.004785520024597645, 0.0006370496703311801, 0.005685078911483288, 0.009273392148315907, 0.016681523993611336, 0.020385589450597763, -0.0245262049138546, 0.004597009625285864, 0.0030558540020138025, -0.021245460957288742, -0.010086963884532452, -0.00022158247884362936, 0.02416902780532837, 0.002501897746697068, -0.012547521851956844, 0.010920378379523754, -0.011251098476350307, 0.0012501220917329192, 0.041855938732624054, -0.029394404962658882, -0.0007734717219136655, 0.0033220837358385324, -0.007917439565062523, -0.010477213189005852, -0.008777312003076077, -0.028468389064073563, -0.017554624006152153, 0.015146981924772263, 0.011456144973635674, 0.006300218403339386, 0.007024495396763086, 0.005873589310795069, 0.030293963849544525, 0.009610726498067379, -0.001807385473512113, 0.027939235791563988, -0.010358154773712158, -0.008598723448812962, -0.0073486012406647205, 0.004391963128000498, -0.0077520799823105335, 0.010920378379523754, 0.035109248012304306, -0.016906412318348885, 0.029817726463079453, 0.0076925503090023994, 0.0019479416077956557, -0.012904698960483074, 0.021166088059544563, -0.005542869213968515, -0.024076424539089203, 0.0006969926762394607, 0.0087508549913764, -0.006220845505595207, -0.015490930527448654, -0.001003735582344234, -0.0031269588507711887, -0.004931037314236164, -0.028785880655050278, 0.008552422747015953, -0.008836842142045498, -0.003336966037750244, -0.01829543709754944, 0.013076674193143845, -0.010252323932945728, 0.022660942748188972, -0.00479874899610877, -0.025677110999822617, -0.02799215167760849, -0.007262614089995623, -0.010794704779982567, 0.022621257230639458, -0.02353404462337494, 0.012521063908934593, -0.031643301248550415, -0.02592845819890499, 0.01275918260216713, -0.009630570188164711, -0.018017632886767387, -0.027463000267744064, 0.0015138713642954826, 0.0151602104306221, 0.0032509788870811462, 0.005532947834581137, -0.011462759226560593, 0.009022044949233532, -0.018745217472314835, 0.0004861585912294686, -0.02508181519806385, -0.018242523074150085, 0.011284170672297478, 0.007990198209881783, -0.02473786473274231, -0.0010955104371532798, 0.002116608899086714, 0.012415233999490738, 0.023653103038668633, 0.02862713485956192, -0.012904698960483074, 0.025624195113778114, 0.0019859743770211935, 0.024698179215192795, -0.03442135080695152, -0.010993137024343014, -0.015133753418922424, 0.017316505312919617, 0.015464473515748978, 0.013810872100293636, 0.014604601077735424, 0.01586133800446987, 0.020306216552853584, 0.035267993807792664, 0.0040281713008880615, 0.009789315983653069, 0.008228316903114319, -0.02127191796898842, 0.0030674291774630547, -0.012633509002625942, 0.024486517533659935, 0.013162661343812943, -0.002999631455168128, -0.005523025989532471, -0.011376772075891495, 0.008459820412099361, -0.013810872100293636, 0.020438503473997116, -0.023679561913013458, 0.02076922357082367, 0.013533067889511585, 0.0018817975651472807, -0.021205775439739227, -0.008559036999940872, 0.0013088248670101166, -0.014194508083164692, -0.005751222837716341, -0.022343451157212257, 0.012620280496776104, 0.005966191180050373, 0.024473289027810097, -0.010821162723004818, -0.019750606268644333, 0.009187404997646809, 0.00077099131885916, 0.008843456394970417, -0.005301443859934807, -0.008810384199023247, 0.04579812288284302, -0.013003915548324585, 0.04415775090456009, -0.0016395450802519917, 0.005929811857640743, 0.012878241948783398, -0.006525108125060797, -0.022290537133812904, 0.003350194776430726, 0.0005477552185766399, 0.04505731165409088, 0.018242523074150085, -0.0012368932366371155, 0.03111414983868599, -0.00956442579627037, 0.013585982844233513, -0.00761979166418314, 0.00018830377666745335, 0.005959576927125454, -0.04505731165409088, -0.0033220837358385324, 0.01562321837991476, 0.016324345022439957, 0.013810872100293636, 0.010675645433366299, 0.015980396419763565, 0.014062220230698586, 0.024393916130065918, -0.0011236215941607952, -0.009015430696308613, -0.01658892072737217, -0.01586133800446987, 0.012891470454633236, -0.014882405288517475, 0.0031286124140024185, -0.01643017679452896, 0.012097742408514023, -0.029711896553635597, 0.0026771794073283672, -0.0031038084998726845, 0.01382410153746605, 0.009465210139751434, 0.0122631024569273, -0.009088189341127872, -0.021152859553694725, -0.029526693746447563, 0.011700877919793129, 0.014432626776397228, -0.025187645107507706, -0.021443892270326614, -0.03238411620259285, -0.0010922031942754984, -0.0192875973880291, 0.02883879467844963, -0.0010897228494286537, -0.0054138884879648685, -0.007176626939326525, 0.000608111615292728, -0.0003728869487531483, 0.013341249898076057, 0.020372359082102776, -0.007659478113055229, -0.031193522736430168, -0.002822696231305599, 0.00871116854250431, -0.006971580442041159, 0.03166975826025009, -0.02459234930574894, 0.017382649704813957, -0.013612440787255764, -0.019366970285773277, 0.004461414646357298, -0.006386205554008484, 0.0003677194472402334, -0.003548627020791173, 0.003052546875551343, 0.003627999685704708, -0.029950015246868134, -0.001493201358243823, 0.010682259686291218, 0.0036015422083437443, -0.017409106716513634, 0.02685447409749031, 0.0074345883913338184, -0.0012840209528803825, 0.0006221672520041466, -0.029182743281126022, -0.013850558549165726, 0.0459304116666317, 0.0245262049138546, -0.006773148197680712, 0.01971091888844967, 0.013314791955053806, -0.0036114638205617666, -0.0484967976808548, -0.004983952268958092, 0.014683973975479603, -0.01813669130206108, -0.002344805747270584, -0.002786317141726613, 0.001632103812880814, 0.011284170672297478, 0.029658980667591095, 0.005546176340430975, -0.0007606563158333302, -0.01325526274740696, 0.00559578463435173, -0.0013997729402035475, -0.00811587180942297, -2.780116119538434e-05, 0.01261366531252861, -0.003647842910140753, -0.01424742303788662, -0.012593822553753853, 0.009623955935239792, -0.0013195732608437538, 0.016813810914754868, -0.023084264248609543, -0.01579519361257553, -0.015371871180832386, -0.01427388098090887, -0.018652616068720818, -0.025677110999822617, 0.026550211012363434, 0.00010872424172703177, -0.021033799275755882, 0.00910803209990263, 0.01906270906329155, 0.027198422700166702, 0.024565890431404114, 0.01990935206413269, 0.0006754958885721862, 0.006012491881847382, -0.002195981564000249, 0.0023117337841540575, 0.023983823135495186, -0.020676622167229652, -0.00956442579627037, 0.01842772588133812, -0.007976969704031944, -0.037305232137441635, -0.014578143134713173, 0.005552791059017181, 0.014194508083164692, -0.023414984345436096, 0.00917417649179697, 0.013929931446909904, -0.0021844063885509968, -0.009531354531645775, -0.030241047963500023, -0.020015181973576546, -0.017673684284090996, -0.021510036662220955, -0.031008319929242134, -0.02091474086046219, -0.023838307708501816, -0.0009789315517991781, -0.0068525210954248905, 0.009716557338833809, 0.01414159219712019, -0.013195733539760113, -0.032913267612457275, 0.010543357580900192, 0.0002217891887994483, 0.02132483385503292, -0.01885104738175869, -0.01126432791352272, 0.04370797052979469, 0.00815555825829506, -0.0019975495524704456, -0.009392451494932175, -0.016985785216093063, 0.0007271709037013352, 0.029817726463079453, -0.013599211350083351, 0.014366482384502888, -0.019247911870479584, -0.005460189189761877, 0.02756883017718792, 0.007758694235235453, 0.0031153836753219366, 0.02849484607577324, -0.009723171591758728, -0.014287109486758709, 0.008902985602617264, 0.019882893189787865, 0.011819937266409397, -0.02727779559791088, 0.0023497664369642735, -0.0313258096575737, -0.010106806643307209, -0.004243139177560806, 0.025491908192634583, -0.017250362783670425, -0.0006403568550013006, 0.0029847491532564163, 0.025677110999822617, 0.017329733818769455, 0.035188622772693634, -0.027039676904678345, -0.006240688730031252, -0.0036908367183059454, 0.007520575542002916, 0.004626774694770575, 0.0005820674123242497, 0.021853985264897346, -0.013982847332954407, -0.01948603056371212, 0.013890244998037815, -0.0224625114351511, 0.004897965118288994, 0.05188337340950966, 0.0047722915187478065, 0.0015254465397447348, -0.025333162397146225, -0.04534834250807762, -0.030241047963500023, 0.00028813991229981184, 0.0033468876499682665, 0.00556271243840456, 0.005486647132784128, -0.021457122638821602, -0.04757078364491463, 0.0007970355218276381, -0.021933358162641525, 0.010417683981359005, 0.007011266890913248, -0.02252865582704544, -0.03778146579861641, -0.008744239807128906, -0.0015874565578997135, -0.010252323932945728, 0.037807926535606384, -0.03537382557988167, -0.019314056262373924, -0.009590883739292622, 0.004583781119436026, -0.0034361821599304676, -0.008360604755580425, 0.014485541731119156, -0.004236524924635887, 0.004699532873928547, 0.018665844574570656, -0.024221941828727722, -0.006068714428693056, 0.011773636564612389, 0.035902976989746094, 0.021774612367153168, 0.0385751947760582, -0.01219034381210804, -0.009339536540210247, 0.03182850405573845, -0.006601173896342516, -0.013757957145571709, -0.020451731979846954, -0.0027548987418413162, -0.036246925592422485, 0.006581330671906471, 0.016813810914754868, -0.0019016407895833254, -0.007553647737950087, -0.01673443801701069, -0.01665506511926651, 0.0024175641592592, -0.010576429776847363, 0.00563216395676136, -0.01066241692751646, -0.01893042027950287, -0.014287109486758709, -0.018229292705655098, 0.013585982844233513, 0.0016395450802519917, -0.00974301528185606, -0.02274031564593315, 0.033918656408786774, -0.008565651252865791, 0.026484068483114243, -0.01982997916638851, 0.007004652172327042, -0.019036250188946724, 0.0355590283870697, -0.002599460305646062, 0.006138165481388569, -0.01658892072737217, -0.0041306945495307446, 0.000991333625279367, 0.01530572772026062, 0.026603126898407936, 0.0162185151129961, 0.007004652172327042, -0.01714453101158142, -0.01562321837991476, 0.012924542650580406, -0.0022108640987426043, 0.005506489891558886, -0.0010905496310442686, 0.0018354967469349504, -0.020253300666809082, 0.0011442916002124548, -0.0433640219271183, -0.007196470163762569, -0.049502190202474594, 0.010490442626178265, 0.011072509922087193, -0.03280743584036827, 0.011819937266409397, -0.0127922547981143, -0.03407740220427513, -0.006081942934542894, 0.021166088059544563, 0.01013326458632946, -0.024182256311178207, 0.01885104738175869, 0.015226354822516441, -0.006898821797221899, -0.025068584829568863, -0.029182743281126022, 0.0026159961707890034, -0.012163885869085789, 0.016959328204393387, 0.05863006412982941, 0.006015799008309841, 0.01829543709754944, 0.007150168996304274, 0.017462022602558136, -0.0031451485119760036, -0.025028899312019348, 0.008473049849271774, -0.0012782332487404346, -0.0007325451006181538, 0.007282457314431667, -0.023772163316607475, -0.013691813684999943, 0.02401028200984001, -0.025412535294890404, -0.01764722540974617, -0.0344478078186512, -0.008466435596346855, -0.01219034381210804, 0.017554624006152153, -0.014525228179991245, 0.0042166817001998425, 0.0022174783516675234, -0.021020570769906044, -0.002096765674650669, -0.018520327284932137, -0.009518125094473362, 0.003216253127902746, -0.004428342450410128, 0.046591851860284805, -0.008307689800858498, 0.005731379613280296, 0.003826431930065155, 0.0161655992269516, -0.015609989874064922, 0.015318956226110458, -0.017673684284090996, 0.04048014432191849, -0.006197695154696703, -0.0006940988823771477, -0.004134001675993204, -0.007857910357415676, 0.03420969098806381, 0.0013567793648689985, 0.01764722540974617, -0.016072997823357582, 0.00027511781081557274, -0.0007329584914259613, -0.0054568820632994175, 0.021708469837903976, -0.008664866909384727, 0.011958839371800423, -0.007196470163762569, -0.02984418347477913, 0.0020157392136752605, -0.02153649553656578, -0.007170012220740318, 0.015054380521178246, -0.017475251108407974, -0.02670895680785179, -0.011641348712146282, 0.012626894749701023, -0.0010483828373253345, -0.030505623668432236, 0.022409595549106598, 0.03910434618592262, -0.03098186105489731, 0.009802544489502907, 0.007818223908543587, 0.0021496808622032404, -0.007791766431182623, 0.02062370628118515, 0.01363889779895544, -0.011509060859680176, 0.03434197977185249, -0.029023997485637665, -0.02692061848938465, -0.03357470780611038, -0.025240560993552208, 0.001802424667403102, 0.0058603608049452305, 0.00051344302482903, 0.030426252633333206, 0.015358642674982548, -0.003198063699528575, -0.002744977129623294, -0.014340024441480637, 0.002758205868303776, -0.01793825998902321, 0.007950511761009693, 0.006171237677335739, -0.018599700182676315, 0.008783926256000996, -0.0019396735588088632, 0.009220477193593979, -0.008777312003076077, -0.029182743281126022, -0.018176378682255745, 0.0045143296010792255, 0.025597738102078438, 0.0033749989233911037, -0.03796667233109474, -0.005655314307659864, -0.0161655992269516, -0.026060746982693672, 0.02301812171936035, 0.011542132124304771, -0.007004652172327042, 0.04775598645210266, 0.014088677242398262, -0.021139631047844887, 0.023150408640503883, 0.01992258056998253, -0.03627338260412216, -0.005182384513318539, -0.008294460363686085, -0.020292986184358597, -0.03225182741880417, -0.009445366449654102, 0.013929931446909904, 0.0127922547981143, -0.010007590986788273, -0.02714550867676735, 0.014750117436051369, -0.048946578055620193, -0.0027780490927398205, -0.01990935206413269, 0.010755018331110477, -0.014022533781826496, -0.0008214261033572257, 0.008955901488661766, 0.0072030844166874886, -0.003753673518076539, 0.01016633678227663, -0.015517388470470905, 0.0001765218621585518, -0.012838555499911308, -0.0009648759732954204, 0.017475251108407974, 0.010186179541051388, -0.019247911870479584, -0.017541395500302315, 0.01435325387865305, 0.010377997532486916, -0.009339536540210247, 0.02891816757619381, 0.008453206159174442, -0.020729538053274155, -0.0054668039083480835, -0.012474763207137585, -0.0006457310519181192, -0.0126533517614007, 0.004897965118288994, -0.035400282591581345, -0.008056342601776123, -0.0006238208152353764, 0.016840269789099693, -0.006673932075500488, 0.03487113118171692, -0.000625474436674267, -0.0038065887056291103, 0.0057578375563025475, -0.0014063873095437884, -0.01849387027323246, -0.004649925045669079, -0.011416458524763584, -0.0002236494910903275, 0.007996812462806702, -0.00807618536055088, 0.03704065456986427, -0.007566876709461212, -0.015517388470470905, -0.008598723448812962, 0.030293963849544525, -0.015186668373644352, 0.0007387460791505873, 0.010510285384953022, -0.016628608107566833, 0.012058055959641933, -0.012666581198573112, 0.0006936854915693402, 0.0021149551030248404, -0.0011831512674689293, -0.010040663182735443, -0.01367858424782753, -0.021496808156371117, 0.031431641429662704, 0.014154821634292603, -0.015398329123854637, 0.010331696830689907, -7.260340498760343e-05, -0.010483828373253345, -0.01055658608675003, -0.011297399178147316, 0.007474274840205908, -0.04452815651893616, -0.0035651628859341145, -0.01321557629853487, -0.005532947834581137, -0.014445855282247066, -0.005347744561731815, -0.0007127018761821091, -0.013308177702128887, 0.011006365530192852, 0.3092365562915802, -0.0245262049138546, -0.021655553951859474, 0.021205775439739227, 0.009200633503496647, 0.003270822111517191, 0.008850070647895336, -0.001989281503483653, -0.02395736612379551, 0.020253300666809082, 0.013771185651421547, -0.0062439958564937115, -0.001619701855815947, 0.0023547273594886065, 0.008334146812558174, -0.0371200256049633, -0.017951488494873047, -0.01123125571757555, 0.002242282498627901, -0.036114636808633804, 0.01162811927497387, -0.006320061627775431, 0.011899310164153576, -0.023362070322036743, 0.010318468324840069, -0.012388776056468487, -0.012924542650580406, -0.015702592208981514, 0.003919033333659172, 0.02963252365589142, -0.030743742361664772, -0.0203988179564476, -0.0012898085406050086, -0.015848107635974884, -0.016258200630545616, 0.0047623696736991405, 0.005238606594502926, 0.010212637484073639, 0.03039979375898838, 0.01271949615329504, 0.008453206159174442, -0.012712881900370121, 0.020795682445168495, 0.004845049697905779, 0.0016031658742576838, 0.009518125094473362, -0.01586133800446987, -0.016284659504890442, -0.01701224409043789, 0.024129340425133705, -0.005248528439551592, 0.0016742706065997481, 0.015543846413493156, 0.02854776196181774, -0.0007160090608522296, 0.0033171228133141994, 0.011681035161018372, -0.0036908367183059454, 0.0011715760920196772, 0.003505633445456624, -0.0021364521235227585, 0.03651150315999985, -0.0077851517125964165, 0.03521507978439331, -0.030293963849544525, 0.005933118984103203, -0.03897206112742424, -0.022687401622533798, -0.016760896891355515, -0.02833610028028488, 0.0014179626014083624, -0.01123125571757555, -0.013956389389932156, -0.013810872100293636, -0.0501636303961277, -0.02629886381328106, 0.03217245265841484, 0.03047916665673256, 0.039289552718400955, 0.03566486015915871, -0.01799117401242256, 0.019459571689367294, 0.008598723448812962, 0.0024555970449000597, 0.0024109496735036373, -0.05265064537525177, 0.014538456685841084, -0.013050216250121593, -0.02438068762421608, -0.033759910613298416, 0.010926992632448673, -0.022594798356294632, -0.006640860345214605, -0.018890732899308205, 0.018890732899308205, 0.01594071090221405, -0.0161655992269516, 0.024975983425974846, -0.007011266890913248, 0.008929443545639515, -0.038019586354494095, 0.0033766524866223335, 0.02168201096355915, 0.04296715930104256, -0.04026848450303078, -0.0012848477344959974, 0.0021529879886657, 0.015027922578155994, -0.0019810134544968605, -0.011462759226560593, -0.03098186105489731, -0.02133806236088276, 0.004150537773966789, 0.0014526881277561188, 0.005109625868499279, -0.0039024974685162306, -3.650840153568424e-05, -0.01317588984966278, 0.014075448736548424, -0.016707981005311012, 0.019750606268644333, -0.025782940909266472, -0.013122974894940853, -0.0030723900999873877, -0.015067609027028084, -0.022991662845015526, -0.007771923206746578, 0.008830226957798004, 0.03352179378271103, -0.047173917293548584, 0.028256727382540703, -0.014485541731119156, 0.04193531349301338, -0.0016345842741429806, -0.02153649553656578, 0.012838555499911308, -0.005926504731178284, -0.0023133873473852873, -0.01169426366686821, -0.010477213189005852, 0.008261389099061489, 0.01275918260216713, -0.008228316903114319, 0.005384123884141445, 0.0022158247884362936, 0.010126650333404541, 0.0406918041408062, -0.017951488494873047, 0.03251640126109123, -0.017395878210663795, -0.04373443126678467, -0.008856684900820255, 0.006349826231598854, -0.011409844271838665, 0.031140606850385666, 0.008142329752445221, -0.028177354484796524, -0.025399304926395416, -0.029791269451379776, -0.008704553358256817, -0.024645263329148293, 0.011151882819831371, 0.029658980667591095, -0.015781965106725693, -0.016774125397205353, 0.014697202481329441, -0.1691170483827591, 0.020292986184358597, 0.01123125571757555, -0.004653232172131538, 0.027198422700166702, -0.0018090391531586647, 0.019684461876749992, -0.0008098509279079735, 0.004864892922341824, -0.019075937569141388, 0.012064670212566853, -0.021086715161800385, -0.026206262409687042, 0.007659478113055229, -0.0009119607275351882, -0.0022885832004249096, -0.039077889174222946, -0.01481626182794571, 0.020742766559123993, 0.0037569806445389986, 0.027806948870420456, -0.005777680780738592, -0.007593334186822176, -0.0018735295161604881, -0.008506122045218945, 0.027224881574511528, -0.0016759242862462997, 0.02670895680785179, -0.013599211350083351, -0.00857887975871563, -0.0024522896856069565, -0.006984808947890997, 0.010153108276426792, 0.013705042190849781, 0.035479653626680374, 0.013387550599873066, -0.0038297390565276146, -0.016350803896784782, -0.009756243787705898, 0.02373247593641281, 0.035744231194257736, 0.022555112838745117, 0.013228804804384708, 0.016879955306649208, 0.000901212333701551, 0.02181429974734783, 0.01686672680079937, 0.005351051688194275, 0.029447320848703384, -0.004795441869646311, -0.006121629383414984, -0.002291890559718013, 0.017607539892196655, -0.0030971940141171217, 0.003429567674174905, 0.03585006296634674, -0.01484271977096796, 0.02522733062505722, -0.006845906842499971, 0.002389452885836363, -0.018943648785352707, -0.00920724868774414, -0.013063444755971432, 0.01367858424782753, -0.0033584628254175186, -0.021510036662220955, -0.017237132415175438, -0.0029781346675008535, -0.008916215039789677, 0.0008061302942223847, -0.02020038478076458, -0.0009111339459195733, 0.00659125205129385, 0.0052584498189389706, 0.020663393661379814, -0.0028574219904839993, -0.027304254472255707, 0.01427388098090887, -0.005215456243604422, -0.004934344440698624, 0.0030674291774630547, -0.004253061022609472, -0.011429687961935997, -0.00035490404115989804, 0.007004652172327042, 0.020253300666809082, 0.0042166817001998425, -0.008856684900820255, 0.01207789871841669, -0.02436745911836624, 0.01233586110174656, -0.04323173686861992, -0.011641348712146282, -0.025610966607928276, -0.015477702021598816, 0.01829543709754944, 0.006227460224181414, -0.0030508930794894695, -0.009365993551909924, -0.017528166994452477, -0.02465849183499813, -0.01382410153746605, -0.01792503148317337, 0.00914771854877472, 0.017528166994452477, 0.013493381440639496, 0.008565651252865791, 0.01715775951743126, 0.02401028200984001, -0.005665235687047243, -0.026669271290302277, -0.001802424667403102, 0.018388038501143456, 0.019935809075832367, 0.006938508246093988, 0.006270453799515963, -0.014472313225269318, -0.019790291786193848, 0.023071035742759705, 0.0006085250061005354, 0.00251512648537755, -0.01694609969854355, 0.0019975495524704456, 0.022449282929301262, 0.016536006703972816, -0.02254188433289528, -0.05783633515238762, -0.003965334501117468, 0.023004891350865364, 0.025981374084949493, 0.011747178621590137, 0.016694752499461174, 0.019605088979005814, 0.02651052549481392, -0.014882405288517475, -0.006515186745673418, -0.006779762450605631, -0.019023021683096886, -0.0014378057094290853, -0.0031782204750925303, 0.01883781887590885, -0.008810384199023247, 0.010179565288126469, -0.018083777278661728, -0.004937651567161083, 0.05040174722671509, 0.008486278355121613, 0.004431649576872587, -0.01113203912973404, 0.014366482384502888, 0.00742135988548398, 0.027383627369999886, -0.021099943667650223, 0.03174913302063942, 0.009266777895390987, -0.017197446897625923, 0.01877167448401451, 0.0006002570153214037, -0.010232481174170971, 0.002902069129049778, 0.017594311386346817, -0.0006870710640214384, -0.021430663764476776, -0.0010144839761778712, 0.029870642349123955, -0.03754334896802902, 0.010715331882238388, 0.02395736612379551, -0.010311853140592575, -0.02119254507124424, -0.0074412026442587376, -0.006121629383414984, 0.008889757096767426, 0.021099943667650223, 0.009696714580059052, -0.01849387027323246, -0.0037338302936404943, -0.007097254041582346, -0.016072997823357582, 0.012064670212566853, 0.024142568930983543, -0.008889757096767426, 0.004167073406279087, -0.001771006267517805, -0.008473049849271774, -0.0014353253645822406, -0.02047819085419178, 0.0013948121340945363, -0.008486278355121613, 0.015504159964621067, 0.01742233708500862, -0.005387431010603905, 0.021801071241497993, 0.014379710890352726, 0.005913275759667158, -0.01871875859797001, 0.002612689044326544, 0.007216313388198614, -0.00635974807664752, 0.007738851010799408, -0.029235659167170525, -0.028441930189728737, -0.02685447409749031, 0.0023233089596033096, 0.003796667093411088, -0.009339536540210247, -0.025253789499402046, -0.010305238887667656, 0.01471043098717928, -0.026179805397987366, 0.017462022602558136, 0.02026652917265892, 0.01730327680706978, 0.0021596024744212627, 0.011575204320251942, -0.03452718257904053, -0.011006365530192852, 0.023362070322036743, 0.03542673960328102, -0.025028899312019348, -0.013890244998037815, 0.0040281713008880615, 0.016469862312078476, -0.0035816989839076996, 0.015252811834216118, -0.0032972795888781548, -0.012084513902664185, -0.01382410153746605, -0.07143554836511612, 0.0016006854129955173, 0.009008816443383694, -0.008062956854701042, 0.013572754338383675, -0.0006147260428406298, -0.006230767350643873, 0.007427974138408899, -0.01735619269311428, 0.010411069728434086, -0.006277068052440882, -0.011522289365530014, 0.005433731712400913, -0.01940665766596794, -0.02174815535545349, -0.024063196033239365, 0.01307005900889635, 9.740741370478645e-05, 0.00027077709091827273, 0.010801319032907486, 0.013275105506181717, -0.013202347792685032, 0.008234931156039238, 0.020610477775335312, -0.01435325387865305, -7.136320346035063e-05, -0.024420375004410744, 0.03309847041964531, -0.013017144054174423, -0.018057318404316902, -0.0037338302936404943, -0.01766045391559601, -0.008426749147474766, -0.016522778198122978, -0.011376772075891495, -0.008406905457377434, 0.010523514822125435, 0.015993624925613403, 0.015927480533719063, 0.02849484607577324, 0.003356809262186289, -0.03495050221681595, 0.009789315983653069, 0.0018784903222694993, -0.03505633398890495, 0.023864764720201492, -0.018123462796211243, 0.008764083497226238, 0.042834870517253876, 0.0036246925592422485, 0.012838555499911308, 0.012104356661438942, -0.023401755839586258, -0.0007098080823197961, 0.00963718444108963, -0.02698676288127899, 0.029394404962658882, 0.013533067889511585, -0.012560750357806683, -0.015967167913913727, 0.017395878210663795, 0.015781965106725693, -0.0021000728011131287, -0.020425274968147278, 0.010483828373253345, 0.010463984683156013, -0.010014205239713192, 0.004808670841157436, -0.005496568512171507, -0.03325721621513367, -0.00434235529974103, 0.006677239201962948, 0.028785880655050278, 0.007685935590416193, -0.015292498283088207, -0.002085190499201417, 0.008096029050648212, -0.02027975767850876, -0.02226407825946808, 0.013943160884082317, 0.014789803884923458, 0.020782452076673508, -0.02295197732746601, 0.009769472293555737, 0.010867463424801826, 0.043337564915418625, -0.014287109486758709, 0.007262614089995623, -0.002007471164688468, 0.021920129656791687, 0.0033038940746337175, 0.013705042190849781, -0.018057318404316902, 0.030426252633333206, -0.009326308034360409, 0.04712100327014923, 0.019023021683096886, -0.016919640824198723, 0.03749043494462967, 0.029711896553635597, 0.029447320848703384, -0.006531722377985716, -0.005847131833434105, 0.004329126328229904, -0.021562952548265457, -0.007097254041582346, -0.006085250526666641, -0.02487015351653099, 0.006878978572785854, -0.0074412026442587376, 0.0008011694881133735, -0.003221214050427079, 1.7362806829623878e-05, 0.0370141975581646, -0.02522733062505722, -0.0006990596884861588, 0.005529640708118677, -0.00867809634655714, -0.029447320848703384, 0.022978434339165688, 0.018242523074150085, 0.023282697424292564, 0.023150408640503883, -0.00011389174323994666, 0.018877504393458366, 0.014922091737389565, -0.0020355824381113052, -0.014234194532036781, 0.01673443801701069, 0.013447080738842487, 0.01666829362511635, -0.002316694473847747, -0.017488479614257812, -0.008506122045218945, -0.020041638985276222, 0.03209308162331581, -0.016602151095867157, 0.0242483988404274, -0.02210533246397972, 0.03931600973010063, -0.003475868608802557, -0.015385100618004799, 0.013189118355512619, -0.0161655992269516, 0.010186179541051388, -0.009227091446518898, -0.004653232172131538, -0.022145019844174385, -0.010715331882238388, 0.020306216552853584, -0.0030244356021285057, 0.009008816443383694, -0.007480889093130827, -0.04783535748720169, 0.013493381440639496, 0.009365993551909924, -0.0050302529707551, 0.001941327122040093, 0.0195654034614563, 0.015755506232380867, 0.012468148954212666, -0.0012410272611305118, 0.01935374177992344, -0.020081326365470886, -0.0029715204145759344, 0.008883142843842506, 0.018943648785352707, 0.007017881143838167, -0.03026750683784485, 0.028097981587052345, 0.0030740436632186174, -0.01471043098717928, -0.024923069402575493, 0.01530572772026062, -0.020253300666809082, -0.002870650729164481, -0.009848845191299915, 0.008929443545639515, 0.009822388179600239, 0.026629583910107613, 0.026325322687625885, -0.03436843678355217, -0.025399304926395416, 0.040294941514730453, -0.020861824974417686, 0.0017809278797358274, 0.007467660587280989, 0.010933607816696167]\n",
      "1536\n"
     ]
    }
   ],
   "source": [
    "print(positive_review)\n",
    "print(len(positive_review))\n",
    "\n",
    "print(negative_review)\n",
    "print(len(negative_review))"
   ]
  },
  {
   "cell_type": "code",
   "execution_count": 63,
   "metadata": {},
   "outputs": [
    {
     "name": "stdout",
     "output_type": "stream",
     "text": [
      "Cosine Similarity between positive and neutual review: 0.9347902125441199\n"
     ]
    }
   ],
   "source": [
    "print(\"Cosine Similarity between positive and neutual review:\", cosine_similarity(positive_review, negative_review))"
   ]
  },
  {
   "cell_type": "code",
   "execution_count": 64,
   "metadata": {},
   "outputs": [
    {
     "name": "stdout",
     "output_type": "stream",
     "text": [
      "Cosine Similarity between positive review and itself: 1.0\n"
     ]
    }
   ],
   "source": [
    "print(\"Cosine Similarity between positive review and itself:\", cosine_similarity(positive_review, positive_review))"
   ]
  },
  {
   "cell_type": "code",
   "execution_count": 65,
   "metadata": {},
   "outputs": [
    {
     "name": "stdout",
     "output_type": "stream",
     "text": [
      "Cosine Similarity between positive and good restaurant review: 0.8379052807845067\n",
      "Cosine Similarity between negative and good restaurant review: 0.8044964373440723\n"
     ]
    }
   ],
   "source": [
    "good_restraurant = get_embedding(\"这家餐馆太好吃了，一点都不糟糕\", engine=EMBEDDING_MODEL)\n",
    "bad_restraurant = get_embedding(\"这家餐馆太糟糕了，一点都不好吃\", engine=EMBEDDING_MODEL)\n",
    "\n",
    "print(\"Cosine Similarity between positive and good restaurant review:\", cosine_similarity(positive_review, good_restraurant))\n",
    "print(\"Cosine Similarity between negative and good restaurant review:\", cosine_similarity(negative_review, good_restraurant))\n"
   ]
  },
  {
   "cell_type": "code",
   "execution_count": 66,
   "metadata": {},
   "outputs": [
    {
     "name": "stdout",
     "output_type": "stream",
     "text": [
      "好评例子的评分 : 0.033409\n",
      "差评例子的评分 : -0.027144\n"
     ]
    }
   ],
   "source": [
    "\n",
    "def get_score(sample_embedding):\n",
    "  return cosine_similarity(sample_embedding, positive_review) - cosine_similarity(sample_embedding, negative_review)\n",
    "\n",
    "positive_score = get_score(good_restraurant)\n",
    "negative_score = get_score(bad_restraurant)\n",
    "\n",
    "\n",
    "print(\"好评例子的评分 : %f\" % (positive_score))\n",
    "print(\"差评例子的评分 : %f\" % (negative_score))\n"
   ]
  },
  {
   "attachments": {},
   "cell_type": "markdown",
   "metadata": {},
   "source": [
    "### 生成一个正交的，Cosine Similarity 为 0 的向量"
   ]
  },
  {
   "cell_type": "code",
   "execution_count": 67,
   "metadata": {},
   "outputs": [
    {
     "name": "stdout",
     "output_type": "stream",
     "text": [
      "-9.773366928911903e-18\n"
     ]
    }
   ],
   "source": [
    "import numpy as np\n",
    "\n",
    "# 假设原向量是一个高维向量\n",
    "original_vector = np.array(positive_review)\n",
    "\n",
    "# 对原向量进行归一化\n",
    "original_vector /= np.linalg.norm(original_vector)\n",
    "\n",
    "# 从单位高斯分布中随机抽取一个向量\n",
    "random_vector = np.random.randn(len(original_vector))\n",
    "\n",
    "# 从随机向量中减去在原向量方向上的分量\n",
    "orthogonal_vector = random_vector - random_vector.dot(original_vector) * original_vector\n",
    "\n",
    "# 验证新向量与原向量是否正交（即它们的余弦相似度是否为0）\n",
    "cos_sim = np.dot(original_vector, orthogonal_vector) / (np.linalg.norm(original_vector) * np.linalg.norm(orthogonal_vector))\n",
    "print(cos_sim)  # 这个值应该接近0\n"
   ]
  },
  {
   "attachments": {},
   "cell_type": "markdown",
   "metadata": {},
   "source": [
    "### 降维可视化向量"
   ]
  },
  {
   "cell_type": "code",
   "execution_count": 68,
   "metadata": {},
   "outputs": [],
   "source": [
    "import matplotlib.pyplot as plt\n",
    "from sklearn.decomposition import PCA\n",
    "\n",
    "def visualize_words(words,vectors):\n",
    "    # Create a PCA object and fit_transform the vectors\n",
    "    pca = PCA(n_components=2)\n",
    "    pca_result = pca.fit_transform(vectors)\n",
    "\n",
    "    # Create a color map\n",
    "    colors = [\"b\", \"g\", \"r\", \"c\"]\n",
    "\n",
    "    # Plot each word in 2D space using PCA results\n",
    "    for i, word in enumerate(words):\n",
    "        plt.scatter(pca_result[i, 0], pca_result[i, 1], c=colors[i], label=word)\n",
    "        plt.annotate(word, xy=(pca_result[i, 0], pca_result[i, 1]))\n",
    "\n",
    "    plt.legend()\n",
    "    plt.show()"
   ]
  },
  {
   "cell_type": "code",
   "execution_count": 69,
   "metadata": {},
   "outputs": [
    {
     "data": {
      "image/png": "[encoded data removed]",
      "text/plain": [
       "<Figure size 640x480 with 1 Axes>"
      ]
     },
     "metadata": {},
     "output_type": "display_data"
    }
   ],
   "source": [
    "words = [f\"Positive\", \"Negative\", \"Good Restaurant\", \"Bad Restaurant\"]\n",
    "vectors = [np.array(x) for x in [positive_review, negative_review, good_restraurant, bad_restraurant]]\n",
    "\n",
    "visualize_words(words, vectors)"
   ]
  },
  {
   "cell_type": "code",
   "execution_count": 70,
   "metadata": {},
   "outputs": [
    {
     "data": {
      "image/png": "[encoded data removed]",
      "text/plain": [
       "<Figure size 640x480 with 1 Axes>"
      ]
     },
     "metadata": {},
     "output_type": "display_data"
    }
   ],
   "source": [
    "good_phone = get_embedding(\"买的银色版真的很好看，一天就到了，晚上就开始拿起来完系统很丝滑流畅，做工扎实，手感细腻，很精致哦苹果一如既往的好品质\", engine=EMBEDDING_MODEL)\n",
    "bad_phone = get_embedding(\"随意降价，不予价保，服务态度差\", engine=EMBEDDING_MODEL)\n",
    "\n",
    "words = [f\"Positive\", \"Negative\", \"Good Phone\", \"Bad Phone\"]\n",
    "vectors = [np.array(x) for x in [positive_review, negative_review, good_phone, bad_phone]]\n",
    "\n",
    "visualize_words(words, vectors)\n"
   ]
  },
  {
   "attachments": {},
   "cell_type": "markdown",
   "metadata": {},
   "source": [
    "### 通过向量进行零样本分类"
   ]
  },
  {
   "cell_type": "code",
   "execution_count": 3,
   "metadata": {},
   "outputs": [],
   "source": [
    "import pandas as pd\n",
    "import numpy as np\n",
    "\n",
    "from sklearn.metrics import classification_report\n",
    "\n",
    "datafile_path = \"data/fine_food_reviews_with_embeddings_1k.csv\"\n",
    "\n",
    "df = pd.read_csv(datafile_path)\n",
    "df[\"embedding\"] = df.embedding.apply(eval).apply(np.array) # type: ignore\n",
    "\n",
    "# convert 5-star rating to binary sentiment\n",
    "df = df[df.Score != 3]\n",
    "df[\"sentiment\"] = df.Score.replace({1: \"negative\", 2: \"negative\", 4: \"positive\", 5: \"positive\"})"
   ]
  },
  {
   "cell_type": "code",
   "execution_count": 4,
   "metadata": {},
   "outputs": [
    {
     "data": {
      "text/html": [
       "<div>\n",
       "<style scoped>\n",
       "    .dataframe tbody tr th:only-of-type {\n",
       "        vertical-align: middle;\n",
       "    }\n",
       "\n",
       "    .dataframe tbody tr th {\n",
       "        vertical-align: top;\n",
       "    }\n",
       "\n",
       "    .dataframe thead th {\n",
       "        text-align: right;\n",
       "    }\n",
       "</style>\n",
       "<table border=\"1\" class=\"dataframe\">\n",
       "  <thead>\n",
       "    <tr style=\"text-align: right;\">\n",
       "      <th></th>\n",
       "      <th>Unnamed: 0</th>\n",
       "      <th>ProductId</th>\n",
       "      <th>UserId</th>\n",
       "      <th>Score</th>\n",
       "      <th>Summary</th>\n",
       "      <th>Text</th>\n",
       "      <th>combined</th>\n",
       "      <th>n_tokens</th>\n",
       "      <th>embedding</th>\n",
       "      <th>sentiment</th>\n",
       "    </tr>\n",
       "  </thead>\n",
       "  <tbody>\n",
       "    <tr>\n",
       "      <th>0</th>\n",
       "      <td>0</td>\n",
       "      <td>B003XPF9BO</td>\n",
       "      <td>A3R7JR3FMEBXQB</td>\n",
       "      <td>5</td>\n",
       "      <td>where does one  start...and stop... with a tre...</td>\n",
       "      <td>Wanted to save some to bring to my Chicago fam...</td>\n",
       "      <td>Title: where does one  start...and stop... wit...</td>\n",
       "      <td>52</td>\n",
       "      <td>[0.007018072064965963, -0.02731654793024063, 0...</td>\n",
       "      <td>positive</td>\n",
       "    </tr>\n",
       "    <tr>\n",
       "      <th>1</th>\n",
       "      <td>297</td>\n",
       "      <td>B003VXHGPK</td>\n",
       "      <td>A21VWSCGW7UUAR</td>\n",
       "      <td>4</td>\n",
       "      <td>Good, but not Wolfgang Puck good</td>\n",
       "      <td>Honestly, I have to admit that I expected a li...</td>\n",
       "      <td>Title: Good, but not Wolfgang Puck good; Conte...</td>\n",
       "      <td>178</td>\n",
       "      <td>[-0.003140551969408989, -0.009995664469897747,...</td>\n",
       "      <td>positive</td>\n",
       "    </tr>\n",
       "    <tr>\n",
       "      <th>2</th>\n",
       "      <td>296</td>\n",
       "      <td>B008JKTTUA</td>\n",
       "      <td>A34XBAIFT02B60</td>\n",
       "      <td>1</td>\n",
       "      <td>Should advertise coconut as an ingredient more...</td>\n",
       "      <td>First, these should be called Mac - Coconut ba...</td>\n",
       "      <td>Title: Should advertise coconut as an ingredie...</td>\n",
       "      <td>78</td>\n",
       "      <td>[-0.01757248118519783, -8.266511576948687e-05,...</td>\n",
       "      <td>negative</td>\n",
       "    </tr>\n",
       "    <tr>\n",
       "      <th>3</th>\n",
       "      <td>295</td>\n",
       "      <td>B000LKTTTW</td>\n",
       "      <td>A14MQ40CCU8B13</td>\n",
       "      <td>5</td>\n",
       "      <td>Best tomato soup</td>\n",
       "      <td>I have a hard time finding packaged food of an...</td>\n",
       "      <td>Title: Best tomato soup; Content: I have a har...</td>\n",
       "      <td>111</td>\n",
       "      <td>[-0.0013932279543951154, -0.011112828738987446...</td>\n",
       "      <td>positive</td>\n",
       "    </tr>\n",
       "    <tr>\n",
       "      <th>4</th>\n",
       "      <td>294</td>\n",
       "      <td>B001D09KAM</td>\n",
       "      <td>A34XBAIFT02B60</td>\n",
       "      <td>1</td>\n",
       "      <td>Should advertise coconut as an ingredient more...</td>\n",
       "      <td>First, these should be called Mac - Coconut ba...</td>\n",
       "      <td>Title: Should advertise coconut as an ingredie...</td>\n",
       "      <td>78</td>\n",
       "      <td>[-0.01757248118519783, -8.266511576948687e-05,...</td>\n",
       "      <td>negative</td>\n",
       "    </tr>\n",
       "  </tbody>\n",
       "</table>\n",
       "</div>"
      ],
      "text/plain": [
       "   Unnamed: 0   ProductId          UserId  Score   \n",
       "0           0  B003XPF9BO  A3R7JR3FMEBXQB      5  \\\n",
       "1         297  B003VXHGPK  A21VWSCGW7UUAR      4   \n",
       "2         296  B008JKTTUA  A34XBAIFT02B60      1   \n",
       "3         295  B000LKTTTW  A14MQ40CCU8B13      5   \n",
       "4         294  B001D09KAM  A34XBAIFT02B60      1   \n",
       "\n",
       "                                             Summary   \n",
       "0  where does one  start...and stop... with a tre...  \\\n",
       "1                   Good, but not Wolfgang Puck good   \n",
       "2  Should advertise coconut as an ingredient more...   \n",
       "3                                   Best tomato soup   \n",
       "4  Should advertise coconut as an ingredient more...   \n",
       "\n",
       "                                                Text   \n",
       "0  Wanted to save some to bring to my Chicago fam...  \\\n",
       "1  Honestly, I have to admit that I expected a li...   \n",
       "2  First, these should be called Mac - Coconut ba...   \n",
       "3  I have a hard time finding packaged food of an...   \n",
       "4  First, these should be called Mac - Coconut ba...   \n",
       "\n",
       "                                            combined  n_tokens   \n",
       "0  Title: where does one  start...and stop... wit...        52  \\\n",
       "1  Title: Good, but not Wolfgang Puck good; Conte...       178   \n",
       "2  Title: Should advertise coconut as an ingredie...        78   \n",
       "3  Title: Best tomato soup; Content: I have a har...       111   \n",
       "4  Title: Should advertise coconut as an ingredie...        78   \n",
       "\n",
       "                                           embedding sentiment  \n",
       "0  [0.007018072064965963, -0.02731654793024063, 0...  positive  \n",
       "1  [-0.003140551969408989, -0.009995664469897747,...  positive  \n",
       "2  [-0.01757248118519783, -8.266511576948687e-05,...  negative  \n",
       "3  [-0.0013932279543951154, -0.011112828738987446...  positive  \n",
       "4  [-0.01757248118519783, -8.266511576948687e-05,...  negative  "
      ]
     },
     "execution_count": 4,
     "metadata": {},
     "output_type": "execute_result"
    }
   ],
   "source": [
    "df.head()"
   ]
  },
  {
   "cell_type": "code",
   "execution_count": 5,
   "metadata": {},
   "outputs": [
    {
     "ename": "NameError",
     "evalue": "name 'EMBEDDING_MODEL' is not defined",
     "output_type": "error",
     "traceback": [
      "\u001b[0;31m---------------------------------------------------------------------------\u001b[0m",
      "\u001b[0;31mNameError\u001b[0m                                 Traceback (most recent call last)",
      "Cell \u001b[0;32mIn[5], line 6\u001b[0m\n\u001b[1;32m      1\u001b[0m \u001b[39mfrom\u001b[39;00m \u001b[39msklearn\u001b[39;00m\u001b[39m.\u001b[39;00m\u001b[39mmetrics\u001b[39;00m \u001b[39mimport\u001b[39;00m PrecisionRecallDisplay\n\u001b[1;32m      2\u001b[0m \u001b[39mfrom\u001b[39;00m \u001b[39mopenai\u001b[39;00m\u001b[39m.\u001b[39;00m\u001b[39membeddings_utils\u001b[39;00m \u001b[39mimport\u001b[39;00m cosine_similarity, get_embedding\n\u001b[1;32m      4\u001b[0m \u001b[39mdef\u001b[39;00m \u001b[39mevaluate_embeddings_approach\u001b[39m(\n\u001b[1;32m      5\u001b[0m     labels \u001b[39m=\u001b[39m [\u001b[39m'\u001b[39m\u001b[39mnegative\u001b[39m\u001b[39m'\u001b[39m, \u001b[39m'\u001b[39m\u001b[39mpositive\u001b[39m\u001b[39m'\u001b[39m], \n\u001b[0;32m----> 6\u001b[0m     model \u001b[39m=\u001b[39m EMBEDDING_MODEL,\n\u001b[1;32m      7\u001b[0m ):\n\u001b[1;32m      8\u001b[0m     label_embeddings \u001b[39m=\u001b[39m [get_embedding(label, engine\u001b[39m=\u001b[39mmodel) \u001b[39mfor\u001b[39;00m label \u001b[39min\u001b[39;00m labels]\n\u001b[1;32m     10\u001b[0m     \u001b[39mdef\u001b[39;00m \u001b[39mlabel_score\u001b[39m(review_embedding, label_embeddings):\n",
      "\u001b[0;31mNameError\u001b[0m: name 'EMBEDDING_MODEL' is not defined"
     ]
    }
   ],
   "source": [
    "from sklearn.metrics import PrecisionRecallDisplay\n",
    "from openai.embeddings_utils import cosine_similarity, get_embedding\n",
    "\n",
    "def evaluate_embeddings_approach(\n",
    "    labels = ['negative', 'positive'], \n",
    "    model = EMBEDDING_MODEL,\n",
    "):\n",
    "    label_embeddings = [get_embedding(label, engine=model) for label in labels]\n",
    "\n",
    "    def label_score(review_embedding, label_embeddings):\n",
    "        return cosine_similarity(review_embedding, label_embeddings[1]) - cosine_similarity(review_embedding, label_embeddings[0])\n",
    "\n",
    "    probas = df[\"embedding\"].apply(lambda x: label_score(x, label_embeddings))\n",
    "    preds = probas.apply(lambda x: 'positive' if x>0 else 'negative')\n",
    "\n",
    "    report = classification_report(df.sentiment, preds)\n",
    "    print(report)\n",
    "\n",
    "    display = PrecisionRecallDisplay.from_predictions(df.sentiment, probas, pos_label='positive')\n",
    "    _ = display.ax_.set_title(\"2-class Precision-Recall curve\")\n",
    "\n",
    "evaluate_embeddings_approach(labels=['An Amazon review with a negative sentiment.', 'An Amazon review with a positive sentiment.'])"
   ]
  },
  {
   "attachments": {},
   "cell_type": "markdown",
   "metadata": {},
   "source": [
    "### 通过机器学习进行分类"
   ]
  },
  {
   "cell_type": "code",
   "execution_count": 72,
   "metadata": {},
   "outputs": [
    {
     "ename": "NameError",
     "evalue": "name 'pd' is not defined",
     "output_type": "error",
     "traceback": [
      "\u001b[0;31m---------------------------------------------------------------------------\u001b[0m",
      "\u001b[0;31mNameError\u001b[0m                                 Traceback (most recent call last)",
      "Cell \u001b[0;32mIn[72], line 5\u001b[0m\n\u001b[1;32m      2\u001b[0m \u001b[39mfrom\u001b[39;00m \u001b[39msklearn\u001b[39;00m\u001b[39m.\u001b[39;00m\u001b[39mmodel_selection\u001b[39;00m \u001b[39mimport\u001b[39;00m train_test_split\n\u001b[1;32m      3\u001b[0m \u001b[39mfrom\u001b[39;00m \u001b[39msklearn\u001b[39;00m\u001b[39m.\u001b[39;00m\u001b[39mmetrics\u001b[39;00m \u001b[39mimport\u001b[39;00m classification_report, accuracy_score\n\u001b[0;32m----> 5\u001b[0m training_data \u001b[39m=\u001b[39m pd\u001b[39m.\u001b[39mread_parquet(\u001b[39m\"\u001b[39m\u001b[39mdata/toutiao_cat_data_all_with_embeddings.parquet\u001b[39m\u001b[39m\"\u001b[39m)\n\u001b[1;32m      7\u001b[0m df \u001b[39m=\u001b[39m  training_data\u001b[39m.\u001b[39msample(\u001b[39m50000\u001b[39m, random_state\u001b[39m=\u001b[39m\u001b[39m42\u001b[39m)\n\u001b[1;32m      9\u001b[0m X_train, X_test, y_train, y_test \u001b[39m=\u001b[39m train_test_split(\n\u001b[1;32m     10\u001b[0m     \u001b[39mlist\u001b[39m(df\u001b[39m.\u001b[39membedding\u001b[39m.\u001b[39mvalues), df\u001b[39m.\u001b[39mcategory, test_size\u001b[39m=\u001b[39m\u001b[39m0.2\u001b[39m, random_state\u001b[39m=\u001b[39m\u001b[39m42\u001b[39m\n\u001b[1;32m     11\u001b[0m )\n",
      "\u001b[0;31mNameError\u001b[0m: name 'pd' is not defined"
     ]
    }
   ],
   "source": [
    "from sklearn.linear_model import LogisticRegression\n",
    "from sklearn.model_selection import train_test_split\n",
    "from sklearn.metrics import classification_report, accuracy_score\n",
    "\n",
    "training_data = pd.read_parquet(\"data/toutiao_cat_data_all_with_embeddings.parquet\")\n",
    "\n",
    "df =  training_data.sample(50000, random_state=42)\n",
    "\n",
    "X_train, X_test, y_train, y_test = train_test_split(\n",
    "    list(df.embedding.values), df.category, test_size=0.2, random_state=42\n",
    ")\n",
    "\n",
    "clf = LogisticRegression()\n",
    "clf.fit(X_train, y_train)\n",
    "preds = clf.predict(X_test)\n",
    "probas = clf.predict_proba(X_test)\n",
    "\n",
    "report = classification_report(y_test, preds)\n",
    "print(report)"
   ]
  },
  {
   "cell_type": "code",
   "execution_count": 67,
   "metadata": {},
   "outputs": [
    {
     "data": {
      "text/html": [
       "<div>\n",
       "<style scoped>\n",
       "    .dataframe tbody tr th:only-of-type {\n",
       "        vertical-align: middle;\n",
       "    }\n",
       "\n",
       "    .dataframe tbody tr th {\n",
       "        vertical-align: top;\n",
       "    }\n",
       "\n",
       "    .dataframe thead th {\n",
       "        text-align: right;\n",
       "    }\n",
       "</style>\n",
       "<table border=\"1\" class=\"dataframe\">\n",
       "  <thead>\n",
       "    <tr style=\"text-align: right;\">\n",
       "      <th></th>\n",
       "      <th>id</th>\n",
       "      <th>code</th>\n",
       "      <th>category</th>\n",
       "      <th>title</th>\n",
       "      <th>keywords</th>\n",
       "      <th>combined</th>\n",
       "      <th>n_tokens</th>\n",
       "      <th>embedding</th>\n",
       "    </tr>\n",
       "  </thead>\n",
       "  <tbody>\n",
       "    <tr>\n",
       "      <th>306237</th>\n",
       "      <td>6524143112997044743</td>\n",
       "      <td>100</td>\n",
       "      <td>news_story</td>\n",
       "      <td>将女儿扔老家10年后我接她回家，没多久妻子被杀我才知她身份不对</td>\n",
       "      <td>小安,不好意思,她在杀人,星期六,女孩儿,超能力,工程事故,冯为杰,冯欣冉,浏览器,狄海</td>\n",
       "      <td>标题: 将女儿扔老家10年后我接她回家，没多久妻子被杀我才知她身份不对; 关键字: 小安,不...</td>\n",
       "      <td>110</td>\n",
       "      <td>[-0.015406427904963493, -0.007328800391405821,...</td>\n",
       "    </tr>\n",
       "    <tr>\n",
       "      <th>123419</th>\n",
       "      <td>6553127618529460483</td>\n",
       "      <td>101</td>\n",
       "      <td>news_culture</td>\n",
       "      <td>在中国古代，有没有人认为地球是圆的呢？</td>\n",
       "      <td></td>\n",
       "      <td>标题: 在中国古代，有没有人认为地球是圆的呢？; 关键字:</td>\n",
       "      <td>28</td>\n",
       "      <td>[0.023000160232186317, -0.004472616594284773, ...</td>\n",
       "    </tr>\n",
       "    <tr>\n",
       "      <th>49255</th>\n",
       "      <td>6511643474234704135</td>\n",
       "      <td>113</td>\n",
       "      <td>news_world</td>\n",
       "      <td>先冻结房产，再冻结养老活命钱，韩国为何如此苛刻对待前总统朴槿惠？</td>\n",
       "      <td>前总统,朴槿惠,检方,韩国,韩国法院</td>\n",
       "      <td>标题: 先冻结房产，再冻结养老活命钱，韩国为何如此苛刻对待前总统朴槿惠？; 关键字: 前总统...</td>\n",
       "      <td>81</td>\n",
       "      <td>[0.0021718391217291355, -0.01761491596698761, ...</td>\n",
       "    </tr>\n",
       "    <tr>\n",
       "      <th>135430</th>\n",
       "      <td>6553195755832606979</td>\n",
       "      <td>109</td>\n",
       "      <td>news_tech</td>\n",
       "      <td>电脑总是无响应是什么回事？</td>\n",
       "      <td></td>\n",
       "      <td>标题: 电脑总是无响应是什么回事？; 关键字:</td>\n",
       "      <td>26</td>\n",
       "      <td>[-0.01490439660847187, -0.012121899053454399, ...</td>\n",
       "    </tr>\n",
       "    <tr>\n",
       "      <th>331509</th>\n",
       "      <td>6554427356038038019</td>\n",
       "      <td>113</td>\n",
       "      <td>news_world</td>\n",
       "      <td>中国宣布全面终止合作，这个国家将付出沉重代价！</td>\n",
       "      <td>天然气,出口商,煤炭,中方,澳大利亚</td>\n",
       "      <td>标题: 中国宣布全面终止合作，这个国家将付出沉重代价！; 关键字: 天然气,出口商,煤炭,中...</td>\n",
       "      <td>59</td>\n",
       "      <td>[-0.01608712412416935, -0.033476412296295166, ...</td>\n",
       "    </tr>\n",
       "  </tbody>\n",
       "</table>\n",
       "</div>"
      ],
      "text/plain": [
       "                         id  code      category   \n",
       "306237  6524143112997044743   100    news_story  \\\n",
       "123419  6553127618529460483   101  news_culture   \n",
       "49255   6511643474234704135   113    news_world   \n",
       "135430  6553195755832606979   109     news_tech   \n",
       "331509  6554427356038038019   113    news_world   \n",
       "\n",
       "                                   title   \n",
       "306237   将女儿扔老家10年后我接她回家，没多久妻子被杀我才知她身份不对  \\\n",
       "123419               在中国古代，有没有人认为地球是圆的呢？   \n",
       "49255   先冻结房产，再冻结养老活命钱，韩国为何如此苛刻对待前总统朴槿惠？   \n",
       "135430                     电脑总是无响应是什么回事？   \n",
       "331509           中国宣布全面终止合作，这个国家将付出沉重代价！   \n",
       "\n",
       "                                            keywords   \n",
       "306237  小安,不好意思,她在杀人,星期六,女孩儿,超能力,工程事故,冯为杰,冯欣冉,浏览器,狄海  \\\n",
       "123419                                                 \n",
       "49255                             前总统,朴槿惠,检方,韩国,韩国法院   \n",
       "135430                                                 \n",
       "331509                            天然气,出口商,煤炭,中方,澳大利亚   \n",
       "\n",
       "                                                 combined  n_tokens   \n",
       "306237  标题: 将女儿扔老家10年后我接她回家，没多久妻子被杀我才知她身份不对; 关键字: 小安,不...       110  \\\n",
       "123419                     标题: 在中国古代，有没有人认为地球是圆的呢？; 关键字:         28   \n",
       "49255   标题: 先冻结房产，再冻结养老活命钱，韩国为何如此苛刻对待前总统朴槿惠？; 关键字: 前总统...        81   \n",
       "135430                           标题: 电脑总是无响应是什么回事？; 关键字:         26   \n",
       "331509  标题: 中国宣布全面终止合作，这个国家将付出沉重代价！; 关键字: 天然气,出口商,煤炭,中...        59   \n",
       "\n",
       "                                                embedding  \n",
       "306237  [-0.015406427904963493, -0.007328800391405821,...  \n",
       "123419  [0.023000160232186317, -0.004472616594284773, ...  \n",
       "49255   [0.0021718391217291355, -0.01761491596698761, ...  \n",
       "135430  [-0.01490439660847187, -0.012121899053454399, ...  \n",
       "331509  [-0.01608712412416935, -0.033476412296295166, ...  "
      ]
     },
     "execution_count": 67,
     "metadata": {},
     "output_type": "execute_result"
    }
   ],
   "source": [
    "df.head()"
   ]
  },
  {
   "cell_type": "code",
   "execution_count": 68,
   "metadata": {},
   "outputs": [
    {
     "name": "stdout",
     "output_type": "stream",
     "text": [
      "Prediction: news_sports\n"
     ]
    }
   ],
   "source": [
    "sports_news = get_embedding(\"【西海岸】ESPN：马龙教练不容易，保持核心掘金能复刻冠军\", engine=EMBEDDING_MODEL)\n",
    "prediction = clf.predict([sports_news])[0]\n",
    "print(f\"Prediction: {prediction}\")"
   ]
  },
  {
   "cell_type": "code",
   "execution_count": 69,
   "metadata": {},
   "outputs": [
    {
     "name": "stdout",
     "output_type": "stream",
     "text": [
      "Prediction: news_finance\n"
     ]
    }
   ],
   "source": [
    "finance_news = get_embedding(\"北上资金净买入超百亿元 重点加仓新能源汽车产业\", engine=EMBEDDING_MODEL)\n",
    "prediction = clf.predict([finance_news])[0]\n",
    "print(f\"Prediction: {prediction}\")"
   ]
  },
  {
   "attachments": {},
   "cell_type": "markdown",
   "metadata": {},
   "source": [
    "### 通过机器学习进行聚类"
   ]
  },
  {
   "cell_type": "code",
   "execution_count": 73,
   "metadata": {},
   "outputs": [
    {
     "ename": "NameError",
     "evalue": "name 'pd' is not defined",
     "output_type": "error",
     "traceback": [
      "\u001b[0;31m---------------------------------------------------------------------------\u001b[0m",
      "\u001b[0;31mNameError\u001b[0m                                 Traceback (most recent call last)",
      "Cell \u001b[0;32mIn[73], line 4\u001b[0m\n\u001b[1;32m      1\u001b[0m \u001b[39mimport\u001b[39;00m \u001b[39mnumpy\u001b[39;00m \u001b[39mas\u001b[39;00m \u001b[39mnp\u001b[39;00m\n\u001b[1;32m      2\u001b[0m \u001b[39mfrom\u001b[39;00m \u001b[39msklearn\u001b[39;00m\u001b[39m.\u001b[39;00m\u001b[39mcluster\u001b[39;00m \u001b[39mimport\u001b[39;00m KMeans\n\u001b[0;32m----> 4\u001b[0m embedding_df \u001b[39m=\u001b[39m pd\u001b[39m.\u001b[39mread_parquet(\u001b[39m\"\u001b[39m\u001b[39mdata/20_newsgroup_with_embedding.parquet\u001b[39m\u001b[39m\"\u001b[39m)\n\u001b[1;32m      6\u001b[0m matrix \u001b[39m=\u001b[39m np\u001b[39m.\u001b[39mvstack(embedding_df\u001b[39m.\u001b[39membedding\u001b[39m.\u001b[39mvalues) \u001b[39m# type: ignore\u001b[39;00m\n\u001b[1;32m      7\u001b[0m num_of_clusters \u001b[39m=\u001b[39m \u001b[39m20\u001b[39m\n",
      "\u001b[0;31mNameError\u001b[0m: name 'pd' is not defined"
     ]
    }
   ],
   "source": [
    "import numpy as np\n",
    "from sklearn.cluster import KMeans\n",
    "\n",
    "embedding_df = pd.read_parquet(\"data/20_newsgroup_with_embedding.parquet\")\n",
    "\n",
    "matrix = np.vstack(embedding_df.embedding.values) # type: ignore\n",
    "num_of_clusters = 20\n",
    "\n",
    "kmeans = KMeans(n_clusters=num_of_clusters, init=\"k-means++\", n_init=10, random_state=42)\n",
    "kmeans.fit(matrix)\n",
    "labels = kmeans.labels_\n",
    "embedding_df[\"cluster\"] = labels"
   ]
  },
  {
   "cell_type": "code",
   "execution_count": 71,
   "metadata": {},
   "outputs": [
    {
     "data": {
      "text/html": [
       "<div>\n",
       "<style scoped>\n",
       "    .dataframe tbody tr th:only-of-type {\n",
       "        vertical-align: middle;\n",
       "    }\n",
       "\n",
       "    .dataframe tbody tr th {\n",
       "        vertical-align: top;\n",
       "    }\n",
       "\n",
       "    .dataframe thead th {\n",
       "        text-align: right;\n",
       "    }\n",
       "</style>\n",
       "<table border=\"1\" class=\"dataframe\">\n",
       "  <thead>\n",
       "    <tr style=\"text-align: right;\">\n",
       "      <th></th>\n",
       "      <th>text</th>\n",
       "      <th>target</th>\n",
       "      <th>title</th>\n",
       "      <th>n_tokens</th>\n",
       "      <th>embedding</th>\n",
       "      <th>cluster</th>\n",
       "    </tr>\n",
       "  </thead>\n",
       "  <tbody>\n",
       "    <tr>\n",
       "      <th>0</th>\n",
       "      <td>I was wondering if anyone out there could enli...</td>\n",
       "      <td>7</td>\n",
       "      <td>rec.autos</td>\n",
       "      <td>121</td>\n",
       "      <td>[-0.0391300804913044, 0.013502633199095726, -0...</td>\n",
       "      <td>5</td>\n",
       "    </tr>\n",
       "    <tr>\n",
       "      <th>1</th>\n",
       "      <td>\\nIt depends on your priorities.  A lot of peo...</td>\n",
       "      <td>7</td>\n",
       "      <td>rec.autos</td>\n",
       "      <td>108</td>\n",
       "      <td>[-0.0011249205563217402, -0.00376517535187304,...</td>\n",
       "      <td>5</td>\n",
       "    </tr>\n",
       "    <tr>\n",
       "      <th>2</th>\n",
       "      <td>an excellent automatic can be found in the sub...</td>\n",
       "      <td>7</td>\n",
       "      <td>rec.autos</td>\n",
       "      <td>476</td>\n",
       "      <td>[-0.018259447067975998, -0.008410007692873478,...</td>\n",
       "      <td>5</td>\n",
       "    </tr>\n",
       "    <tr>\n",
       "      <th>3</th>\n",
       "      <td>: Ford and his automobile.  I need information...</td>\n",
       "      <td>7</td>\n",
       "      <td>rec.autos</td>\n",
       "      <td>86</td>\n",
       "      <td>[-0.012589422054588795, 0.006539034191519022, ...</td>\n",
       "      <td>5</td>\n",
       "    </tr>\n",
       "    <tr>\n",
       "      <th>4</th>\n",
       "      <td>\\nYo! Watch the attributions--I didn't say tha...</td>\n",
       "      <td>7</td>\n",
       "      <td>rec.autos</td>\n",
       "      <td>130</td>\n",
       "      <td>[-0.0006192282889969647, -0.011226896196603775...</td>\n",
       "      <td>10</td>\n",
       "    </tr>\n",
       "  </tbody>\n",
       "</table>\n",
       "</div>"
      ],
      "text/plain": [
       "                                                text  target      title   \n",
       "0  I was wondering if anyone out there could enli...       7  rec.autos  \\\n",
       "1  \\nIt depends on your priorities.  A lot of peo...       7  rec.autos   \n",
       "2  an excellent automatic can be found in the sub...       7  rec.autos   \n",
       "3  : Ford and his automobile.  I need information...       7  rec.autos   \n",
       "4  \\nYo! Watch the attributions--I didn't say tha...       7  rec.autos   \n",
       "\n",
       "   n_tokens                                          embedding  cluster  \n",
       "0       121  [-0.0391300804913044, 0.013502633199095726, -0...        5  \n",
       "1       108  [-0.0011249205563217402, -0.00376517535187304,...        5  \n",
       "2       476  [-0.018259447067975998, -0.008410007692873478,...        5  \n",
       "3        86  [-0.012589422054588795, 0.006539034191519022, ...        5  \n",
       "4       130  [-0.0006192282889969647, -0.011226896196603775...       10  "
      ]
     },
     "execution_count": 71,
     "metadata": {},
     "output_type": "execute_result"
    }
   ],
   "source": [
    "embedding_df.head()"
   ]
  },
  {
   "cell_type": "code",
   "execution_count": 72,
   "metadata": {},
   "outputs": [
    {
     "data": {
      "text/html": [
       "<div>\n",
       "<style scoped>\n",
       "    .dataframe tbody tr th:only-of-type {\n",
       "        vertical-align: middle;\n",
       "    }\n",
       "\n",
       "    .dataframe tbody tr th {\n",
       "        vertical-align: top;\n",
       "    }\n",
       "\n",
       "    .dataframe thead th {\n",
       "        text-align: right;\n",
       "    }\n",
       "</style>\n",
       "<table border=\"1\" class=\"dataframe\">\n",
       "  <thead>\n",
       "    <tr style=\"text-align: right;\">\n",
       "      <th></th>\n",
       "      <th>cluster</th>\n",
       "      <th>count</th>\n",
       "      <th>rank1</th>\n",
       "      <th>rank1_count</th>\n",
       "      <th>rank2</th>\n",
       "      <th>rank2_count</th>\n",
       "      <th>per_1</th>\n",
       "      <th>per_1_2</th>\n",
       "    </tr>\n",
       "  </thead>\n",
       "  <tbody>\n",
       "    <tr>\n",
       "      <th>0</th>\n",
       "      <td>0</td>\n",
       "      <td>432</td>\n",
       "      <td>comp.windows.x</td>\n",
       "      <td>406</td>\n",
       "      <td>comp.sys.mac.hardware</td>\n",
       "      <td>1.0</td>\n",
       "      <td>93.98%</td>\n",
       "      <td>94.21%</td>\n",
       "    </tr>\n",
       "    <tr>\n",
       "      <th>1</th>\n",
       "      <td>1</td>\n",
       "      <td>418</td>\n",
       "      <td>sci.space</td>\n",
       "      <td>388</td>\n",
       "      <td>alt.atheism</td>\n",
       "      <td>2.0</td>\n",
       "      <td>92.82%</td>\n",
       "      <td>93.30%</td>\n",
       "    </tr>\n",
       "    <tr>\n",
       "      <th>2</th>\n",
       "      <td>2</td>\n",
       "      <td>1035</td>\n",
       "      <td>comp.sys.ibm.pc.hardware</td>\n",
       "      <td>396</td>\n",
       "      <td>comp.sys.mac.hardware</td>\n",
       "      <td>387.0</td>\n",
       "      <td>38.26%</td>\n",
       "      <td>75.65%</td>\n",
       "    </tr>\n",
       "    <tr>\n",
       "      <th>3</th>\n",
       "      <td>3</td>\n",
       "      <td>471</td>\n",
       "      <td>rec.sport.hockey</td>\n",
       "      <td>455</td>\n",
       "      <td>0</td>\n",
       "      <td>0.0</td>\n",
       "      <td>96.60%</td>\n",
       "      <td>96.60%</td>\n",
       "    </tr>\n",
       "    <tr>\n",
       "      <th>4</th>\n",
       "      <td>4</td>\n",
       "      <td>716</td>\n",
       "      <td>talk.politics.misc</td>\n",
       "      <td>270</td>\n",
       "      <td>alt.atheism</td>\n",
       "      <td>150.0</td>\n",
       "      <td>37.71%</td>\n",
       "      <td>58.66%</td>\n",
       "    </tr>\n",
       "    <tr>\n",
       "      <th>5</th>\n",
       "      <td>5</td>\n",
       "      <td>511</td>\n",
       "      <td>rec.autos</td>\n",
       "      <td>420</td>\n",
       "      <td>comp.sys.mac.hardware</td>\n",
       "      <td>6.0</td>\n",
       "      <td>82.19%</td>\n",
       "      <td>83.37%</td>\n",
       "    </tr>\n",
       "    <tr>\n",
       "      <th>6</th>\n",
       "      <td>6</td>\n",
       "      <td>870</td>\n",
       "      <td>rec.motorcycles</td>\n",
       "      <td>100</td>\n",
       "      <td>alt.atheism</td>\n",
       "      <td>73.0</td>\n",
       "      <td>11.49%</td>\n",
       "      <td>19.89%</td>\n",
       "    </tr>\n",
       "    <tr>\n",
       "      <th>7</th>\n",
       "      <td>7</td>\n",
       "      <td>570</td>\n",
       "      <td>comp.os.ms-windows.misc</td>\n",
       "      <td>338</td>\n",
       "      <td>comp.sys.mac.hardware</td>\n",
       "      <td>46.0</td>\n",
       "      <td>59.30%</td>\n",
       "      <td>67.37%</td>\n",
       "    </tr>\n",
       "    <tr>\n",
       "      <th>8</th>\n",
       "      <td>8</td>\n",
       "      <td>435</td>\n",
       "      <td>talk.politics.mideast</td>\n",
       "      <td>372</td>\n",
       "      <td>alt.atheism</td>\n",
       "      <td>23.0</td>\n",
       "      <td>85.52%</td>\n",
       "      <td>90.80%</td>\n",
       "    </tr>\n",
       "    <tr>\n",
       "      <th>9</th>\n",
       "      <td>9</td>\n",
       "      <td>84</td>\n",
       "      <td>comp.os.ms-windows.misc</td>\n",
       "      <td>8</td>\n",
       "      <td>comp.sys.mac.hardware</td>\n",
       "      <td>8.0</td>\n",
       "      <td>9.52%</td>\n",
       "      <td>19.05%</td>\n",
       "    </tr>\n",
       "    <tr>\n",
       "      <th>10</th>\n",
       "      <td>10</td>\n",
       "      <td>527</td>\n",
       "      <td>talk.politics.guns</td>\n",
       "      <td>382</td>\n",
       "      <td>talk.religion.misc</td>\n",
       "      <td>35.0</td>\n",
       "      <td>72.49%</td>\n",
       "      <td>79.13%</td>\n",
       "    </tr>\n",
       "    <tr>\n",
       "      <th>11</th>\n",
       "      <td>11</td>\n",
       "      <td>554</td>\n",
       "      <td>comp.graphics</td>\n",
       "      <td>324</td>\n",
       "      <td>comp.sys.mac.hardware</td>\n",
       "      <td>17.0</td>\n",
       "      <td>58.48%</td>\n",
       "      <td>61.55%</td>\n",
       "    </tr>\n",
       "    <tr>\n",
       "      <th>12</th>\n",
       "      <td>12</td>\n",
       "      <td>372</td>\n",
       "      <td>rec.motorcycles</td>\n",
       "      <td>355</td>\n",
       "      <td>alt.atheism</td>\n",
       "      <td>1.0</td>\n",
       "      <td>95.43%</td>\n",
       "      <td>95.70%</td>\n",
       "    </tr>\n",
       "    <tr>\n",
       "      <th>13</th>\n",
       "      <td>13</td>\n",
       "      <td>840</td>\n",
       "      <td>soc.religion.christian</td>\n",
       "      <td>460</td>\n",
       "      <td>alt.atheism</td>\n",
       "      <td>188.0</td>\n",
       "      <td>54.76%</td>\n",
       "      <td>77.14%</td>\n",
       "    </tr>\n",
       "    <tr>\n",
       "      <th>14</th>\n",
       "      <td>14</td>\n",
       "      <td>468</td>\n",
       "      <td>rec.sport.baseball</td>\n",
       "      <td>451</td>\n",
       "      <td>0</td>\n",
       "      <td>0.0</td>\n",
       "      <td>96.37%</td>\n",
       "      <td>96.37%</td>\n",
       "    </tr>\n",
       "    <tr>\n",
       "      <th>15</th>\n",
       "      <td>15</td>\n",
       "      <td>538</td>\n",
       "      <td>misc.forsale</td>\n",
       "      <td>438</td>\n",
       "      <td>comp.sys.mac.hardware</td>\n",
       "      <td>27.0</td>\n",
       "      <td>81.41%</td>\n",
       "      <td>86.43%</td>\n",
       "    </tr>\n",
       "    <tr>\n",
       "      <th>16</th>\n",
       "      <td>16</td>\n",
       "      <td>363</td>\n",
       "      <td>sci.crypt</td>\n",
       "      <td>349</td>\n",
       "      <td>comp.sys.mac.hardware</td>\n",
       "      <td>1.0</td>\n",
       "      <td>96.14%</td>\n",
       "      <td>96.42%</td>\n",
       "    </tr>\n",
       "    <tr>\n",
       "      <th>17</th>\n",
       "      <td>17</td>\n",
       "      <td>479</td>\n",
       "      <td>sci.electronics</td>\n",
       "      <td>336</td>\n",
       "      <td>comp.sys.mac.hardware</td>\n",
       "      <td>28.0</td>\n",
       "      <td>70.15%</td>\n",
       "      <td>75.99%</td>\n",
       "    </tr>\n",
       "    <tr>\n",
       "      <th>18</th>\n",
       "      <td>18</td>\n",
       "      <td>425</td>\n",
       "      <td>sci.med</td>\n",
       "      <td>402</td>\n",
       "      <td>alt.atheism</td>\n",
       "      <td>1.0</td>\n",
       "      <td>94.59%</td>\n",
       "      <td>94.82%</td>\n",
       "    </tr>\n",
       "    <tr>\n",
       "      <th>19</th>\n",
       "      <td>19</td>\n",
       "      <td>532</td>\n",
       "      <td>sci.electronics</td>\n",
       "      <td>62</td>\n",
       "      <td>comp.sys.mac.hardware</td>\n",
       "      <td>23.0</td>\n",
       "      <td>11.65%</td>\n",
       "      <td>15.98%</td>\n",
       "    </tr>\n",
       "  </tbody>\n",
       "</table>\n",
       "</div>"
      ],
      "text/plain": [
       "    cluster  count                     rank1  rank1_count   \n",
       "0         0    432            comp.windows.x          406  \\\n",
       "1         1    418                 sci.space          388   \n",
       "2         2   1035  comp.sys.ibm.pc.hardware          396   \n",
       "3         3    471          rec.sport.hockey          455   \n",
       "4         4    716        talk.politics.misc          270   \n",
       "5         5    511                 rec.autos          420   \n",
       "6         6    870           rec.motorcycles          100   \n",
       "7         7    570   comp.os.ms-windows.misc          338   \n",
       "8         8    435     talk.politics.mideast          372   \n",
       "9         9     84   comp.os.ms-windows.misc            8   \n",
       "10       10    527        talk.politics.guns          382   \n",
       "11       11    554             comp.graphics          324   \n",
       "12       12    372           rec.motorcycles          355   \n",
       "13       13    840    soc.religion.christian          460   \n",
       "14       14    468        rec.sport.baseball          451   \n",
       "15       15    538              misc.forsale          438   \n",
       "16       16    363                 sci.crypt          349   \n",
       "17       17    479           sci.electronics          336   \n",
       "18       18    425                   sci.med          402   \n",
       "19       19    532           sci.electronics           62   \n",
       "\n",
       "                    rank2  rank2_count   per_1 per_1_2  \n",
       "0   comp.sys.mac.hardware          1.0  93.98%  94.21%  \n",
       "1             alt.atheism          2.0  92.82%  93.30%  \n",
       "2   comp.sys.mac.hardware        387.0  38.26%  75.65%  \n",
       "3                       0          0.0  96.60%  96.60%  \n",
       "4             alt.atheism        150.0  37.71%  58.66%  \n",
       "5   comp.sys.mac.hardware          6.0  82.19%  83.37%  \n",
       "6             alt.atheism         73.0  11.49%  19.89%  \n",
       "7   comp.sys.mac.hardware         46.0  59.30%  67.37%  \n",
       "8             alt.atheism         23.0  85.52%  90.80%  \n",
       "9   comp.sys.mac.hardware          8.0   9.52%  19.05%  \n",
       "10     talk.religion.misc         35.0  72.49%  79.13%  \n",
       "11  comp.sys.mac.hardware         17.0  58.48%  61.55%  \n",
       "12            alt.atheism          1.0  95.43%  95.70%  \n",
       "13            alt.atheism        188.0  54.76%  77.14%  \n",
       "14                      0          0.0  96.37%  96.37%  \n",
       "15  comp.sys.mac.hardware         27.0  81.41%  86.43%  \n",
       "16  comp.sys.mac.hardware          1.0  96.14%  96.42%  \n",
       "17  comp.sys.mac.hardware         28.0  70.15%  75.99%  \n",
       "18            alt.atheism          1.0  94.59%  94.82%  \n",
       "19  comp.sys.mac.hardware         23.0  11.65%  15.98%  "
      ]
     },
     "metadata": {},
     "output_type": "display_data"
    }
   ],
   "source": [
    "\n",
    "# 统计每个cluster的数量\n",
    "new_df = embedding_df.groupby('cluster')['cluster'].count().reset_index(name='count')\n",
    "\n",
    "# 统计这个cluster里最多的分类的数量\n",
    "title_count = embedding_df.groupby(['cluster', 'title']).size().reset_index(name='title_count')\n",
    "first_titles = title_count.groupby('cluster').apply(lambda x: x.nlargest(1, columns=['title_count']))\n",
    "first_titles = first_titles.reset_index(drop=True)\n",
    "new_df = pd.merge(new_df, first_titles[['cluster', 'title', 'title_count']], on='cluster', how='left')\n",
    "new_df = new_df.rename(columns={'title': 'rank1', 'title_count': 'rank1_count'})\n",
    "\n",
    "# 统计这个cluster里第二多的分类的数量\n",
    "second_titles = title_count[~title_count['title'].isin(first_titles['title'])]\n",
    "second_titles = second_titles.groupby('cluster').apply(lambda x: x.nlargest(1, columns=['title_count']))\n",
    "second_titles = second_titles.reset_index(drop=True)\n",
    "new_df = pd.merge(new_df, second_titles[['cluster', 'title', 'title_count']], on='cluster', how='left')\n",
    "new_df = new_df.rename(columns={'title': 'rank2', 'title_count': 'rank2_count'})\n",
    "new_df.fillna(0, inplace=True)\n",
    "new_df['per_1'] = (new_df['rank1_count'] / new_df['count']).map(lambda x: '{:.2%}'.format(x))\n",
    "new_df['per_1_2'] = ((new_df['rank1_count'] + new_df['rank2_count'])/ new_df['count']).map(lambda x: '{:.2%}'.format(x))\n",
    "\n",
    "# 将缺失值替换为 0\n",
    "# 输出结果\n",
    "display(new_df)"
   ]
  },
  {
   "cell_type": "code",
   "execution_count": 73,
   "metadata": {},
   "outputs": [
    {
     "name": "stdout",
     "output_type": "stream",
     "text": [
      "Cluster 0, Rank 1: comp.windows.x, Theme: Xlib编程\n",
      "Cluster 1, Rank 1: sci.space, Theme: 太空技术与航空\n",
      "Cluster 2, Rank 1: comp.sys.ibm.pc.hardware, Theme: 电脑硬件\n",
      "Cluster 3, Rank 1: rec.sport.hockey, Theme: 欧洲冰球vs北美冰球\n",
      "Cluster 4, Rank 1: talk.politics.misc, Theme: 社会观点与自由\n",
      "Cluster 5, Rank 1: rec.autos, Theme: 汽车硬件\n",
      "Cluster 6, Rank 1: rec.motorcycles, Theme: 数学与文化冲击\n",
      "Cluster 7, Rank 1: comp.os.ms-windows.misc, Theme: PC软件与硬件\n",
      "Cluster 8, Rank 1: talk.politics.mideast, Theme: “穆斯林大屠杀”\n",
      "Cluster 9, Rank 1: comp.os.ms-windows.misc, Theme: 科技产品\"\"\"\n",
      "Cluster 10, Rank 1: talk.politics.guns, Theme: 枪支管制与安全\n",
      "Cluster 11, Rank 1: comp.graphics, Theme: 计算机编程与硬件\n",
      "Cluster 12, Rank 1: rec.motorcycles, Theme: 安全骑行：驾驶课程与技巧\n",
      "Cluster 13, Rank 1: soc.religion.christian, Theme: 宗教信仰与实践\n",
      "Cluster 14, Rank 1: rec.sport.baseball, Theme: 棒球联盟\n",
      "Cluster 15, Rank 1: misc.forsale, Theme: 购物优惠和出售\n",
      "Cluster 16, Rank 1: sci.crypt, Theme: 关于加密政策的讨论\n",
      "Cluster 17, Rank 1: sci.electronics, Theme: 电子设备连接与维护\n",
      "Cluster 18, Rank 1: sci.med, Theme: 药物和疾病\n",
      "Cluster 19, Rank 1: sci.electronics, Theme: 电子邮件使用者研究\n"
     ]
    }
   ],
   "source": [
    "items_per_cluster = 10\n",
    "COMPLETIONS_MODEL = \"text-davinci-003\"\n",
    "\n",
    "for i in range(num_of_clusters):\n",
    "    cluster_name = new_df[new_df.cluster == i].iloc[0].rank1\n",
    "    print(f\"Cluster {i}, Rank 1: {cluster_name}, Theme:\", end=\" \")\n",
    "\n",
    "    content = \"\\n\".join(\n",
    "        embedding_df[embedding_df.cluster == i].text.sample(items_per_cluster, random_state=42).values\n",
    "    )\n",
    "    response = openai.Completion.create(\n",
    "        model=COMPLETIONS_MODEL,\n",
    "        prompt=f'''我们想要给下面的内容，分组成有意义的类别，以便我们可以对其进行总结。请根据下面这些内容的共同点，总结一个50个字以内的新闻组的名称么？比如 “PC硬件”\\n\\n内容:\\n\"\"\"\\n{content}\\n\"\"\"新闻组名称：''',\n",
    "        temperature=0,\n",
    "        max_tokens=100,\n",
    "        top_p=1,\n",
    "    )\n",
    "    print(response[\"choices\"][0][\"text\"].replace(\"\\n\", \"\")) # type: ignore\n"
   ]
  },
  {
   "cell_type": "code",
   "execution_count": 74,
   "metadata": {},
   "outputs": [
    {
     "name": "stdout",
     "output_type": "stream",
     "text": [
      "Cluster 0, Rank 1: comp.windows.x, 抽样翻译: 没有实际执行它？不知怎么回事，我的一个xterminal用户使得只要点击鼠标右键，就会自动杀死所有客户端-哦，我的：-(谢谢，Fish\n",
      "Cluster 1, Rank 1: sci.space, 抽样翻译: 韦恩·马森和他的团伙在阿拉巴马州发生了什么？我还听说有一个未经证实的谣言，即航空大使们已经消失了。有其他人可以证实吗？\n",
      "Cluster 2, Rank 1: comp.sys.ibm.pc.hardware, 抽样翻译: 我怀疑这不是一个特定于Quadra的问题。去年我不得不放弃我“古老”的Bernoulli 20（每个磁带的价格大约是90美元，使整个事情的价值超过我的整个电脑;）。Ocean Microsystems的技术支持人员建议可以使用一些第三方驱动程序来解决这个问题 - 在我的情况下，磁带无法格式化/挂载/分区用于A / UX。\n",
      "Cluster 3, Rank 1: rec.sport.hockey, 抽样翻译: 我相信那是4-1。罗德·布林道·阿莫尔在第三节19.59时分攻入一球。\n",
      "Cluster 4, Rank 1: talk.politics.misc, 抽样翻译: 为了确保每个人都清楚：“它从未有过”是指“保护”，而不是“未能保护”；即，在我的一生中，我从未见过美国政府始终保护美国公民的利益，除非是意外。\n",
      "Cluster 5, Rank 1: rec.autos, 抽样翻译: 噢，来吧，傻瓜，你要做的就是在你的引擎罩上割一个洞，然后把一个管子放进去，这样你就可以把机油倒进去了。你觉得那些热门车上的大空气进气装置是干什么的？它们只是为了外观，没有人知道，它们提供了进入机油填充孔的途径。\n",
      "Cluster 6, Rank 1: rec.motorcycles, 抽样翻译: 你真是个失败者\n",
      "Cluster 7, Rank 1: comp.os.ms-windows.misc, 抽样翻译: 偶尔你也得为表现良好的东西说句好话。我的东西泽3401没有任何问题。它在DOS和OS/2上运行非常好。对于OS/2，你不需要加载任何特殊的驱动程序。安装会检测到它是一个东西泽驱动器，然后就完成了。顺便说一句，它也非常快！\n",
      "Cluster 8, Rank 1: talk.politics.mideast, 抽样翻译: Avi，    供你参考，伊斯兰教允许宗教自由——在宗教上没有强制。犹太教是否也允许宗教自由（即是否认可非犹太人）？只是好奇而已。\n",
      "Cluster 9, Rank 1: comp.os.ms-windows.misc, 抽样翻译: 每个人都有自己的梦想，但只有勇敢追求梦想的人才能实现它。\n",
      "Cluster 10, Rank 1: talk.politics.guns, 抽样翻译: 不一定，特别是如果强奸犯被认定为此类罪行。例如，如果你有意将手指伸入装满老鼠夹的地方，然后被夹住，这是谁的错？\n",
      "Cluster 11, Rank 1: comp.graphics, 抽样翻译: 帮帮我！！我需要代码/包/任何东西来处理3D数据，并将其转换为带有隐藏线的线框表面。我正在使用DOS机器，代码可以是ANSI C或C ++，ANSI Fortran或Basic。我使用的数据形成一个矩形网格。请将您的回复发布到网络上，以便其他人受益。我的个人观点是，这是一个普遍的兴趣问题。谢谢！！！！！\n",
      "Cluster 12, Rank 1: rec.motorcycles, 抽样翻译: 这是一段心理学，对于任何长期骑行者来说都是必不可少的。人们不会去想“如果我这么做会有别人受到影响吗？”他们只会评估“如果我这么做会受到影响吗？”\n",
      "Cluster 13, Rank 1: soc.religion.christian, 抽样翻译: 这是一个非常薄弱的论点，因为没有独立的支持文本（关于关键事件）。至于新约最古老的现存文本的日期......如果现在只有一个关于美国内战的现存文本，你会怎么想？现在考虑一个大部分文盲的人口，每一份手稿都是手工复制的......--Hal\n",
      "Cluster 14, Rank 1: rec.sport.baseball, 抽样翻译: 这个赔率意味着你下注5美元赌反败者赢8美元，或者下注9美元赌胜者赢5美元。\n",
      "Cluster 15, Rank 1: misc.forsale, 抽样翻译: 嗯，标题就是这样......我正在寻找便宜的二手TG-16游戏，它们支持2个或更多玩家（同时）....请给我发送所有带有价格的报价。\n",
      "Cluster 16, Rank 1: sci.crypt, 抽样翻译: 哪里？老实说，我没有看到任何……我不同意，至少有其他标准已经存在。此外，即使他们限制NREN上的加密，谁在乎呢？大部分互联网都是商业的。NREN只适用于政府和大学研究（阅读提案-它是一条“数据高速公路”，与互联网无关）。\n",
      "Cluster 17, Rank 1: sci.electronics, 抽样翻译: 动态RAM不是基于翻转锁存器；基本上每个位只有一个晶体管和电容来存储！静态RAM是基于翻转锁存器，更加昂贵，密度也更低。如果忽略电子和热膨胀，两者都没有任何“移动”的部件...Chris\n",
      "Cluster 18, Rank 1: sci.med, 抽样翻译: 化学物质已经消失，感谢大家的回应。\n",
      "Cluster 19, Rank 1: sci.electronics, 抽样翻译: 尝试lyman.pppl.gov--/pub/8051\n"
     ]
    }
   ],
   "source": [
    "items_per_cluster = 1\n",
    "COMPLETIONS_MODEL = \"text-davinci-003\"\n",
    "\n",
    "for i in range(num_of_clusters):\n",
    "    cluster_name = new_df[new_df.cluster == i].iloc[0].rank1\n",
    "    print(f\"Cluster {i}, Rank 1: {cluster_name}, 抽样翻译:\", end=\" \")\n",
    "\n",
    "    content = \"\\n\".join(\n",
    "        embedding_df[(embedding_df.cluster == i) & (embedding_df.n_tokens < 100)].text.sample(items_per_cluster, random_state=42).values\n",
    "    )\n",
    "    response = openai.Completion.create(\n",
    "        model=COMPLETIONS_MODEL,\n",
    "        prompt=f'''请把下面的内容翻译成中文\\n\\n内容:\\n\"\"\"\\n{content}\\n\"\"\"翻译：''',\n",
    "        temperature=0,\n",
    "        max_tokens=500,\n",
    "        top_p=1,\n",
    "    )\n",
    "    print(response[\"choices\"][0][\"text\"].replace(\"\\n\", \"\")) # type: ignore"
   ]
  },
  {
   "attachments": {},
   "cell_type": "markdown",
   "metadata": {},
   "source": [
    "### 减少聚类的数量，来进行可视化"
   ]
  },
  {
   "cell_type": "code",
   "execution_count": 78,
   "metadata": {},
   "outputs": [],
   "source": [
    "import numpy as np\n",
    "from sklearn.cluster import KMeans\n",
    "\n",
    "embedding_df = pd.read_parquet(\"data/20_newsgroup_with_embedding.parquet\")\n",
    "\n",
    "embedding_df = embedding_df[\n",
    "    (embedding_df.title == \"sci.electronics\") |\n",
    "    (embedding_df.title == \"sci.med\") |\n",
    "    (embedding_df.title == \"rec.motorcycles\") |\n",
    "    (embedding_df.title == \"rec.sport.baseball\")\n",
    "]\n",
    "matrix = np.vstack(embedding_df.embedding.values) # type: ignore\n",
    "num_of_clusters = 4\n",
    "\n",
    "kmeans = KMeans(n_clusters=num_of_clusters, init=\"k-means++\", n_init=10, random_state=42)\n",
    "kmeans.fit(matrix)\n",
    "labels = kmeans.labels_\n",
    "embedding_df[\"cluster\"] = labels"
   ]
  },
  {
   "cell_type": "code",
   "execution_count": 81,
   "metadata": {},
   "outputs": [
    {
     "data": {
      "text/plain": [
       "Text(0.5, 1.0, 'Clusters identified visualized in language 2d using t-SNE')"
      ]
     },
     "execution_count": 81,
     "metadata": {},
     "output_type": "execute_result"
    },
    {
     "data": {
      "image/png": "[encoded data removed]",
      "text/plain": [
       "<Figure size 640x480 with 1 Axes>"
      ]
     },
     "metadata": {},
     "output_type": "display_data"
    }
   ],
   "source": [
    "from sklearn.manifold import TSNE\n",
    "import matplotlib\n",
    "import matplotlib.pyplot as plt\n",
    "\n",
    "tsne = TSNE(n_components=2, perplexity=15, random_state=42, init=\"random\", learning_rate=200)\n",
    "vis_dims2 = tsne.fit_transform(matrix)\n",
    "\n",
    "x = [x for x, y in vis_dims2]\n",
    "y = [y for x, y in vis_dims2]\n",
    "\n",
    "for category, color in zip([\"sci.electronics\", \"sci.med\", \"rec.motorcycles\", \"rec.sport.baseball\"], [\"purple\", \"green\", \"red\", \"blue\"]):\n",
    "    xs = np.array(x)[embedding_df.title == category]\n",
    "    ys = np.array(y)[embedding_df.title == category]\n",
    "    plt.scatter(xs, ys, color=color, alpha=0.3)\n",
    "\n",
    "    avg_x = xs.mean()\n",
    "    avg_y = ys.mean()\n",
    "\n",
    "    plt.scatter(avg_x, avg_y, marker=\"x\", color=color, s=100) # type: ignore\n",
    "plt.title(\"Clusters identified visualized in language 2d using t-SNE\")"
   ]
  },
  {
   "attachments": {},
   "cell_type": "markdown",
   "metadata": {},
   "source": [
    "## 多轮聊天对话"
   ]
  },
  {
   "attachments": {},
   "cell_type": "markdown",
   "metadata": {},
   "source": [
    "### 使用原始的 text-davinci-003"
   ]
  },
  {
   "cell_type": "code",
   "execution_count": 6,
   "metadata": {},
   "outputs": [],
   "source": [
    "import os\n",
    "import openai\n",
    "#运行此API配置，需要将目录中的。env中api key替换为自己的\n",
    "from dotenv import load_dotenv, find_dotenv\n",
    "# read local .env file\n",
    "load_dotenv(find_dotenv())\n",
    "\n",
    "openai.api_type = \"azure\"\n",
    "openai.api_base = \"https://alannewlife.openai.azure.com/\"\n",
    "openai.api_version = \"2023-03-15-preview\"\n",
    "openai.api_key = os.getenv(\"OPENAI_API_KEY\")\n",
    "#openai.api_key = os.environ.get(\"OPENAI_API_KEY\")\n",
    "COMPLETION_MODEL = \"text-davinci-003\"\n",
    "\n",
    "def get_response(prompt, temperature = 1.0, stop=None):\n",
    "    completions = openai.Completion.create (\n",
    "        engine=COMPLETION_MODEL,\n",
    "        prompt=prompt,\n",
    "        max_tokens=1024,\n",
    "        n=1,\n",
    "        stop=stop,\n",
    "        temperature=temperature,        \n",
    "    )\n",
    "    message = completions.choices[0].text # type: ignore\n",
    "    return message"
   ]
  },
  {
   "cell_type": "code",
   "execution_count": 7,
   "metadata": {},
   "outputs": [
    {
     "name": "stdout",
     "output_type": "stream",
     "text": [
      "你好！这个端午节我准备去我家乡的一个小村庄，和家人一起庆祝端午节。\n"
     ]
    }
   ],
   "source": [
    "question = \"\"\"Q: 你好，端午节你准备去哪里？\n",
    "A:\"\"\"\n",
    "\n",
    "answer = get_response(question, temperature=0.5, stop=\"Q:\")\n",
    "print(answer)"
   ]
  },
  {
   "cell_type": "code",
   "execution_count": 8,
   "metadata": {},
   "outputs": [
    {
     "name": "stdout",
     "output_type": "stream",
     "text": [
      " 武汉有很多好玩的旅游景点，比如江汉滩公园、武昌植物园、汉口火车站、汉口商业街、黄鹤楼、汉口艺术街等等。\n"
     ]
    }
   ],
   "source": [
    "question = \"\"\"Q: 你好，端午节你准备去哪里？\n",
    "A: 端午节我打算去武汉。\n",
    "Q: 那里有什么好玩的旅游景点？\n",
    "A: \"\"\"\n",
    "\n",
    "answer = get_response(question, temperature=0.5, stop=\"Q:\")\n",
    "print(answer)"
   ]
  },
  {
   "attachments": {},
   "cell_type": "markdown",
   "metadata": {},
   "source": [
    "### 使用ChatCompletion接口"
   ]
  },
  {
   "cell_type": "code",
   "execution_count": 7,
   "metadata": {},
   "outputs": [],
   "source": [
    "#import openai\n",
    "#import os\n",
    "\n",
    "#openai.api_key = os.environ.get(\"OPENAI_API_KEY\")\n",
    "\n",
    "COMPLETION_MODEL = \"gpt-35-turbo\"\n",
    "\n",
    "class Conversation:\n",
    "    def __init__(self, prompt, num_of_round):\n",
    "        self.prompt = prompt\n",
    "        self.num_of_round = num_of_round\n",
    "        self.messages = []\n",
    "        self.messages.append({\"role\": \"system\", \"content\": self.prompt})\n",
    "\n",
    "    def ask(self, question):\n",
    "        try:\n",
    "            self.messages.append( {\"role\": \"user\", \"content\": question})\n",
    "            response = openai.ChatCompletion.create(\n",
    "                #model=COMPLETION_MODEL, #openAI\n",
    "                engine=COMPLETION_MODEL,\n",
    "                messages=self.messages,\n",
    "                temperature=0.5,\n",
    "                max_tokens=2048,\n",
    "                top_p=1,\n",
    "            )\n",
    "        except Exception as e:\n",
    "            print(e)\n",
    "            return e\n",
    "\n",
    "        message = response[\"choices\"][0][\"message\"][\"content\"] # type: ignore\n",
    "        self.messages.append({\"role\": \"assistant\", \"content\": message})\n",
    "        \n",
    "        if len(self.messages) > self.num_of_round*2 + 1:\n",
    "            del self.messages[1:3]\n",
    "        return message\n"
   ]
  },
  {
   "cell_type": "code",
   "execution_count": 8,
   "metadata": {},
   "outputs": [
    {
     "name": "stdout",
     "output_type": "stream",
     "text": [
      "User : 你好，端午节你准备去哪里？\n",
      "Assistant : 嘿，我打算去武汉旅游。听说那里有很多历史文化遗址和美食，我很期待能够去探索一下。你有去过武汉吗？\n",
      "\n",
      "User : 那里有什么好玩的旅游景点\n",
      "Assistant : 武汉有很多著名的旅游景点，比如黄鹤楼、东湖、武汉长江大桥、武汉博物馆等等。此外，武汉还有很多美食，比如热干面、豆皮、鸭脖等等，非常值得一试。如果你对历史文化感兴趣，武汉还有一些博物馆和古迹可以去参观，比如汉口江滩、黄陂古城等等。总之，武汉是一个非常有意思的城市，我相信你一定会喜欢上它的。\n",
      "\n"
     ]
    }
   ],
   "source": [
    "prompt = \"\"\"请你扮演我的朋友Tom，如果有人问你端午节去哪里玩，你会回答打算去武汉旅游\"\"\"\n",
    "conv1 = Conversation(prompt, 3)\n",
    "question1 = \"你好，端午节你准备去哪里？\"\n",
    "print(\"User : %s\" % question1)\n",
    "print(\"Assistant : %s\\n\" % conv1.ask(question1))\n",
    "\n",
    "question2 = \"那里有什么好玩的旅游景点\"\n",
    "print(\"User : %s\" % question2)\n",
    "print(\"Assistant : %s\\n\" % conv1.ask(question2))"
   ]
  },
  {
   "attachments": {},
   "cell_type": "markdown",
   "metadata": {},
   "source": [
    "## 成本与效率问题"
   ]
  },
  {
   "attachments": {},
   "cell_type": "markdown",
   "metadata": {},
   "source": [
    "## 数据的Batch处理"
   ]
  },
  {
   "cell_type": "code",
   "execution_count": 17,
   "metadata": {},
   "outputs": [
    {
     "ename": "NameError",
     "evalue": "name 'pd' is not defined",
     "output_type": "error",
     "traceback": [
      "\u001b[0;31m---------------------------------------------------------------------------\u001b[0m",
      "\u001b[0;31mNameError\u001b[0m                                 Traceback (most recent call last)",
      "Cell \u001b[0;32mIn[17], line 15\u001b[0m\n\u001b[1;32m     11\u001b[0m max_tokens \u001b[39m=\u001b[39m \u001b[39m8000\u001b[39m  \u001b[39m# the maximum for text-embedding-ada-002 is 8191\u001b[39;00m\n\u001b[1;32m     14\u001b[0m \u001b[39m# import data/toutiao_cat_data.txt as a pandas dataframe\u001b[39;00m\n\u001b[0;32m---> 15\u001b[0m df \u001b[39m=\u001b[39m pd\u001b[39m.\u001b[39mread_parquet(\u001b[39m\"\u001b[39m\u001b[39mdata/toutiao_cat_data_all_with_embeddings.parquet\u001b[39m\u001b[39m\"\u001b[39m)\n\u001b[1;32m     16\u001b[0m \u001b[39mprint\u001b[39m(\u001b[39m\"\u001b[39m\u001b[39mLines of text before filtering: \u001b[39m\u001b[39m\"\u001b[39m, \u001b[39mlen\u001b[39m(df))\n",
      "\u001b[0;31mNameError\u001b[0m: name 'pd' is not defined"
     ]
    }
   ],
   "source": [
    "import tiktoken\n",
    "import openai\n",
    "import os\n",
    "import backoff\n",
    "\n",
    "openai.api_key = os.environ.get(\"OPENAI_API_KEY\")\n",
    "\n",
    "# embedding model parameters\n",
    "embedding_model = \"text-embedding-ada-002\"\n",
    "embedding_encoding = \"cl100k_base\"  # this the encoding for text-embedding-ada-002\n",
    "max_tokens = 8000  # the maximum for text-embedding-ada-002 is 8191\n",
    "\n",
    "\n",
    "# import data/toutiao_cat_data.txt as a pandas dataframe\n",
    "df = pd.read_parquet(\"data/toutiao_cat_data_all_with_embeddings.parquet\")\n",
    "print(\"Lines of text before filtering: \", len(df))"
   ]
  },
  {
   "cell_type": "code",
   "execution_count": 97,
   "metadata": {},
   "outputs": [
    {
     "data": {
      "text/html": [
       "<div>\n",
       "<style scoped>\n",
       "    .dataframe tbody tr th:only-of-type {\n",
       "        vertical-align: middle;\n",
       "    }\n",
       "\n",
       "    .dataframe tbody tr th {\n",
       "        vertical-align: top;\n",
       "    }\n",
       "\n",
       "    .dataframe thead th {\n",
       "        text-align: right;\n",
       "    }\n",
       "</style>\n",
       "<table border=\"1\" class=\"dataframe\">\n",
       "  <thead>\n",
       "    <tr style=\"text-align: right;\">\n",
       "      <th></th>\n",
       "      <th>id</th>\n",
       "      <th>code</th>\n",
       "      <th>category</th>\n",
       "      <th>title</th>\n",
       "      <th>keywords</th>\n",
       "      <th>combined</th>\n",
       "      <th>n_tokens</th>\n",
       "      <th>embedding</th>\n",
       "    </tr>\n",
       "  </thead>\n",
       "  <tbody>\n",
       "    <tr>\n",
       "      <th>0</th>\n",
       "      <td>6551700932705387022</td>\n",
       "      <td>101</td>\n",
       "      <td>news_culture</td>\n",
       "      <td>京城最值得你来场文化之旅的博物馆</td>\n",
       "      <td>保利集团,马未都,中国科学技术馆,博物馆,新中国</td>\n",
       "      <td>标题: 京城最值得你来场文化之旅的博物馆; 关键字: 保利集团,马未都,中国科学技术馆,博物...</td>\n",
       "      <td>56</td>\n",
       "      <td>[-0.02160128578543663, -0.004615371115505695, ...</td>\n",
       "    </tr>\n",
       "    <tr>\n",
       "      <th>1</th>\n",
       "      <td>6552368441838272771</td>\n",
       "      <td>101</td>\n",
       "      <td>news_culture</td>\n",
       "      <td>发酵床的垫料种类有哪些？哪种更好？</td>\n",
       "      <td></td>\n",
       "      <td>标题: 发酵床的垫料种类有哪些？哪种更好？; 关键字:</td>\n",
       "      <td>32</td>\n",
       "      <td>[0.014646276831626892, -0.0075576393865048885,...</td>\n",
       "    </tr>\n",
       "    <tr>\n",
       "      <th>2</th>\n",
       "      <td>6552407965343678723</td>\n",
       "      <td>101</td>\n",
       "      <td>news_culture</td>\n",
       "      <td>上联：黄山黄河黄皮肤黄土高原。怎么对下联？</td>\n",
       "      <td></td>\n",
       "      <td>标题: 上联：黄山黄河黄皮肤黄土高原。怎么对下联？; 关键字:</td>\n",
       "      <td>37</td>\n",
       "      <td>[0.012643996626138687, 0.0035733033437281847, ...</td>\n",
       "    </tr>\n",
       "    <tr>\n",
       "      <th>3</th>\n",
       "      <td>6552332417753940238</td>\n",
       "      <td>101</td>\n",
       "      <td>news_culture</td>\n",
       "      <td>林徽因什么理由拒绝了徐志摩而选择梁思成为终身伴侣？</td>\n",
       "      <td></td>\n",
       "      <td>标题: 林徽因什么理由拒绝了徐志摩而选择梁思成为终身伴侣？; 关键字:</td>\n",
       "      <td>44</td>\n",
       "      <td>[-0.0004984583356417716, -0.016934111714363098...</td>\n",
       "    </tr>\n",
       "    <tr>\n",
       "      <th>4</th>\n",
       "      <td>6552475601595269390</td>\n",
       "      <td>101</td>\n",
       "      <td>news_culture</td>\n",
       "      <td>黄杨木是什么树？</td>\n",
       "      <td></td>\n",
       "      <td>标题: 黄杨木是什么树？; 关键字:</td>\n",
       "      <td>20</td>\n",
       "      <td>[-0.0008294825092889369, -0.013883085921406746...</td>\n",
       "    </tr>\n",
       "  </tbody>\n",
       "</table>\n",
       "</div>"
      ],
      "text/plain": [
       "                    id  code      category                      title   \n",
       "0  6551700932705387022   101  news_culture           京城最值得你来场文化之旅的博物馆  \\\n",
       "1  6552368441838272771   101  news_culture          发酵床的垫料种类有哪些？哪种更好？   \n",
       "2  6552407965343678723   101  news_culture      上联：黄山黄河黄皮肤黄土高原。怎么对下联？   \n",
       "3  6552332417753940238   101  news_culture  林徽因什么理由拒绝了徐志摩而选择梁思成为终身伴侣？   \n",
       "4  6552475601595269390   101  news_culture                   黄杨木是什么树？   \n",
       "\n",
       "                   keywords   \n",
       "0  保利集团,马未都,中国科学技术馆,博物馆,新中国  \\\n",
       "1                             \n",
       "2                             \n",
       "3                             \n",
       "4                             \n",
       "\n",
       "                                            combined  n_tokens   \n",
       "0  标题: 京城最值得你来场文化之旅的博物馆; 关键字: 保利集团,马未都,中国科学技术馆,博物...        56  \\\n",
       "1                       标题: 发酵床的垫料种类有哪些？哪种更好？; 关键字:         32   \n",
       "2                   标题: 上联：黄山黄河黄皮肤黄土高原。怎么对下联？; 关键字:         37   \n",
       "3               标题: 林徽因什么理由拒绝了徐志摩而选择梁思成为终身伴侣？; 关键字:         44   \n",
       "4                                标题: 黄杨木是什么树？; 关键字:         20   \n",
       "\n",
       "                                           embedding  \n",
       "0  [-0.02160128578543663, -0.004615371115505695, ...  \n",
       "1  [0.014646276831626892, -0.0075576393865048885,...  \n",
       "2  [0.012643996626138687, 0.0035733033437281847, ...  \n",
       "3  [-0.0004984583356417716, -0.016934111714363098...  \n",
       "4  [-0.0008294825092889369, -0.013883085921406746...  "
      ]
     },
     "execution_count": 97,
     "metadata": {},
     "output_type": "execute_result"
    }
   ],
   "source": [
    "df.head()"
   ]
  },
  {
   "cell_type": "code",
   "execution_count": 98,
   "metadata": {},
   "outputs": [
    {
     "name": "stdout",
     "output_type": "stream",
     "text": [
      "Lines of text after filtering:  382688\n"
     ]
    }
   ],
   "source": [
    "encoding = tiktoken.get_encoding(embedding_encoding)\n",
    "# omit reviews that are too long to embed\n",
    "df[\"n_tokens\"] = df.combined.apply(lambda x: len(encoding.encode(x)))\n",
    "df = df[df.n_tokens <= max_tokens]\n",
    "print(\"Lines of text after filtering: \", len(df))"
   ]
  },
  {
   "attachments": {},
   "cell_type": "markdown",
   "metadata": {},
   "source": [
    "### 假设我们没有预先处理完Embedding"
   ]
  },
  {
   "cell_type": "code",
   "execution_count": 4,
   "metadata": {},
   "outputs": [
    {
     "ename": "ValueError",
     "evalue": "Cannot take a larger sample than population when 'replace=False'",
     "output_type": "error",
     "traceback": [
      "\u001b[0;31m---------------------------------------------------------------------------\u001b[0m",
      "\u001b[0;31mValueError\u001b[0m                                Traceback (most recent call last)",
      "Cell \u001b[0;32mIn[4], line 3\u001b[0m\n\u001b[1;32m      1\u001b[0m \u001b[39mfrom\u001b[39;00m \u001b[39mopenai\u001b[39;00m\u001b[39m.\u001b[39;00m\u001b[39membeddings_utils\u001b[39;00m \u001b[39mimport\u001b[39;00m get_embedding\n\u001b[0;32m----> 3\u001b[0m df_1k \u001b[39m=\u001b[39m df\u001b[39m.\u001b[39;49msample(\u001b[39m1000\u001b[39;49m, random_state\u001b[39m=\u001b[39;49m\u001b[39m42\u001b[39;49m)\n\u001b[1;32m      5\u001b[0m df_1k[\u001b[39m\"\u001b[39m\u001b[39membedding\u001b[39m\u001b[39m\"\u001b[39m] \u001b[39m=\u001b[39m df_1k\u001b[39m.\u001b[39mcombined\u001b[39m.\u001b[39mapply(\u001b[39mlambda\u001b[39;00m x : get_embedding(x, engine\u001b[39m=\u001b[39membedding_model))\n\u001b[1;32m      6\u001b[0m df_1k\u001b[39m.\u001b[39mto_csv(\u001b[39m\"\u001b[39m\u001b[39mdata/toutiao_cat_data_10k_with_embeddings.csv\u001b[39m\u001b[39m\"\u001b[39m, index\u001b[39m=\u001b[39m\u001b[39mFalse\u001b[39;00m)\n",
      "File \u001b[0;32m/home/alan/mactalk-ai-course/.venv/lib/python3.10/site-packages/pandas/core/generic.py:5858\u001b[0m, in \u001b[0;36mNDFrame.sample\u001b[0;34m(self, n, frac, replace, weights, random_state, axis, ignore_index)\u001b[0m\n\u001b[1;32m   5855\u001b[0m \u001b[39mif\u001b[39;00m weights \u001b[39mis\u001b[39;00m \u001b[39mnot\u001b[39;00m \u001b[39mNone\u001b[39;00m:\n\u001b[1;32m   5856\u001b[0m     weights \u001b[39m=\u001b[39m sample\u001b[39m.\u001b[39mpreprocess_weights(\u001b[39mself\u001b[39m, weights, axis)\n\u001b[0;32m-> 5858\u001b[0m sampled_indices \u001b[39m=\u001b[39m sample\u001b[39m.\u001b[39;49msample(obj_len, size, replace, weights, rs)\n\u001b[1;32m   5859\u001b[0m result \u001b[39m=\u001b[39m \u001b[39mself\u001b[39m\u001b[39m.\u001b[39mtake(sampled_indices, axis\u001b[39m=\u001b[39maxis)\n\u001b[1;32m   5861\u001b[0m \u001b[39mif\u001b[39;00m ignore_index:\n",
      "File \u001b[0;32m/home/alan/mactalk-ai-course/.venv/lib/python3.10/site-packages/pandas/core/sample.py:151\u001b[0m, in \u001b[0;36msample\u001b[0;34m(obj_len, size, replace, weights, random_state)\u001b[0m\n\u001b[1;32m    148\u001b[0m     \u001b[39melse\u001b[39;00m:\n\u001b[1;32m    149\u001b[0m         \u001b[39mraise\u001b[39;00m \u001b[39mValueError\u001b[39;00m(\u001b[39m\"\u001b[39m\u001b[39mInvalid weights: weights sum to zero\u001b[39m\u001b[39m\"\u001b[39m)\n\u001b[0;32m--> 151\u001b[0m \u001b[39mreturn\u001b[39;00m random_state\u001b[39m.\u001b[39;49mchoice(obj_len, size\u001b[39m=\u001b[39;49msize, replace\u001b[39m=\u001b[39;49mreplace, p\u001b[39m=\u001b[39;49mweights)\u001b[39m.\u001b[39mastype(\n\u001b[1;32m    152\u001b[0m     np\u001b[39m.\u001b[39mintp, copy\u001b[39m=\u001b[39m\u001b[39mFalse\u001b[39;00m\n\u001b[1;32m    153\u001b[0m )\n",
      "File \u001b[0;32mmtrand.pyx:984\u001b[0m, in \u001b[0;36mnumpy.random.mtrand.RandomState.choice\u001b[0;34m()\u001b[0m\n",
      "\u001b[0;31mValueError\u001b[0m: Cannot take a larger sample than population when 'replace=False'"
     ]
    }
   ],
   "source": [
    "from openai.embeddings_utils import get_embedding\n",
    "\n",
    "df_1k = df.sample(1000, random_state=42)\n",
    "\n",
    "df_1k[\"embedding\"] = df_1k.combined.apply(lambda x : get_embedding(x, engine=embedding_model))\n",
    "df_1k.to_csv(\"data/toutiao_cat_data_10k_with_embeddings.csv\", index=False)"
   ]
  },
  {
   "cell_type": "code",
   "execution_count": null,
   "metadata": {},
   "outputs": [],
   "source": [
    "@backoff.on_exception(backoff.expo, openai.error.RateLimitError) # type: ignore\n",
    "def get_embedding_with_backoff(**kwargs):\n",
    "    return get_embedding(**kwargs)\n",
    "\n",
    "df_10k = df.sample(10000, random_state=42)\n",
    "\n",
    "df_10k[\"embedding\"] = df_10k.combined.apply(lambda x : get_embedding_with_backoff(text=x, engine=embedding_model))\n",
    "df_10k.to_csv(\"data/toutiao_cat_data_10k_with_embeddings.csv\", index=False)"
   ]
  },
  {
   "cell_type": "code",
   "execution_count": 100,
   "metadata": {},
   "outputs": [],
   "source": [
    "from openai.embeddings_utils import get_embeddings\n",
    "\n",
    "batch_size = 100\n",
    "\n",
    "@backoff.on_exception(backoff.expo, openai.error.RateLimitError)  # type: ignore\n",
    "def get_embeddings_with_backoff(prompts, engine):\n",
    "    embeddings = []\n",
    "    for i in range(0, len(prompts), batch_size):\n",
    "        batch = prompts[i:i+batch_size]\n",
    "        embeddings += get_embeddings(list_of_text=batch, engine=engine)\n",
    "    return embeddings\n",
    "\n",
    "# group prompts into batches of 100\n",
    "prompts = df_1k.combined.tolist()\n",
    "prompt_batches = [prompts[i:i+batch_size] for i in range(0, len(prompts), batch_size)]\n",
    "\n",
    "embeddings = []\n",
    "for batch in prompt_batches:\n",
    "    batch_embeddings = get_embeddings_with_backoff(prompts=batch, engine=embedding_model)\n",
    "    embeddings += batch_embeddings\n",
    "\n",
    "df_1k[\"embedding\"] = embeddings\n",
    "df_1k.to_csv(\"data/toutiao_cat_data_all_with_embeddings_1k.csv\", index=False)"
   ]
  },
  {
   "attachments": {},
   "cell_type": "markdown",
   "metadata": {},
   "source": [
    "### 通过Tiktoken来统计Token数量"
   ]
  },
  {
   "cell_type": "code",
   "execution_count": 88,
   "metadata": {},
   "outputs": [
    {
     "name": "stdout",
     "output_type": "stream",
     "text": [
      "8\n"
     ]
    }
   ],
   "source": [
    "import tiktoken\n",
    "\n",
    "\n",
    "embedding_encoding = \"cl100k_base\"  # this the encoding for text-embedding-ada-002\n",
    "\n",
    "encoding = tiktoken.get_encoding(embedding_encoding)\n",
    "text = \"今天天气真不错\"\n",
    "print(len(encoding.encode(text)))"
   ]
  },
  {
   "cell_type": "code",
   "execution_count": 87,
   "metadata": {},
   "outputs": [
    {
     "name": "stdout",
     "output_type": "stream",
     "text": [
      "12\n"
     ]
    }
   ],
   "source": [
    "\n",
    "embedding_encoding = \"p50k_base\"  # this the encoding for text-davinci-003\n",
    "\n",
    "encoding = tiktoken.get_encoding(embedding_encoding)\n",
    "text = \"今天天气真不错\"\n",
    "print(len(encoding.encode(text)))"
   ]
  },
  {
   "cell_type": "code",
   "execution_count": 89,
   "metadata": {},
   "outputs": [
    {
     "name": "stdout",
     "output_type": "stream",
     "text": [
      "{\n",
      "  \"choices\": [\n",
      "    {\n",
      "      \"finish_reason\": \"stop\",\n",
      "      \"index\": 0,\n",
      "      \"logprobs\": null,\n",
      "      \"text\": \"\\n\\nYes, the weather is really nice today.\"\n",
      "    }\n",
      "  ],\n",
      "  \"created\": 1689060457,\n",
      "  \"id\": \"cmpl-7b24XCT0xvOGLoVOg8hovULNdSa49\",\n",
      "  \"model\": \"text-davinci-003\",\n",
      "  \"object\": \"text_completion\",\n",
      "  \"usage\": {\n",
      "    \"completion_tokens\": 11,\n",
      "    \"prompt_tokens\": 12,\n",
      "    \"total_tokens\": 23\n",
      "  }\n",
      "}\n",
      "\n",
      "\n",
      "Yes, the weather is really nice today.\n"
     ]
    }
   ],
   "source": [
    "import openai\n",
    "import os\n",
    "\n",
    "openai.api_key = os.environ.get(\"OPENAI_API_KEY\")\n",
    "COMPLETION_MODEL = \"text-davinci-003\"\n",
    "\n",
    "def get_response(prompt):\n",
    "    completions = openai.Completion.create(\n",
    "        engine=COMPLETION_MODEL,\n",
    "        prompt=prompt,\n",
    "        max_tokens=512,\n",
    "        n=1,\n",
    "        stop=None,\n",
    "        temperature=0.0,        \n",
    "    )\n",
    "    return completions\n",
    "\n",
    "response = get_response(\"今天天气真不错\")\n",
    "\n",
    "print(response)\n",
    "print(response.choices[0].text) # type: ignore"
   ]
  },
  {
   "attachments": {},
   "cell_type": "markdown",
   "metadata": {},
   "source": [
    "## 语义搜索"
   ]
  },
  {
   "cell_type": "code",
   "execution_count": 1,
   "metadata": {},
   "outputs": [
    {
     "name": "stdout",
     "output_type": "stream",
     "text": [
      "\n",
      "\n",
      "1.【新款】Apple/苹果 iPhone 11 Pro Max 全网通手机\n",
      "2.【超值】华为P30 Pro 全网通8GB+128GB 极光色\n",
      "3.【热销】荣耀20 Pro 全面屏4800万AI四摄\n",
      "4.【特惠】三星Galaxy S10 Plus 全网通手机\n",
      "5.【大促】小米CC9 Pro 全网通6GB+128GB 冰川蓝\n",
      "6.【新品】OPPO Reno2 Z 全网通8GB+128GB 梦幻蓝\n",
      "7.【精选】vivo X30 Pro 5G 全网通8GB+128GB 雪梨金\n",
      "8.【抢购】HUAWEI Mate 30 Pro 5G 全网通\n",
      "9.【限时】realme X Pro 全网通8GB+128GB 极光色\n",
      "10.【限量】荣耀Magic2 全网通8GB+128GB 珠光白\n",
      "11.【狂欢】Apple/苹果 iPad Pro 11英寸 平板电脑\n",
      "12.【热卖】华为MateBook 13 全网通轻薄笔记本\n",
      "13.【抢先】Lenovo/联想小新Air 13.3英寸轻薄笔记本\n",
      "14.【新款】Apple/苹果 MacBook Pro 16英寸超轻薄笔记本\n",
      "15.【超值】惠普Envy 13-aq0013TU 13.3英寸轻薄笔记本\n",
      "16.【热销】联想Yoga S940 14英寸超轻薄笔记本\n",
      "17.【特惠】华硕ZenBook 13 UX333FA 13.3英寸轻薄笔记本\n",
      "18.【大促】华为MateBook X Pro 13.9英寸超轻薄笔记本\n",
      "19.【新品】华硕ZenBook Flip S UX370UA 13.3英寸轻薄笔记本\n",
      "20.【精选】华硕ZenBook 14 UX433FA 14英寸轻薄笔记本\n",
      "21.【抢购】Acer/宏碁 Swift 3 SF314-54 14英寸轻薄笔记本\n",
      "22.【限时】ASUS/华硕 ROG Zephyrus GX501 15.6英寸游戏本\n",
      "23.【限量】MSI GF63 8RC-068CN 15.6英寸游戏本\n",
      "24.【狂欢】联想Legion Y7000 15.6英寸游戏本\n",
      "25.【热卖】Razer Blade 15 15.6英寸游戏本\n",
      "26.【抢先】Apple/苹果 MacBook Air 13.3英寸超轻薄笔记本\n",
      "27.【新款】Apple/苹果MacBook Pro 13.3英寸超轻薄笔记本\n",
      "28.【超值】Dell/戴尔 XPS 13 9380 13.3英寸超轻薄笔记本\n",
      "29.【热销】华为MateBook D 15.6英寸轻薄笔记本\n",
      "30.【特惠】联想ThinkPad X1 Carbon 14英寸轻薄笔记本\n",
      "31.【大促】联想ThinkPad X1 Yoga 14英寸轻薄笔记本\n",
      "32.【新品】华为MateBook E 2019 12英寸轻薄笔记本\n",
      "33.【精选】联想ThinkPad E490 14英寸轻薄笔记本\n",
      "34.【抢购】华硕ZenBook Flip 14 UX461UN 14英寸轻薄笔记本\n",
      "35.【限时】华硕ZenBook Flip S UX370UA 13.3英寸轻薄笔记本\n",
      "36.【限量】联想ThinkPad T480 14英寸轻薄笔记本\n",
      "37.【狂欢】惠普Spectre x360 13-ap0013dx 13.3英寸轻薄笔记本\n",
      "38.【热卖】惠普Spectre x360 15-df0013dx 15.6英寸轻薄笔记本\n",
      "39.【抢先】华硕ROG Strix GL503GE 15.6英寸游戏本\n",
      "40.【新款】联想ThinkPad X1 Extreme 15.6英寸轻薄笔记本\n",
      "41.【超值】联想Yoga C930 14英寸轻薄笔记本\n",
      "42.【热销】华为MateBook 14 2020 14英寸轻薄笔记本\n",
      "43.【特惠】联想IdeaPad S540 14英寸轻薄笔记本\n",
      "44.【大促】惠普Spectre Folio 13-ak0003dx 13.3英寸轻薄笔记本\n",
      "45.【新品】联想ThinkPad X1 Yoga 4th 14英寸轻薄笔记本\n",
      "46.【精选】联想ThinkPad T490 14英寸轻薄笔记本\n",
      "47.【抢购】联想Yoga C740 14英寸轻薄笔记本\n",
      "48.【限时】华为MateBook D 14 2020 14英寸轻薄笔记本\n",
      "49.【限量】惠普Spectre x360 15-df0012dx 15.6英寸轻薄笔记本\n",
      "50.【狂欢】华硕ZenBook Pro 15 UX580GD 15.6英寸轻薄笔记本\n"
     ]
    }
   ],
   "source": [
    "import openai, os\n",
    "\n",
    "#运行此API配置，需要将目录中的。env中api key替换为自己的\n",
    "from dotenv import load_dotenv, find_dotenv\n",
    "# read local .env file\n",
    "load_dotenv(find_dotenv())\n",
    "\n",
    "openai.api_type = \"azure\"\n",
    "openai.api_base = \"https://alannewlife.openai.azure.com/\"\n",
    "openai.api_version = \"2023-03-15-preview\"\n",
    "openai.api_key = os.getenv(\"OPENAI_API_KEY\")\n",
    "\n",
    "COMPLETION_MODEL = \"text-davinci-003\"\n",
    "\n",
    "def generate_data_by_prompt(prompt):\n",
    "    response = openai.Completion.create(\n",
    "        engine=COMPLETION_MODEL,\n",
    "        prompt=prompt,\n",
    "        temperature=0.5,\n",
    "        max_tokens=2048,\n",
    "        top_p=1,\n",
    "    )\n",
    "    return response.choices[0].text # type: ignore\n",
    "\n",
    "prompt = \"\"\"请你生成50条淘宝网里的商品的标题，每条在30个字左右，品类是3C数码产品，标题里往往也会有一些促销类的信息，每行一条。\"\"\"\n",
    "data = generate_data_by_prompt(prompt)\n",
    "print(data)"
   ]
  },
  {
   "cell_type": "code",
   "execution_count": 2,
   "metadata": {},
   "outputs": [
    {
     "data": {
      "text/html": [
       "<div>\n",
       "<style scoped>\n",
       "    .dataframe tbody tr th:only-of-type {\n",
       "        vertical-align: middle;\n",
       "    }\n",
       "\n",
       "    .dataframe tbody tr th {\n",
       "        vertical-align: top;\n",
       "    }\n",
       "\n",
       "    .dataframe thead th {\n",
       "        text-align: right;\n",
       "    }\n",
       "</style>\n",
       "<table border=\"1\" class=\"dataframe\">\n",
       "  <thead>\n",
       "    <tr style=\"text-align: right;\">\n",
       "      <th></th>\n",
       "      <th>product_name</th>\n",
       "    </tr>\n",
       "  </thead>\n",
       "  <tbody>\n",
       "    <tr>\n",
       "      <th>0</th>\n",
       "      <td>1.【新款】Apple/苹果 iPhone 11 Pro Max 全网通手机</td>\n",
       "    </tr>\n",
       "    <tr>\n",
       "      <th>1</th>\n",
       "      <td>2.【超值】华为P30 Pro 全网通8GB+128GB 极光色</td>\n",
       "    </tr>\n",
       "    <tr>\n",
       "      <th>2</th>\n",
       "      <td>3.【热销】荣耀20 Pro 全面屏4800万AI四摄</td>\n",
       "    </tr>\n",
       "    <tr>\n",
       "      <th>3</th>\n",
       "      <td>4.【特惠】三星Galaxy S10 Plus 全网通手机</td>\n",
       "    </tr>\n",
       "    <tr>\n",
       "      <th>4</th>\n",
       "      <td>5.【大促】小米CC9 Pro 全网通6GB+128GB 冰川蓝</td>\n",
       "    </tr>\n",
       "  </tbody>\n",
       "</table>\n",
       "</div>"
      ],
      "text/plain": [
       "                             product_name\n",
       "0  1.【新款】Apple/苹果 iPhone 11 Pro Max 全网通手机\n",
       "1        2.【超值】华为P30 Pro 全网通8GB+128GB 极光色\n",
       "2             3.【热销】荣耀20 Pro 全面屏4800万AI四摄\n",
       "3           4.【特惠】三星Galaxy S10 Plus 全网通手机\n",
       "4        5.【大促】小米CC9 Pro 全网通6GB+128GB 冰川蓝"
      ]
     },
     "execution_count": 2,
     "metadata": {},
     "output_type": "execute_result"
    }
   ],
   "source": [
    "import pandas as pd\n",
    "\n",
    "product_names = data.strip().split('\\n')\n",
    "df = pd.DataFrame({'product_name': product_names})\n",
    "df.head()"
   ]
  },
  {
   "cell_type": "code",
   "execution_count": 13,
   "metadata": {},
   "outputs": [
    {
     "data": {
      "text/html": [
       "<div>\n",
       "<style scoped>\n",
       "    .dataframe tbody tr th:only-of-type {\n",
       "        vertical-align: middle;\n",
       "    }\n",
       "\n",
       "    .dataframe tbody tr th {\n",
       "        vertical-align: top;\n",
       "    }\n",
       "\n",
       "    .dataframe thead th {\n",
       "        text-align: right;\n",
       "    }\n",
       "</style>\n",
       "<table border=\"1\" class=\"dataframe\">\n",
       "  <thead>\n",
       "    <tr style=\"text-align: right;\">\n",
       "      <th></th>\n",
       "      <th>product_name</th>\n",
       "    </tr>\n",
       "  </thead>\n",
       "  <tbody>\n",
       "    <tr>\n",
       "      <th>0</th>\n",
       "      <td>【新款】Apple/苹果 iPhone 11 Pro Max 全网通手机</td>\n",
       "    </tr>\n",
       "    <tr>\n",
       "      <th>1</th>\n",
       "      <td>【超值】华为P30 Pro 全网通8GB+128GB 极光色</td>\n",
       "    </tr>\n",
       "    <tr>\n",
       "      <th>2</th>\n",
       "      <td>【热销】荣耀20 Pro 全面屏4800万AI四摄</td>\n",
       "    </tr>\n",
       "    <tr>\n",
       "      <th>3</th>\n",
       "      <td>【特惠】三星Galaxy S10 Plus 全网通手机</td>\n",
       "    </tr>\n",
       "    <tr>\n",
       "      <th>4</th>\n",
       "      <td>【大促】小米CC9 Pro 全网通6GB+128GB 冰川蓝</td>\n",
       "    </tr>\n",
       "  </tbody>\n",
       "</table>\n",
       "</div>"
      ],
      "text/plain": [
       "                           product_name\n",
       "0  【新款】Apple/苹果 iPhone 11 Pro Max 全网通手机\n",
       "1        【超值】华为P30 Pro 全网通8GB+128GB 极光色\n",
       "2             【热销】荣耀20 Pro 全面屏4800万AI四摄\n",
       "3           【特惠】三星Galaxy S10 Plus 全网通手机\n",
       "4        【大促】小米CC9 Pro 全网通6GB+128GB 冰川蓝"
      ]
     },
     "execution_count": 13,
     "metadata": {},
     "output_type": "execute_result"
    }
   ],
   "source": [
    "#去掉No.\n",
    "df.product_name = df.product_name.apply(lambda x: x.split('.')[0].strip())\n",
    "df.head()"
   ]
  },
  {
   "cell_type": "code",
   "execution_count": 7,
   "metadata": {},
   "outputs": [],
   "source": [
    "clothes_prompt = \"\"\"请你生成50条淘宝网里的商品的标题，每条在30个字左右，品类是女性的服饰箱包等等，标题里往往也会有一些促销类的信息，每行一条。\"\"\"\n",
    "clothes_data = generate_data_by_prompt(clothes_prompt)\n",
    "clothes_product_names = clothes_data.strip().split('\\n')"
   ]
  },
  {
   "cell_type": "code",
   "execution_count": 9,
   "metadata": {},
   "outputs": [
    {
     "data": {
      "text/html": [
       "<div>\n",
       "<style scoped>\n",
       "    .dataframe tbody tr th:only-of-type {\n",
       "        vertical-align: middle;\n",
       "    }\n",
       "\n",
       "    .dataframe tbody tr th {\n",
       "        vertical-align: top;\n",
       "    }\n",
       "\n",
       "    .dataframe thead th {\n",
       "        text-align: right;\n",
       "    }\n",
       "</style>\n",
       "<table border=\"1\" class=\"dataframe\">\n",
       "  <thead>\n",
       "    <tr style=\"text-align: right;\">\n",
       "      <th></th>\n",
       "      <th>product_name</th>\n",
       "    </tr>\n",
       "  </thead>\n",
       "  <tbody>\n",
       "    <tr>\n",
       "      <th>0</th>\n",
       "      <td>时尚潮流女士手提包小熊印花设计</td>\n",
       "    </tr>\n",
       "    <tr>\n",
       "      <th>1</th>\n",
       "      <td>新款复古拼接小方包女士包包</td>\n",
       "    </tr>\n",
       "    <tr>\n",
       "      <th>2</th>\n",
       "      <td>日韩潮牌百搭小包精灵小熊图案</td>\n",
       "    </tr>\n",
       "    <tr>\n",
       "      <th>3</th>\n",
       "      <td>小清新简约百搭双肩包百搭款</td>\n",
       "    </tr>\n",
       "    <tr>\n",
       "      <th>4</th>\n",
       "      <td>时尚拼色小方包女士包包</td>\n",
       "    </tr>\n",
       "  </tbody>\n",
       "</table>\n",
       "</div>"
      ],
      "text/plain": [
       "      product_name\n",
       "0  时尚潮流女士手提包小熊印花设计\n",
       "1    新款复古拼接小方包女士包包\n",
       "2   日韩潮牌百搭小包精灵小熊图案\n",
       "3    小清新简约百搭双肩包百搭款\n",
       "4      时尚拼色小方包女士包包"
      ]
     },
     "execution_count": 9,
     "metadata": {},
     "output_type": "execute_result"
    }
   ],
   "source": [
    "clothes_df = pd.DataFrame({'product_name': clothes_product_names})\n",
    "clothes_df.product_name = clothes_df.product_name.apply(lambda x: x.split('.')[1].strip())\n",
    "clothes_df.head()"
   ]
  },
  {
   "cell_type": "code",
   "execution_count": 10,
   "metadata": {},
   "outputs": [
    {
     "name": "stdout",
     "output_type": "stream",
     "text": [
      "0     【新款】Apple/苹果 iPhone 11 Pro Max 全网通手机\n",
      "1           【超值】华为P30 Pro 全网通8GB+128GB 极光色\n",
      "2                【热销】荣耀20 Pro 全面屏4800万AI四摄\n",
      "3              【特惠】三星Galaxy S10 Plus 全网通手机\n",
      "4           【大促】小米CC9 Pro 全网通6GB+128GB 冰川蓝\n",
      "                      ...                 \n",
      "95                           时尚拼接小方包百搭款女士包\n",
      "96                           时尚拼色小熊图案双肩斜挎包\n",
      "97                           时尚拼接小方包百搭款女士包\n",
      "98                             时尚拼色小方包百搭款式\n",
      "99                           时尚拼接小方包百搭款女士包\n",
      "Name: product_name, Length: 100, dtype: object\n"
     ]
    }
   ],
   "source": [
    "df = pd.concat([df, clothes_df], axis=0)\n",
    "df = df.reset_index(drop=True)\n",
    "print(df.product_name)"
   ]
  },
  {
   "cell_type": "code",
   "execution_count": 1,
   "metadata": {},
   "outputs": [
    {
     "ename": "NameError",
     "evalue": "name 'df' is not defined",
     "output_type": "error",
     "traceback": [
      "\u001b[0;31m---------------------------------------------------------------------------\u001b[0m",
      "\u001b[0;31mNameError\u001b[0m                                 Traceback (most recent call last)",
      "Cell \u001b[0;32mIn[1], line 1\u001b[0m\n\u001b[0;32m----> 1\u001b[0m display(df)\n",
      "\u001b[0;31mNameError\u001b[0m: name 'df' is not defined"
     ]
    }
   ],
   "source": [
    "display(df)"
   ]
  },
  {
   "cell_type": "code",
   "execution_count": 2,
   "metadata": {},
   "outputs": [
    {
     "ename": "NameError",
     "evalue": "name 'df' is not defined",
     "output_type": "error",
     "traceback": [
      "\u001b[0;31m---------------------------------------------------------------------------\u001b[0m",
      "\u001b[0;31mNameError\u001b[0m                                 Traceback (most recent call last)",
      "Cell \u001b[0;32mIn[2], line 1\u001b[0m\n\u001b[0;32m----> 1\u001b[0m df\u001b[39m.\u001b[39mto_csv(\u001b[39m\"\u001b[39m\u001b[39mdata/product_names.csv\u001b[39m\u001b[39m\"\u001b[39m)\n",
      "\u001b[0;31mNameError\u001b[0m: name 'df' is not defined"
     ]
    }
   ],
   "source": [
    "df.to_csv(\"data/product_names.csv\")"
   ]
  },
  {
   "cell_type": "code",
   "execution_count": 18,
   "metadata": {},
   "outputs": [
    {
     "ename": "RetryError",
     "evalue": "RetryError[<Future at 0x7fa916d13130 state=finished raised InvalidRequestError>]",
     "output_type": "error",
     "traceback": [
      "\u001b[0;31m---------------------------------------------------------------------------\u001b[0m",
      "\u001b[0;31mInvalidRequestError\u001b[0m                       Traceback (most recent call last)",
      "File \u001b[0;32m/home/alan/mactalk-ai-course/.venv/lib/python3.10/site-packages/tenacity/__init__.py:382\u001b[0m, in \u001b[0;36mRetrying.__call__\u001b[0;34m(self, fn, *args, **kwargs)\u001b[0m\n\u001b[1;32m    381\u001b[0m \u001b[39mtry\u001b[39;00m:\n\u001b[0;32m--> 382\u001b[0m     result \u001b[39m=\u001b[39m fn(\u001b[39m*\u001b[39;49margs, \u001b[39m*\u001b[39;49m\u001b[39m*\u001b[39;49mkwargs)\n\u001b[1;32m    383\u001b[0m \u001b[39mexcept\u001b[39;00m \u001b[39mBaseException\u001b[39;00m:  \u001b[39m# noqa: B902\u001b[39;00m\n",
      "File \u001b[0;32m/home/alan/mactalk-ai-course/.venv/lib/python3.10/site-packages/openai/embeddings_utils.py:48\u001b[0m, in \u001b[0;36mget_embeddings\u001b[0;34m(list_of_text, engine, **kwargs)\u001b[0m\n\u001b[1;32m     46\u001b[0m list_of_text \u001b[39m=\u001b[39m [text\u001b[39m.\u001b[39mreplace(\u001b[39m\"\u001b[39m\u001b[39m\\n\u001b[39;00m\u001b[39m\"\u001b[39m, \u001b[39m\"\u001b[39m\u001b[39m \u001b[39m\u001b[39m\"\u001b[39m) \u001b[39mfor\u001b[39;00m text \u001b[39min\u001b[39;00m list_of_text]\n\u001b[0;32m---> 48\u001b[0m data \u001b[39m=\u001b[39m openai\u001b[39m.\u001b[39;49mEmbedding\u001b[39m.\u001b[39;49mcreate(\u001b[39minput\u001b[39;49m\u001b[39m=\u001b[39;49mlist_of_text, engine\u001b[39m=\u001b[39;49mengine, \u001b[39m*\u001b[39;49m\u001b[39m*\u001b[39;49mkwargs)\u001b[39m.\u001b[39mdata\n\u001b[1;32m     49\u001b[0m \u001b[39mreturn\u001b[39;00m [d[\u001b[39m\"\u001b[39m\u001b[39membedding\u001b[39m\u001b[39m\"\u001b[39m] \u001b[39mfor\u001b[39;00m d \u001b[39min\u001b[39;00m data]\n",
      "File \u001b[0;32m/home/alan/mactalk-ai-course/.venv/lib/python3.10/site-packages/openai/api_resources/embedding.py:33\u001b[0m, in \u001b[0;36mEmbedding.create\u001b[0;34m(cls, *args, **kwargs)\u001b[0m\n\u001b[1;32m     32\u001b[0m \u001b[39mtry\u001b[39;00m:\n\u001b[0;32m---> 33\u001b[0m     response \u001b[39m=\u001b[39m \u001b[39msuper\u001b[39;49m()\u001b[39m.\u001b[39;49mcreate(\u001b[39m*\u001b[39;49margs, \u001b[39m*\u001b[39;49m\u001b[39m*\u001b[39;49mkwargs)\n\u001b[1;32m     35\u001b[0m     \u001b[39m# If a user specifies base64, we'll just return the encoded string.\u001b[39;00m\n\u001b[1;32m     36\u001b[0m     \u001b[39m# This is only for the default case.\u001b[39;00m\n",
      "File \u001b[0;32m/home/alan/mactalk-ai-course/.venv/lib/python3.10/site-packages/openai/api_resources/abstract/engine_api_resource.py:153\u001b[0m, in \u001b[0;36mEngineAPIResource.create\u001b[0;34m(cls, api_key, api_base, api_type, request_id, api_version, organization, **params)\u001b[0m\n\u001b[1;32m    138\u001b[0m (\n\u001b[1;32m    139\u001b[0m     deployment_id,\n\u001b[1;32m    140\u001b[0m     engine,\n\u001b[0;32m   (...)\u001b[0m\n\u001b[1;32m    150\u001b[0m     api_key, api_base, api_type, api_version, organization, \u001b[39m*\u001b[39m\u001b[39m*\u001b[39mparams\n\u001b[1;32m    151\u001b[0m )\n\u001b[0;32m--> 153\u001b[0m response, _, api_key \u001b[39m=\u001b[39m requestor\u001b[39m.\u001b[39;49mrequest(\n\u001b[1;32m    154\u001b[0m     \u001b[39m\"\u001b[39;49m\u001b[39mpost\u001b[39;49m\u001b[39m\"\u001b[39;49m,\n\u001b[1;32m    155\u001b[0m     url,\n\u001b[1;32m    156\u001b[0m     params\u001b[39m=\u001b[39;49mparams,\n\u001b[1;32m    157\u001b[0m     headers\u001b[39m=\u001b[39;49mheaders,\n\u001b[1;32m    158\u001b[0m     stream\u001b[39m=\u001b[39;49mstream,\n\u001b[1;32m    159\u001b[0m     request_id\u001b[39m=\u001b[39;49mrequest_id,\n\u001b[1;32m    160\u001b[0m     request_timeout\u001b[39m=\u001b[39;49mrequest_timeout,\n\u001b[1;32m    161\u001b[0m )\n\u001b[1;32m    163\u001b[0m \u001b[39mif\u001b[39;00m stream:\n\u001b[1;32m    164\u001b[0m     \u001b[39m# must be an iterator\u001b[39;00m\n",
      "File \u001b[0;32m/home/alan/mactalk-ai-course/.venv/lib/python3.10/site-packages/openai/api_requestor.py:298\u001b[0m, in \u001b[0;36mAPIRequestor.request\u001b[0;34m(self, method, url, params, headers, files, stream, request_id, request_timeout)\u001b[0m\n\u001b[1;32m    288\u001b[0m result \u001b[39m=\u001b[39m \u001b[39mself\u001b[39m\u001b[39m.\u001b[39mrequest_raw(\n\u001b[1;32m    289\u001b[0m     method\u001b[39m.\u001b[39mlower(),\n\u001b[1;32m    290\u001b[0m     url,\n\u001b[0;32m   (...)\u001b[0m\n\u001b[1;32m    296\u001b[0m     request_timeout\u001b[39m=\u001b[39mrequest_timeout,\n\u001b[1;32m    297\u001b[0m )\n\u001b[0;32m--> 298\u001b[0m resp, got_stream \u001b[39m=\u001b[39m \u001b[39mself\u001b[39;49m\u001b[39m.\u001b[39;49m_interpret_response(result, stream)\n\u001b[1;32m    299\u001b[0m \u001b[39mreturn\u001b[39;00m resp, got_stream, \u001b[39mself\u001b[39m\u001b[39m.\u001b[39mapi_key\n",
      "File \u001b[0;32m/home/alan/mactalk-ai-course/.venv/lib/python3.10/site-packages/openai/api_requestor.py:700\u001b[0m, in \u001b[0;36mAPIRequestor._interpret_response\u001b[0;34m(self, result, stream)\u001b[0m\n\u001b[1;32m    698\u001b[0m \u001b[39melse\u001b[39;00m:\n\u001b[1;32m    699\u001b[0m     \u001b[39mreturn\u001b[39;00m (\n\u001b[0;32m--> 700\u001b[0m         \u001b[39mself\u001b[39;49m\u001b[39m.\u001b[39;49m_interpret_response_line(\n\u001b[1;32m    701\u001b[0m             result\u001b[39m.\u001b[39;49mcontent\u001b[39m.\u001b[39;49mdecode(\u001b[39m\"\u001b[39;49m\u001b[39mutf-8\u001b[39;49m\u001b[39m\"\u001b[39;49m),\n\u001b[1;32m    702\u001b[0m             result\u001b[39m.\u001b[39;49mstatus_code,\n\u001b[1;32m    703\u001b[0m             result\u001b[39m.\u001b[39;49mheaders,\n\u001b[1;32m    704\u001b[0m             stream\u001b[39m=\u001b[39;49m\u001b[39mFalse\u001b[39;49;00m,\n\u001b[1;32m    705\u001b[0m         ),\n\u001b[1;32m    706\u001b[0m         \u001b[39mFalse\u001b[39;00m,\n\u001b[1;32m    707\u001b[0m     )\n",
      "File \u001b[0;32m/home/alan/mactalk-ai-course/.venv/lib/python3.10/site-packages/openai/api_requestor.py:763\u001b[0m, in \u001b[0;36mAPIRequestor._interpret_response_line\u001b[0;34m(self, rbody, rcode, rheaders, stream)\u001b[0m\n\u001b[1;32m    762\u001b[0m \u001b[39mif\u001b[39;00m stream_error \u001b[39mor\u001b[39;00m \u001b[39mnot\u001b[39;00m \u001b[39m200\u001b[39m \u001b[39m<\u001b[39m\u001b[39m=\u001b[39m rcode \u001b[39m<\u001b[39m \u001b[39m300\u001b[39m:\n\u001b[0;32m--> 763\u001b[0m     \u001b[39mraise\u001b[39;00m \u001b[39mself\u001b[39m\u001b[39m.\u001b[39mhandle_error_response(\n\u001b[1;32m    764\u001b[0m         rbody, rcode, resp\u001b[39m.\u001b[39mdata, rheaders, stream_error\u001b[39m=\u001b[39mstream_error\n\u001b[1;32m    765\u001b[0m     )\n\u001b[1;32m    766\u001b[0m \u001b[39mreturn\u001b[39;00m resp\n",
      "\u001b[0;31mInvalidRequestError\u001b[0m: Too many inputs. The max number of inputs is 1.  We hope to increase the number of inputs per request soon. Please contact us through an Azure support request at: https://go.microsoft.com/fwlink/?linkid=2213926 for further questions.",
      "\nThe above exception was the direct cause of the following exception:\n",
      "\u001b[0;31mRetryError\u001b[0m                                Traceback (most recent call last)",
      "Cell \u001b[0;32mIn[18], line 19\u001b[0m\n\u001b[1;32m     16\u001b[0m EMBEDDING_MODEL \u001b[39m=\u001b[39m \u001b[39m\"\u001b[39m\u001b[39mtext-embedding-ada-002\u001b[39m\u001b[39m\"\u001b[39m\n\u001b[1;32m     18\u001b[0m positive_review \u001b[39m=\u001b[39m get_embedding(\u001b[39m\"\u001b[39m\u001b[39m这是一条好评\u001b[39m\u001b[39m\"\u001b[39m, engine\u001b[39m=\u001b[39mEMBEDDING_MODEL)\n\u001b[0;32m---> 19\u001b[0m negative_review \u001b[39m=\u001b[39m get_embeddings([\u001b[39m\"\u001b[39;49m\u001b[39mhello\u001b[39;49m\u001b[39m\"\u001b[39;49m,\u001b[39m\"\u001b[39;49m\u001b[39mhello\u001b[39;49m\u001b[39m\"\u001b[39;49m], engine\u001b[39m=\u001b[39;49mEMBEDDING_MODEL)\n",
      "File \u001b[0;32m/home/alan/mactalk-ai-course/.venv/lib/python3.10/site-packages/tenacity/__init__.py:289\u001b[0m, in \u001b[0;36mBaseRetrying.wraps.<locals>.wrapped_f\u001b[0;34m(*args, **kw)\u001b[0m\n\u001b[1;32m    287\u001b[0m \u001b[39m@functools\u001b[39m\u001b[39m.\u001b[39mwraps(f)\n\u001b[1;32m    288\u001b[0m \u001b[39mdef\u001b[39;00m \u001b[39mwrapped_f\u001b[39m(\u001b[39m*\u001b[39margs: t\u001b[39m.\u001b[39mAny, \u001b[39m*\u001b[39m\u001b[39m*\u001b[39mkw: t\u001b[39m.\u001b[39mAny) \u001b[39m-\u001b[39m\u001b[39m>\u001b[39m t\u001b[39m.\u001b[39mAny:\n\u001b[0;32m--> 289\u001b[0m     \u001b[39mreturn\u001b[39;00m \u001b[39mself\u001b[39;49m(f, \u001b[39m*\u001b[39;49margs, \u001b[39m*\u001b[39;49m\u001b[39m*\u001b[39;49mkw)\n",
      "File \u001b[0;32m/home/alan/mactalk-ai-course/.venv/lib/python3.10/site-packages/tenacity/__init__.py:379\u001b[0m, in \u001b[0;36mRetrying.__call__\u001b[0;34m(self, fn, *args, **kwargs)\u001b[0m\n\u001b[1;32m    377\u001b[0m retry_state \u001b[39m=\u001b[39m RetryCallState(retry_object\u001b[39m=\u001b[39m\u001b[39mself\u001b[39m, fn\u001b[39m=\u001b[39mfn, args\u001b[39m=\u001b[39margs, kwargs\u001b[39m=\u001b[39mkwargs)\n\u001b[1;32m    378\u001b[0m \u001b[39mwhile\u001b[39;00m \u001b[39mTrue\u001b[39;00m:\n\u001b[0;32m--> 379\u001b[0m     do \u001b[39m=\u001b[39m \u001b[39mself\u001b[39;49m\u001b[39m.\u001b[39;49miter(retry_state\u001b[39m=\u001b[39;49mretry_state)\n\u001b[1;32m    380\u001b[0m     \u001b[39mif\u001b[39;00m \u001b[39misinstance\u001b[39m(do, DoAttempt):\n\u001b[1;32m    381\u001b[0m         \u001b[39mtry\u001b[39;00m:\n",
      "File \u001b[0;32m/home/alan/mactalk-ai-course/.venv/lib/python3.10/site-packages/tenacity/__init__.py:326\u001b[0m, in \u001b[0;36mBaseRetrying.iter\u001b[0;34m(self, retry_state)\u001b[0m\n\u001b[1;32m    324\u001b[0m     \u001b[39mif\u001b[39;00m \u001b[39mself\u001b[39m\u001b[39m.\u001b[39mreraise:\n\u001b[1;32m    325\u001b[0m         \u001b[39mraise\u001b[39;00m retry_exc\u001b[39m.\u001b[39mreraise()\n\u001b[0;32m--> 326\u001b[0m     \u001b[39mraise\u001b[39;00m retry_exc \u001b[39mfrom\u001b[39;00m \u001b[39mfut\u001b[39;00m\u001b[39m.\u001b[39;00m\u001b[39mexception\u001b[39;00m()\n\u001b[1;32m    328\u001b[0m \u001b[39mif\u001b[39;00m \u001b[39mself\u001b[39m\u001b[39m.\u001b[39mwait:\n\u001b[1;32m    329\u001b[0m     sleep \u001b[39m=\u001b[39m \u001b[39mself\u001b[39m\u001b[39m.\u001b[39mwait(retry_state)\n",
      "\u001b[0;31mRetryError\u001b[0m: RetryError[<Future at 0x7fa916d13130 state=finished raised InvalidRequestError>]"
     ]
    }
   ],
   "source": [
    "import openai\n",
    "import os\n",
    "from openai.embeddings_utils import cosine_similarity, get_embedding, get_embeddings\n",
    "\n",
    "#运行此API配置，需要将目录中的。env中api key替换为自己的\n",
    "from dotenv import load_dotenv, find_dotenv\n",
    "# read local .env file\n",
    "load_dotenv(find_dotenv())\n",
    "\n",
    "openai.api_type = \"azure\"\n",
    "openai.api_base = \"https://alannewlife.openai.azure.com/\"\n",
    "openai.api_version = \"2023-03-15-preview\"\n",
    "openai.api_key = os.getenv(\"OPENAI_API_KEY\")\n",
    "\n",
    "#openai.api_key = os.environ.get(\"OPENAI_API_KEY\")\n",
    "EMBEDDING_MODEL = \"text-embedding-ada-002\"\n",
    "\n",
    "positive_review = get_embedding(\"这是一条好评\", engine=EMBEDDING_MODEL)\n",
    "negative_review = get_embeddings([\"hello\",\"hello\"], engine=EMBEDDING_MODEL)"
   ]
  },
  {
   "cell_type": "code",
   "execution_count": 12,
   "metadata": {},
   "outputs": [
    {
     "ename": "RetryError",
     "evalue": "RetryError[<Future at 0x7fa916d3b520 state=finished raised InvalidRequestError>]",
     "output_type": "error",
     "traceback": [
      "\u001b[0;31m---------------------------------------------------------------------------\u001b[0m",
      "\u001b[0;31mInvalidRequestError\u001b[0m                       Traceback (most recent call last)",
      "File \u001b[0;32m/home/alan/mactalk-ai-course/.venv/lib/python3.10/site-packages/tenacity/__init__.py:382\u001b[0m, in \u001b[0;36mRetrying.__call__\u001b[0;34m(self, fn, *args, **kwargs)\u001b[0m\n\u001b[1;32m    381\u001b[0m \u001b[39mtry\u001b[39;00m:\n\u001b[0;32m--> 382\u001b[0m     result \u001b[39m=\u001b[39m fn(\u001b[39m*\u001b[39;49margs, \u001b[39m*\u001b[39;49m\u001b[39m*\u001b[39;49mkwargs)\n\u001b[1;32m    383\u001b[0m \u001b[39mexcept\u001b[39;00m \u001b[39mBaseException\u001b[39;00m:  \u001b[39m# noqa: B902\u001b[39;00m\n",
      "File \u001b[0;32m/home/alan/mactalk-ai-course/.venv/lib/python3.10/site-packages/openai/embeddings_utils.py:48\u001b[0m, in \u001b[0;36mget_embeddings\u001b[0;34m(list_of_text, engine, **kwargs)\u001b[0m\n\u001b[1;32m     46\u001b[0m list_of_text \u001b[39m=\u001b[39m [text\u001b[39m.\u001b[39mreplace(\u001b[39m\"\u001b[39m\u001b[39m\\n\u001b[39;00m\u001b[39m\"\u001b[39m, \u001b[39m\"\u001b[39m\u001b[39m \u001b[39m\u001b[39m\"\u001b[39m) \u001b[39mfor\u001b[39;00m text \u001b[39min\u001b[39;00m list_of_text]\n\u001b[0;32m---> 48\u001b[0m data \u001b[39m=\u001b[39m openai\u001b[39m.\u001b[39;49mEmbedding\u001b[39m.\u001b[39;49mcreate(\u001b[39minput\u001b[39;49m\u001b[39m=\u001b[39;49mlist_of_text, engine\u001b[39m=\u001b[39;49mengine, \u001b[39m*\u001b[39;49m\u001b[39m*\u001b[39;49mkwargs)\u001b[39m.\u001b[39mdata\n\u001b[1;32m     49\u001b[0m \u001b[39mreturn\u001b[39;00m [d[\u001b[39m\"\u001b[39m\u001b[39membedding\u001b[39m\u001b[39m\"\u001b[39m] \u001b[39mfor\u001b[39;00m d \u001b[39min\u001b[39;00m data]\n",
      "File \u001b[0;32m/home/alan/mactalk-ai-course/.venv/lib/python3.10/site-packages/openai/api_resources/embedding.py:33\u001b[0m, in \u001b[0;36mEmbedding.create\u001b[0;34m(cls, *args, **kwargs)\u001b[0m\n\u001b[1;32m     32\u001b[0m \u001b[39mtry\u001b[39;00m:\n\u001b[0;32m---> 33\u001b[0m     response \u001b[39m=\u001b[39m \u001b[39msuper\u001b[39;49m()\u001b[39m.\u001b[39;49mcreate(\u001b[39m*\u001b[39;49margs, \u001b[39m*\u001b[39;49m\u001b[39m*\u001b[39;49mkwargs)\n\u001b[1;32m     35\u001b[0m     \u001b[39m# If a user specifies base64, we'll just return the encoded string.\u001b[39;00m\n\u001b[1;32m     36\u001b[0m     \u001b[39m# This is only for the default case.\u001b[39;00m\n",
      "File \u001b[0;32m/home/alan/mactalk-ai-course/.venv/lib/python3.10/site-packages/openai/api_resources/abstract/engine_api_resource.py:153\u001b[0m, in \u001b[0;36mEngineAPIResource.create\u001b[0;34m(cls, api_key, api_base, api_type, request_id, api_version, organization, **params)\u001b[0m\n\u001b[1;32m    138\u001b[0m (\n\u001b[1;32m    139\u001b[0m     deployment_id,\n\u001b[1;32m    140\u001b[0m     engine,\n\u001b[0;32m   (...)\u001b[0m\n\u001b[1;32m    150\u001b[0m     api_key, api_base, api_type, api_version, organization, \u001b[39m*\u001b[39m\u001b[39m*\u001b[39mparams\n\u001b[1;32m    151\u001b[0m )\n\u001b[0;32m--> 153\u001b[0m response, _, api_key \u001b[39m=\u001b[39m requestor\u001b[39m.\u001b[39;49mrequest(\n\u001b[1;32m    154\u001b[0m     \u001b[39m\"\u001b[39;49m\u001b[39mpost\u001b[39;49m\u001b[39m\"\u001b[39;49m,\n\u001b[1;32m    155\u001b[0m     url,\n\u001b[1;32m    156\u001b[0m     params\u001b[39m=\u001b[39;49mparams,\n\u001b[1;32m    157\u001b[0m     headers\u001b[39m=\u001b[39;49mheaders,\n\u001b[1;32m    158\u001b[0m     stream\u001b[39m=\u001b[39;49mstream,\n\u001b[1;32m    159\u001b[0m     request_id\u001b[39m=\u001b[39;49mrequest_id,\n\u001b[1;32m    160\u001b[0m     request_timeout\u001b[39m=\u001b[39;49mrequest_timeout,\n\u001b[1;32m    161\u001b[0m )\n\u001b[1;32m    163\u001b[0m \u001b[39mif\u001b[39;00m stream:\n\u001b[1;32m    164\u001b[0m     \u001b[39m# must be an iterator\u001b[39;00m\n",
      "File \u001b[0;32m/home/alan/mactalk-ai-course/.venv/lib/python3.10/site-packages/openai/api_requestor.py:298\u001b[0m, in \u001b[0;36mAPIRequestor.request\u001b[0;34m(self, method, url, params, headers, files, stream, request_id, request_timeout)\u001b[0m\n\u001b[1;32m    288\u001b[0m result \u001b[39m=\u001b[39m \u001b[39mself\u001b[39m\u001b[39m.\u001b[39mrequest_raw(\n\u001b[1;32m    289\u001b[0m     method\u001b[39m.\u001b[39mlower(),\n\u001b[1;32m    290\u001b[0m     url,\n\u001b[0;32m   (...)\u001b[0m\n\u001b[1;32m    296\u001b[0m     request_timeout\u001b[39m=\u001b[39mrequest_timeout,\n\u001b[1;32m    297\u001b[0m )\n\u001b[0;32m--> 298\u001b[0m resp, got_stream \u001b[39m=\u001b[39m \u001b[39mself\u001b[39;49m\u001b[39m.\u001b[39;49m_interpret_response(result, stream)\n\u001b[1;32m    299\u001b[0m \u001b[39mreturn\u001b[39;00m resp, got_stream, \u001b[39mself\u001b[39m\u001b[39m.\u001b[39mapi_key\n",
      "File \u001b[0;32m/home/alan/mactalk-ai-course/.venv/lib/python3.10/site-packages/openai/api_requestor.py:700\u001b[0m, in \u001b[0;36mAPIRequestor._interpret_response\u001b[0;34m(self, result, stream)\u001b[0m\n\u001b[1;32m    698\u001b[0m \u001b[39melse\u001b[39;00m:\n\u001b[1;32m    699\u001b[0m     \u001b[39mreturn\u001b[39;00m (\n\u001b[0;32m--> 700\u001b[0m         \u001b[39mself\u001b[39;49m\u001b[39m.\u001b[39;49m_interpret_response_line(\n\u001b[1;32m    701\u001b[0m             result\u001b[39m.\u001b[39;49mcontent\u001b[39m.\u001b[39;49mdecode(\u001b[39m\"\u001b[39;49m\u001b[39mutf-8\u001b[39;49m\u001b[39m\"\u001b[39;49m),\n\u001b[1;32m    702\u001b[0m             result\u001b[39m.\u001b[39;49mstatus_code,\n\u001b[1;32m    703\u001b[0m             result\u001b[39m.\u001b[39;49mheaders,\n\u001b[1;32m    704\u001b[0m             stream\u001b[39m=\u001b[39;49m\u001b[39mFalse\u001b[39;49;00m,\n\u001b[1;32m    705\u001b[0m         ),\n\u001b[1;32m    706\u001b[0m         \u001b[39mFalse\u001b[39;00m,\n\u001b[1;32m    707\u001b[0m     )\n",
      "File \u001b[0;32m/home/alan/mactalk-ai-course/.venv/lib/python3.10/site-packages/openai/api_requestor.py:763\u001b[0m, in \u001b[0;36mAPIRequestor._interpret_response_line\u001b[0;34m(self, rbody, rcode, rheaders, stream)\u001b[0m\n\u001b[1;32m    762\u001b[0m \u001b[39mif\u001b[39;00m stream_error \u001b[39mor\u001b[39;00m \u001b[39mnot\u001b[39;00m \u001b[39m200\u001b[39m \u001b[39m<\u001b[39m\u001b[39m=\u001b[39m rcode \u001b[39m<\u001b[39m \u001b[39m300\u001b[39m:\n\u001b[0;32m--> 763\u001b[0m     \u001b[39mraise\u001b[39;00m \u001b[39mself\u001b[39m\u001b[39m.\u001b[39mhandle_error_response(\n\u001b[1;32m    764\u001b[0m         rbody, rcode, resp\u001b[39m.\u001b[39mdata, rheaders, stream_error\u001b[39m=\u001b[39mstream_error\n\u001b[1;32m    765\u001b[0m     )\n\u001b[1;32m    766\u001b[0m \u001b[39mreturn\u001b[39;00m resp\n",
      "\u001b[0;31mInvalidRequestError\u001b[0m: Too many inputs. The max number of inputs is 1.  We hope to increase the number of inputs per request soon. Please contact us through an Azure support request at: https://go.microsoft.com/fwlink/?linkid=2213926 for further questions.",
      "\nThe above exception was the direct cause of the following exception:\n",
      "\u001b[0;31mRetryError\u001b[0m                                Traceback (most recent call last)",
      "Cell \u001b[0;32mIn[12], line 33\u001b[0m\n\u001b[1;32m     20\u001b[0m df\u001b[39m=\u001b[39mpd\u001b[39m.\u001b[39mread_csv(\u001b[39m\"\u001b[39m\u001b[39mdata/product_names.csv\u001b[39m\u001b[39m\"\u001b[39m)\n\u001b[1;32m     22\u001b[0m \u001b[39m# @backoff.on_exception(backoff.expo, openai.error.RateLimitError) # type: ignore\u001b[39;00m\n\u001b[1;32m     23\u001b[0m \u001b[39m# def get_embeddings_with_backoff(prompts, engine):\u001b[39;00m\n\u001b[1;32m     24\u001b[0m \u001b[39m#     embeddings = []\u001b[39;00m\n\u001b[0;32m   (...)\u001b[0m\n\u001b[1;32m     30\u001b[0m \u001b[39m# prompts = df.product_name.tolist()\u001b[39;00m\n\u001b[1;32m     31\u001b[0m \u001b[39m# prompt_batches = [prompts[i:i+batch_size] for i in range(0, len(prompts), batch_size)]\u001b[39;00m\n\u001b[0;32m---> 33\u001b[0m embeddings \u001b[39m=\u001b[39m get_embeddings([\u001b[39m'\u001b[39;49m\u001b[39m全网通手机\u001b[39;49m\u001b[39m'\u001b[39;49m,\u001b[39m'\u001b[39;49m\u001b[39m全网通手机\u001b[39;49m\u001b[39m'\u001b[39;49m], engine\u001b[39m=\u001b[39;49mEMBEDDING_MODEL)\n\u001b[1;32m     34\u001b[0m \u001b[39m# for batch in prompt_batches:\u001b[39;00m\n\u001b[1;32m     35\u001b[0m \u001b[39m#     batch_embeddings = get_embeddings_with_backoff(prompts=batch, engine=EMBEDDING_MODEL)\u001b[39;00m\n\u001b[1;32m     36\u001b[0m \u001b[39m#     embeddings += batch_embeddings\u001b[39;00m\n\u001b[1;32m     37\u001b[0m \n\u001b[1;32m     38\u001b[0m \u001b[39m# df[\"embedding\"] = embeddings\u001b[39;00m\n\u001b[1;32m     39\u001b[0m \u001b[39m# df.to_parquet(\"data/taobao_product_title.parquet\", index=False)\u001b[39;00m\n",
      "File \u001b[0;32m/home/alan/mactalk-ai-course/.venv/lib/python3.10/site-packages/tenacity/__init__.py:289\u001b[0m, in \u001b[0;36mBaseRetrying.wraps.<locals>.wrapped_f\u001b[0;34m(*args, **kw)\u001b[0m\n\u001b[1;32m    287\u001b[0m \u001b[39m@functools\u001b[39m\u001b[39m.\u001b[39mwraps(f)\n\u001b[1;32m    288\u001b[0m \u001b[39mdef\u001b[39;00m \u001b[39mwrapped_f\u001b[39m(\u001b[39m*\u001b[39margs: t\u001b[39m.\u001b[39mAny, \u001b[39m*\u001b[39m\u001b[39m*\u001b[39mkw: t\u001b[39m.\u001b[39mAny) \u001b[39m-\u001b[39m\u001b[39m>\u001b[39m t\u001b[39m.\u001b[39mAny:\n\u001b[0;32m--> 289\u001b[0m     \u001b[39mreturn\u001b[39;00m \u001b[39mself\u001b[39;49m(f, \u001b[39m*\u001b[39;49margs, \u001b[39m*\u001b[39;49m\u001b[39m*\u001b[39;49mkw)\n",
      "File \u001b[0;32m/home/alan/mactalk-ai-course/.venv/lib/python3.10/site-packages/tenacity/__init__.py:379\u001b[0m, in \u001b[0;36mRetrying.__call__\u001b[0;34m(self, fn, *args, **kwargs)\u001b[0m\n\u001b[1;32m    377\u001b[0m retry_state \u001b[39m=\u001b[39m RetryCallState(retry_object\u001b[39m=\u001b[39m\u001b[39mself\u001b[39m, fn\u001b[39m=\u001b[39mfn, args\u001b[39m=\u001b[39margs, kwargs\u001b[39m=\u001b[39mkwargs)\n\u001b[1;32m    378\u001b[0m \u001b[39mwhile\u001b[39;00m \u001b[39mTrue\u001b[39;00m:\n\u001b[0;32m--> 379\u001b[0m     do \u001b[39m=\u001b[39m \u001b[39mself\u001b[39;49m\u001b[39m.\u001b[39;49miter(retry_state\u001b[39m=\u001b[39;49mretry_state)\n\u001b[1;32m    380\u001b[0m     \u001b[39mif\u001b[39;00m \u001b[39misinstance\u001b[39m(do, DoAttempt):\n\u001b[1;32m    381\u001b[0m         \u001b[39mtry\u001b[39;00m:\n",
      "File \u001b[0;32m/home/alan/mactalk-ai-course/.venv/lib/python3.10/site-packages/tenacity/__init__.py:326\u001b[0m, in \u001b[0;36mBaseRetrying.iter\u001b[0;34m(self, retry_state)\u001b[0m\n\u001b[1;32m    324\u001b[0m     \u001b[39mif\u001b[39;00m \u001b[39mself\u001b[39m\u001b[39m.\u001b[39mreraise:\n\u001b[1;32m    325\u001b[0m         \u001b[39mraise\u001b[39;00m retry_exc\u001b[39m.\u001b[39mreraise()\n\u001b[0;32m--> 326\u001b[0m     \u001b[39mraise\u001b[39;00m retry_exc \u001b[39mfrom\u001b[39;00m \u001b[39mfut\u001b[39;00m\u001b[39m.\u001b[39;00m\u001b[39mexception\u001b[39;00m()\n\u001b[1;32m    328\u001b[0m \u001b[39mif\u001b[39;00m \u001b[39mself\u001b[39m\u001b[39m.\u001b[39mwait:\n\u001b[1;32m    329\u001b[0m     sleep \u001b[39m=\u001b[39m \u001b[39mself\u001b[39m\u001b[39m.\u001b[39mwait(retry_state)\n",
      "\u001b[0;31mRetryError\u001b[0m: RetryError[<Future at 0x7fa916d3b520 state=finished raised InvalidRequestError>]"
     ]
    }
   ],
   "source": [
    "from openai.embeddings_utils import get_embeddings\n",
    "import openai, os, backoff\n",
    "import pandas as pd\n",
    "\n",
    "#运行此API配置，需要将目录中的。env中api key替换为自己的\n",
    "from dotenv import load_dotenv, find_dotenv\n",
    "# read local .env file\n",
    "load_dotenv(find_dotenv())\n",
    "\n",
    "openai.api_type = \"azure\"\n",
    "openai.api_base = \"https://alannewlife.openai.azure.com/\"\n",
    "openai.api_version = \"2023-03-15-preview\"\n",
    "openai.api_key = os.getenv(\"OPENAI_API_KEY\")\n",
    "\n",
    "#openai.api_key = os.environ.get(\"OPENAI_API_KEY\")\n",
    "EMBEDDING_MODEL = \"text-embedding-ada-002\"\n",
    "\n",
    "batch_size = 20\n",
    "\n",
    "df=pd.read_csv(\"data/product_names.csv\")\n",
    "\n",
    "# @backoff.on_exception(backoff.expo, openai.error.RateLimitError) # type: ignore\n",
    "# def get_embeddings_with_backoff(prompts, engine):\n",
    "#     embeddings = []\n",
    "#     for i in range(0, len(prompts), batch_size):\n",
    "#         batch = prompts[i:i+batch_size]\n",
    "#         embeddings += get_embeddings(list_of_text=batch, engine=engine)\n",
    "#     return embeddings\n",
    "\n",
    "# prompts = df.product_name.tolist()\n",
    "# prompt_batches = [prompts[i:i+batch_size] for i in range(0, len(prompts), batch_size)]\n",
    "\n",
    "embeddings = get_embeddings(['全网通手机','全网通手机'], engine=EMBEDDING_MODEL)\n",
    "# for batch in prompt_batches:\n",
    "#     batch_embeddings = get_embeddings_with_backoff(prompts=batch, engine=EMBEDDING_MODEL)\n",
    "#     embeddings += batch_embeddings\n",
    "\n",
    "# df[\"embedding\"] = embeddings\n",
    "# df.to_parquet(\"data/taobao_product_title.parquet\", index=False)"
   ]
  },
  {
   "cell_type": "code",
   "execution_count": 12,
   "metadata": {},
   "outputs": [
    {
     "name": "stdout",
     "output_type": "stream",
     "text": [
      "【新品】小米CC9 Pro 全网通 6GB+128GB\n",
      "【限时特惠】小米平板4 10\n",
      "【限时特价】华为 Mate 30 Pro 5G 8GB+256GB 全网通\n"
     ]
    }
   ],
   "source": [
    "from openai.embeddings_utils import get_embedding, cosine_similarity\n",
    "\n",
    "# search through the reviews for a specific product\n",
    "def search_product(df, query, n=3, pprint=True):\n",
    "    product_embedding = get_embedding(\n",
    "        query,\n",
    "        engine=embedding_model\n",
    "    )\n",
    "    df[\"similarity\"] = df.embedding.apply(lambda x: cosine_similarity(x, product_embedding))\n",
    "\n",
    "    results = (\n",
    "        df.sort_values(\"similarity\", ascending=False)\n",
    "        .head(n)\n",
    "        .product_name\n",
    "    )\n",
    "    if pprint:\n",
    "        for r in results:\n",
    "            print(r)\n",
    "    return results\n",
    "\n",
    "\n",
    "results = search_product(df, \"小米手机\", n=3)"
   ]
  },
  {
   "attachments": {},
   "cell_type": "markdown",
   "metadata": {},
   "source": [
    "### 使用向量数据库加速搜索过程"
   ]
  },
  {
   "cell_type": "code",
   "execution_count": 2,
   "metadata": {},
   "outputs": [],
   "source": [
    "import faiss\n",
    "import numpy as np\n",
    "import pandas as pd\n",
    "\n",
    "\n",
    "def load_embeddings_to_faiss(df):\n",
    "    embeddings = np.array(df['embedding'].tolist()).astype('float32')\n",
    "    index = faiss.IndexFlatL2(embeddings.shape[1])\n",
    "    index.add(embeddings) # type: ignore\n",
    "    return index"
   ]
  },
  {
   "cell_type": "code",
   "execution_count": 3,
   "metadata": {},
   "outputs": [
    {
     "data": {
      "text/plain": [
       "<bound method NDFrame.head of                                                     text  target      title   \n",
       "0      I was wondering if anyone out there could enli...       7  rec.autos  \\\n",
       "1      \\nIt depends on your priorities.  A lot of peo...       7  rec.autos   \n",
       "2      an excellent automatic can be found in the sub...       7  rec.autos   \n",
       "3      : Ford and his automobile.  I need information...       7  rec.autos   \n",
       "4      \\nYo! Watch the attributions--I didn't say tha...       7  rec.autos   \n",
       "...                                                  ...     ...        ...   \n",
       "10635  Secrecy in Clipper Chip\\n\\nThe serial number o...      11  sci.crypt   \n",
       "10636  Hi !\\n\\nI am interested in the source of FEAL ...      11  sci.crypt   \n",
       "10637  The actual algorithm is classified, however, t...      11  sci.crypt   \n",
       "10638  \\n\\tThis appears to be generic calling upon th...      11  sci.crypt   \n",
       "10639  \\nProbably keep quiet and take it, lest they g...      11  sci.crypt   \n",
       "\n",
       "       n_tokens                                          embedding  \n",
       "0           121  [-0.0391300804913044, 0.013502633199095726, -0...  \n",
       "1           108  [-0.0011249205563217402, -0.00376517535187304,...  \n",
       "2           476  [-0.018259447067975998, -0.008410007692873478,...  \n",
       "3            86  [-0.012589422054588795, 0.006539034191519022, ...  \n",
       "4           130  [-0.0006192282889969647, -0.011226896196603775...  \n",
       "...         ...                                                ...  \n",
       "10635       272  [-0.009344913996756077, -0.002893796656280756,...  \n",
       "10636        46  [0.0020047826692461967, 0.005355264991521835, ...  \n",
       "10637       102  [-0.009686576202511787, 0.00589779345318675, -...  \n",
       "10638       469  [-0.023307695984840393, -0.009851706214249134,...  \n",
       "10639        17  [-0.00020658542052842677, -0.02622563205659389...  \n",
       "\n",
       "[10640 rows x 5 columns]>"
      ]
     },
     "execution_count": 3,
     "metadata": {},
     "output_type": "execute_result"
    }
   ],
   "source": [
    "#toutiao_df = pd.read_parquet(\"data/toutiao_cat_data_all_with_embeddings.parquet\")\n",
    "toutiao_df = pd.read_parquet(\"data/20_newsgroup_with_embedding.parquet\")\n",
    "toutiao_df.head"
   ]
  },
  {
   "cell_type": "code",
   "execution_count": 4,
   "metadata": {},
   "outputs": [],
   "source": [
    "index = load_embeddings_to_faiss(toutiao_df)"
   ]
  },
  {
   "cell_type": "code",
   "execution_count": 11,
   "metadata": {},
   "outputs": [],
   "source": [
    "def search_index(index, df, query_embedding, k=5):\n",
    "    query_vector = np.array(query_embedding).reshape(1, -1).astype('float32')\n",
    "    distances, indexes = index.search(query_vector, k)\n",
    "\n",
    "    results = []\n",
    "    for i in range(len(indexes)):\n",
    "        news = df.iloc[indexes[i]]['text'].values.tolist()\n",
    "        results.append((distances[i], news))    \n",
    "    return results"
   ]
  },
  {
   "cell_type": "code",
   "execution_count": 12,
   "metadata": {},
   "outputs": [
    {
     "name": "stdout",
     "output_type": "stream",
     "text": [
      "0.012427806854248047\n",
      "[(array([0.3998429 , 0.40584296, 0.41748172], dtype=float32), ['\\nBut only in NY,NJ, Philadelphia, and Chicago. Everywhere else, the only\\nreason SportsChannel was available was for local baseball broadcasts.\\nAnd local baseball pre-empted the NHL playoffs. Thus far into this\\nplayoff season, ESPN/ABC has given me more hockey in 2 days (1 game)\\nthan SportsChannel did (0 games).\\n\\nIf people want hockey on TV, they should watch hockey on TV. I bet the\\nratings for hockey on Sunday on ABC went into the toilet. Next week, there\\nwill be far fewer ABC affiliates with hockey.\\n\\nSomeone in this thread said that he wouldn\\'t watch the games even if\\nthey were on TV, and this is a r.s.h. regular contributor!\\n\\nXenophobes north of border needn\\'t fear the US-Americanization of \"our\"\\ngame, because US-Americans will never figure out how to market hockey\\nhere. Support your team; support your game.', '.\\n.\\n.\\n\\nESPN had the Houston Astros @ Chicago Cubs game scheduled for last night on the\\nwest coast. \\n\\nSince the game was rained out, they showed the Toronto Maple Leafs at the\\nDetroit Red Wings game instead.', \"I agree. It was great for the ESPN people to show the Detroit game. (My\\nroommate just about sh*t when they threw the octopus on the ice. (Thanks\\nfor explaining the significance of that BTW)) The only problem I had was\\nwhen they blotted out the local commentators with the baseball ads and\\nmusic. Especially when the wings player hit the rut and went into the\\nboards injuring his shoulder and they blotted out the injury report. Other\\nthen that, hats off to ESPN. Now if they'll only make a habit of this. Yeah\\nright! Baseball seasons started (Zzzzzz.....) =)\\n\\nKOZ \"])]\n"
     ]
    }
   ],
   "source": [
    "import time\n",
    "from openai.embeddings_utils import get_embedding\n",
    "import openai, os, backoff\n",
    "import pandas as pd\n",
    "\n",
    "#运行此API配置，需要将目录中的。env中api key替换为自己的\n",
    "from dotenv import load_dotenv, find_dotenv\n",
    "# read local .env file\n",
    "load_dotenv(find_dotenv())\n",
    "\n",
    "openai.api_type = \"azure\"\n",
    "openai.api_base = \"https://alannewlife.openai.azure.com/\"\n",
    "openai.api_version = \"2023-03-15-preview\"\n",
    "openai.api_key = os.getenv(\"OPENAI_API_KEY\")\n",
    "\n",
    "#openai.api_key = os.environ.get(\"OPENAI_API_KEY\")\n",
    "embedding_model = \"text-embedding-ada-002\"\n",
    "\n",
    "query = \"NBA sports\"\n",
    "query_embedding = get_embedding(query, engine=embedding_model)\n",
    "\n",
    "start = time.time()\n",
    "news = search_index(index, toutiao_df, query_embedding, k=3)\n",
    "end = time.time()\n",
    "print(end - start)\n",
    "print(news)"
   ]
  },
  {
   "attachments": {},
   "cell_type": "markdown",
   "metadata": {},
   "source": [
    "### 完全暴力检索的速度"
   ]
  },
  {
   "cell_type": "code",
   "execution_count": 20,
   "metadata": {},
   "outputs": [],
   "source": [
    "from openai.embeddings_utils import get_embedding, cosine_similarity\n",
    "\n",
    "# search through the reviews for a specific product\n",
    "def search_index_brutal_force(df, query_embedding, n=3):\n",
    "    df[\"similarity\"] = df.embedding.apply(lambda x: cosine_similarity(x, query_embedding))\n",
    "\n",
    "    results = (\n",
    "        df.sort_values(\"similarity\", ascending=False)\n",
    "        .head(n)\n",
    "        .title\n",
    "    )\n",
    "    return results\n"
   ]
  },
  {
   "cell_type": "code",
   "execution_count": 28,
   "metadata": {},
   "outputs": [
    {
     "name": "stdout",
     "output_type": "stream",
     "text": [
      "58.231921911239624\n",
      "195956             超26亿元 北京七家车企将获新能源国补\n",
      "322070    北上资金维持积极布局节奏 本周斥逾65亿元加码18只个股\n",
      "321835      北上资金维持积极布局节奏 本周斥65亿加码18只个股\n",
      "Name: title, dtype: object\n"
     ]
    }
   ],
   "source": [
    "import time\n",
    "\n",
    "start = time.time()\n",
    "news = search_index_brutal_force(toutiao_df, query_embedding, n=3)\n",
    "end = time.time()\n",
    "print(end - start)\n",
    "print(news)"
   ]
  },
  {
   "attachments": {},
   "cell_type": "markdown",
   "metadata": {},
   "source": [
    "## 通过知识库解决幻觉问题"
   ]
  },
  {
   "cell_type": "markdown",
   "metadata": {},
   "source": [
    "初期化调用API环境，设置为我的Azure API"
   ]
  },
  {
   "cell_type": "code",
   "execution_count": 13,
   "metadata": {},
   "outputs": [],
   "source": [
    "import openai, os\n",
    "from llama_index import VectorStoreIndex, SimpleDirectoryReader,ServiceContext,Document\n",
    "from langchain.embeddings import OpenAIEmbeddings\n",
    "from llama_index.llms import AzureOpenAI\n",
    "from llama_index import LangchainEmbedding\n",
    "\n",
    "#运行此API配置，需要将目录中的.env中api key替换为自己的\n",
    "from dotenv import load_dotenv, find_dotenv\n",
    "# read local .env file\n",
    "load_dotenv(find_dotenv())\n",
    "\n",
    "#================AZURE API======================\n",
    "openai.api_type = \"azure\"\n",
    "openai.api_base = \"https://alannewlife.openai.azure.com/\"\n",
    "openai.api_version = \"2023-03-15-preview\"\n",
    "openai.api_key = os.getenv(\"OPENAI_API_KEY\")\n",
    "\n",
    "COMPLETION_MODEL = \"text-davinci-003\"\n",
    "\n",
    "def get_response(prompt):\n",
    "    completions = openai.Completion.create(\n",
    "        engine=COMPLETION_MODEL,\n",
    "        prompt=prompt,\n",
    "        max_tokens=512,\n",
    "        n=1,\n",
    "        stop=None,\n",
    "        temperature=0.5,        \n",
    "    )\n",
    "    return completions\n",
    "\n",
    "#==============llma_index的azure配置===============\n",
    "llm = AzureOpenAI(engine=\"text-davinci-003\", \n",
    "                  model=\"text-davinci-003\"              \n",
    ")\n",
    "embedding_llm = LangchainEmbedding(\n",
    "    OpenAIEmbeddings(\n",
    "        model=\"text-embedding-ada-002\",\n",
    "        deployment=\"text-embedding-ada-002\",\n",
    "        openai_api_key=openai.api_key,\n",
    "        openai_api_base=openai.api_base,\n",
    "        openai_api_type=openai.api_type,\n",
    "        openai_api_version=openai.api_version,\n",
    "    ),\n",
    "    embed_batch_size=1,\n",
    ")\n",
    "from llama_index import set_global_service_context\n",
    "service_context = ServiceContext.from_defaults(\n",
    "    llm=llm,\n",
    "    embed_model=embedding_llm\n",
    ")\n",
    "set_global_service_context(service_context)\n"
   ]
  },
  {
   "attachments": {},
   "cell_type": "markdown",
   "metadata": {},
   "source": [
    "### 藤野先生的例子"
   ]
  },
  {
   "cell_type": "code",
   "execution_count": 21,
   "metadata": {},
   "outputs": [
    {
     "name": "stdout",
     "output_type": "stream",
     "text": [
      "@ GPT : \n",
      "\n",
      "鲁迅先生在日本学习医学的城市是东京。\n",
      "\n"
     ]
    }
   ],
   "source": [
    "# 直接咨询GPT\n",
    "answer = get_response(\"鲁迅先生在日本学习医学的老师是谁？\")\n",
    "print(\"@ GPT : %s\\n\" % answer.choices[0].text) #type: ignore\n"
   ]
  },
  {
   "cell_type": "code",
   "execution_count": 20,
   "metadata": {},
   "outputs": [
    {
     "name": "stdout",
     "output_type": "stream",
     "text": [
      "@ llama : \n",
      "仙台\n",
      "\n"
     ]
    }
   ],
   "source": [
    "#读入鲁迅小说\n",
    "documents = SimpleDirectoryReader('./data/mr_fujino').load_data()\n",
    "index = VectorStoreIndex.from_documents(documents)\n",
    "\n",
    "#向量化\n",
    "query_engine = index.as_query_engine()\n",
    "\n",
    "#向量检索和输出\n",
    "response = query_engine.query(\"鲁迅先生在日本学习医学的老师是谁？\")\n",
    "print(\"@ llama : %s\\n\" % response)\n",
    "\n",
    "# response = query_engine.query(\"鲁迅先生在日本学习医学的城市是哪个？\")\n",
    "# print(\"@ llama : %s\\n\" % response)\n"
   ]
  },
  {
   "attachments": {},
   "cell_type": "markdown",
   "metadata": {},
   "source": [
    "### 自问自答进行数据增强"
   ]
  },
  {
   "cell_type": "code",
   "execution_count": 12,
   "metadata": {},
   "outputs": [
    {
     "name": "stdout",
     "output_type": "stream",
     "text": [
      "\n",
      "Q1：什么是卷积神经网络（CNN）？\n",
      "A1：卷积神经网络（CNN）是一种深度学习算法，特别适合于处理具有网格结构（如图像）的数据，它的设计灵感来自于生物的视觉皮层机制。\n",
      "\n",
      "Q2：CNN 的基本构成部分有哪些？\n",
      "A2：CNN 的基本构成部分包括：卷积层、激活层（ReLU）、池化层（Pooling）以及全连接层（Fully Connected Layer）。\n",
      "\n",
      "Q3：卷积层的作用是什么？\n",
      "A3：卷积层是 CNN 的核心，主要进行特征提取。卷积层通过滤波器（或称为卷积核）在输入数据上进行滑动卷积操作，以获取局部特征，同时，同一卷积层的所有滤波器共\n",
      "['\\nQ1：什么是卷积神经网络（CNN）？\\nA1：卷积神经网络（CNN）是一种深度学习算法，特别适合于处理具有网格结构（如图像）的数据，它的设计灵感来自于生物的视觉皮层机制。', 'Q2：CNN 的基本构成部分有哪些？\\nA2：CNN 的基本构成部分包括：卷积层、激活层（ReLU）、池化层（Pooling）以及全连接层（Fully Connected Layer）。', 'Q3：卷积层的作用是什么？\\nA3：卷积层是 CNN 的核心，主要进行特征提取。卷积层通过滤波器（或称为卷积核）在输入数据上进行滑动卷积操作，以获取局部特征，同时，同一卷积层的所有滤波器共']\n"
     ]
    }
   ],
   "source": [
    "content = \"\"\"卷积神经网络（Convolutional Neural Networks，简称 CNN）是一种深度学习算法，特别适合于处理具有网格结构（如图像）的数据。CNN 的设计灵感来自于生物的视觉皮层机制，通过对输入数据的局部感知和参数共享的特性，使得网络对图像的平移等变化有较好的鲁棒性。\n",
    "\n",
    "CNN 的基本构成部分包括：卷积层、激活层（ReLU）、池化层（Pooling）以及全连接层（Fully Connected Layer）。这些层次交织形成了一个典型的 CNN 结构。\n",
    "\n",
    "卷积层：这是 CNN 的核心，主要进行特征提取。卷积层通过滤波器（或称为卷积核）在输入数据上进行滑动卷积操作，以获取局部特征。同时，同一卷积层的所有滤波器共享参数，减少了模型复杂度。\n",
    "\n",
    "激活层：通常在卷积层之后接一个激活层，如 ReLU、tanh 或 sigmoid 等。激活函数的目的是引入非线性因素，使得网络可以拟合更复杂的函数。\n",
    "\n",
    "池化层：池化层通常在卷积层之后，用来降低特征的维度，防止过拟合。常见的池化方式有最大池化（Max Pooling）、平均池化（Average Pooling）等。\n",
    "\n",
    "全连接层：在整个网络的最后一般会有全连接层，用于将前面提取的特征进行融合，并输出结果。在分类问题中，输出层通常会接一个 softmax 层进行概率归一化，使得输出可以解释为概率。\n",
    "\n",
    "以上是 CNN 的基本结构，但实际上现代的 CNN 架构已经远超这些基础层次，如残差连接（ResNet）、空洞卷积（Dilated Convolution）、深度可分离卷积（Depthwise Separable Convolution）等等。\n",
    "\n",
    "CNN 在图像分类、检测、分割等问题上有显著的表现。经典的 CNN 架构有 LeNet-5、AlexNet、VGG、GoogLeNet、ResNet 等。\n",
    "\"\"\"\n",
    "\n",
    "prompt = f\"\"\"请针对>>>和<<<之间的内容，设计一系列的FAQ问题，以及对应的答案。\n",
    "<<<{content}>>>\"\"\"\n",
    "\n",
    "answer = get_response(prompt)\n",
    "message = answer.choices[0].text\n",
    "print(message)\n",
    "\n",
    "faq = message.split(\"\\n\\n\")\n",
    "print(faq)"
   ]
  },
  {
   "cell_type": "code",
   "execution_count": 15,
   "metadata": {},
   "outputs": [
    {
     "name": "stdout",
     "output_type": "stream",
     "text": [
      "\n",
      "现代CNN架构包括：LeNet、AlexNet、VGGNet、GoogLeNet、ResNet等。\n"
     ]
    }
   ],
   "source": [
    "\n",
    "#把问题列表导入并向量化\n",
    "documents = []\n",
    "for qa in faq:\n",
    "    documents.append(Document(text=qa))\n",
    "\n",
    "index = VectorStoreIndex.from_documents(documents)\n",
    "\n",
    "query_engine = index.as_query_engine()\n",
    "response = query_engine.query(\"现代CNN架构有哪些？\")\n",
    "print(response)\n"
   ]
  },
  {
   "attachments": {},
   "cell_type": "markdown",
   "metadata": {},
   "source": [
    "### 作业 or 练习题\n",
    "\n",
    "是否可以通过llama-index来实现Self-Ask的功能？"
   ]
  },
  {
   "attachments": {},
   "cell_type": "markdown",
   "metadata": {},
   "source": [
    "## 通过多步骤的LLM和外部工具来解决问题"
   ]
  },
  {
   "cell_type": "markdown",
   "metadata": {},
   "source": [
    "初期化langchain环境"
   ]
  },
  {
   "cell_type": "code",
   "execution_count": 24,
   "metadata": {},
   "outputs": [],
   "source": [
    "import openai, os\n",
    "\n",
    "#运行此API配置，需要将目录中的。env中api key替换为自己的\n",
    "from dotenv import load_dotenv, find_dotenv\n",
    "# read local .env file\n",
    "load_dotenv(find_dotenv())\n",
    "\n",
    "openai.api_type = \"azure\"\n",
    "openai.api_base = \"https://alannewlife.openai.azure.com/\"\n",
    "openai.api_version = \"2023-03-15-preview\"\n",
    "openai.api_key = os.getenv(\"OPENAI_API_KEY\")\n",
    "#openai.api_key = os.environ.get(\"OPENAI_API_KEY\")\n",
    "\n",
    "from langchain.prompts import PromptTemplate\n",
    "from langchain.llms import AzureOpenAI\n",
    "from langchain.chains import LLMChain\n",
    "\n",
    "llm = AzureOpenAI(deployment_name=\"text-davinci-003\",\n",
    "                  model_name=\"text-davinci-003\",\n",
    "                  openai_api_version= \"2023-03-15-preview\",\n",
    "                  max_tokens=2048, \n",
    "                  temperature=0.5) # type: ignore"
   ]
  },
  {
   "attachments": {},
   "cell_type": "markdown",
   "metadata": {},
   "source": [
    "### LLM做数学题"
   ]
  },
  {
   "cell_type": "code",
   "execution_count": 25,
   "metadata": {},
   "outputs": [
    {
     "name": "stdout",
     "output_type": "stream",
     "text": [
      "@ OpenAI API 说答案是:\n",
      "\n",
      "352 x 493 = 174336\n",
      "\n",
      "\n",
      "@ Python 说答案是:173536\n",
      "\n",
      "\n"
     ]
    }
   ],
   "source": [
    "# 直接询问GPT\n",
    "multiply_prompt = PromptTemplate(template=\"请计算一下{question}是多少?\", input_variables=[\"question\"])\n",
    "\n",
    "math_chain = LLMChain(llm=llm, prompt=multiply_prompt, output_key=\"answer\")\n",
    "answer = math_chain.run({\"question\": \"352乘以493\"})\n",
    "print(\"@ OpenAI API 说答案是:%s\\n\\n\" % answer)\n",
    "\n",
    "python_answer = 352 * 493\n",
    "print(\"@ Python 说答案是:%s\\n\\n\" % python_answer)"
   ]
  },
  {
   "cell_type": "code",
   "execution_count": 34,
   "metadata": {},
   "outputs": [
    {
     "name": "stdout",
     "output_type": "stream",
     "text": [
      "\n",
      "\n",
      "print(352 * 493)\n"
     ]
    }
   ],
   "source": [
    "#让GPT写出python代码\n",
    "\n",
    "multiply_by_python_prompt = PromptTemplate(template=\"请写一段Python代码，计算{question}?\", input_variables=[\"question\"])\n",
    "math_chain = LLMChain(llm=llm, prompt=multiply_by_python_prompt, output_key=\"answer\")\n",
    "answer = math_chain.run({\"question\": \"352乘以493\"})\n",
    "print(answer)"
   ]
  },
  {
   "cell_type": "code",
   "execution_count": 32,
   "metadata": {},
   "outputs": [
    {
     "name": "stdout",
     "output_type": "stream",
     "text": [
      "@ OpenAI_API的输出:\n",
      "\n",
      "print(352 * 493)\n",
      "\n",
      "\n",
      "@ 最后计算结果:173536\n",
      "\n",
      "\n",
      "\n"
     ]
    }
   ],
   "source": [
    "#让GPT写出python代码\n",
    "multiply_by_python_prompt = PromptTemplate(template=\"请写一段Python代码，计算{question}?\", input_variables=[\"question\"])\n",
    "math_chain = LLMChain(llm=llm, prompt=multiply_by_python_prompt, output_key=\"answer\")\n",
    "answer_code = math_chain.run({\"question\": \"352乘以493\"})\n",
    "\n",
    "print(\"@ OpenAI_API的输出:%s\\n\\n\" % answer_code)\n",
    "\n",
    "#执行Python代码\n",
    "from langchain.utilities import PythonREPL\n",
    "python_repl = PythonREPL()\n",
    "result = python_repl.run(answer_code)\n",
    "print(\"@ 最后计算结果:%s\\n\\n\" % result)"
   ]
  },
  {
   "cell_type": "code",
   "execution_count": 26,
   "metadata": {},
   "outputs": [
    {
     "name": "stdout",
     "output_type": "stream",
     "text": [
      "\n",
      "\n",
      "\u001b[1m> Entering new  chain...\u001b[0m\n",
      "请计算一下352乘以493是多少?\u001b[32;1m\u001b[1;3m```text\n",
      "352 * 493\n",
      "```\n",
      "...numexpr.evaluate(\"352 * 493\")...\n",
      "\u001b[0m\n",
      "Answer: \u001b[33;1m\u001b[1;3m173536\u001b[0m\n",
      "\u001b[1m> Finished chain.\u001b[0m\n",
      "Answer: 173536\n"
     ]
    }
   ],
   "source": [
    "from langchain import LLMMathChain\n",
    "\n",
    "llm_math = LLMMathChain(llm=llm, verbose=True) #type: ignore\n",
    "result = llm_math.run(\"请计算一下352乘以493是多少?\")\n",
    "print(result)"
   ]
  },
  {
   "attachments": {},
   "cell_type": "markdown",
   "metadata": {},
   "source": [
    "### LLM调用搜索引擎"
   ]
  },
  {
   "cell_type": "code",
   "execution_count": 27,
   "metadata": {},
   "outputs": [],
   "source": [
    "from langchain import LLMMathChain, OpenAI, SerpAPIWrapper\n",
    "from langchain.agents import initialize_agent, Tool\n",
    "from langchain.agents import AgentType\n",
    "\n",
    "#llm = OpenAI(temperature=0) # type: ignore\n",
    "search = SerpAPIWrapper() # type: ignore\n",
    "\n",
    "tools = [\n",
    "    Tool(\n",
    "        name=\"Search\",\n",
    "        func=search.run,\n",
    "        description=\"useful for when you need to answer questions about current events. You should ask targeted questions\"\n",
    "    ),\n",
    "]"
   ]
  },
  {
   "cell_type": "code",
   "execution_count": 28,
   "metadata": {},
   "outputs": [],
   "source": [
    "agent = initialize_agent(tools, llm, agent=AgentType.ZERO_SHOT_REACT_DESCRIPTION, verbose=True)"
   ]
  },
  {
   "cell_type": "code",
   "execution_count": 29,
   "metadata": {},
   "outputs": [
    {
     "name": "stdout",
     "output_type": "stream",
     "text": [
      "\n",
      "\n",
      "\u001b[1m> Entering new  chain...\u001b[0m\n",
      "\u001b[32;1m\u001b[1;3m I should search for information about the NBA\n",
      "Action: Search\n",
      "Action Input: 2023年的NBA总冠军\u001b[0m"
     ]
    }
   ],
   "source": [
    "agent.run(\"2023年的NBA总冠军是谁？请用中文回答\")"
   ]
  },
  {
   "attachments": {},
   "cell_type": "markdown",
   "metadata": {},
   "source": [
    "## 做选择题的方式来解决问题"
   ]
  },
  {
   "attachments": {},
   "cell_type": "markdown",
   "metadata": {},
   "source": [
    "### Langchain的工具接口"
   ]
  },
  {
   "attachments": {},
   "cell_type": "markdown",
   "metadata": {},
   "source": [
    "#### FAQ"
   ]
  },
  {
   "cell_type": "code",
   "execution_count": 41,
   "metadata": {},
   "outputs": [],
   "source": [
    "from langchain.embeddings.openai import OpenAIEmbeddings\n",
    "from langchain.vectorstores import FAISS\n",
    "from langchain.text_splitter import SpacyTextSplitter\n",
    "from langchain import OpenAI\n",
    "from langchain.chains import RetrievalQA\n",
    "from langchain.document_loaders import TextLoader\n",
    "from langchain.agents import tool\n",
    "\n",
    "import openai, os\n",
    "\n",
    "#运行此API配置，需要将目录中的。env中api key替换为自己的\n",
    "from dotenv import load_dotenv, find_dotenv\n",
    "# read local .env file\n",
    "load_dotenv(find_dotenv())\n",
    "\n",
    "openai.api_type = \"azure\"\n",
    "openai.api_base = \"https://alannewlife.openai.azure.com/\"\n",
    "openai.api_version = \"2023-03-15-preview\"\n",
    "openai.api_key = os.getenv(\"OPENAI_API_KEY\")\n",
    "#openai.api_key = os.environ.get(\"OPENAI_API_KEY\")\n",
    "\n",
    "from langchain.prompts import PromptTemplate\n",
    "from langchain.llms import AzureOpenAI\n",
    "from langchain.chains import LLMChain\n",
    "\n",
    "llm = AzureOpenAI(deployment_name=\"text-davinci-003\",\n",
    "                  model_name=\"text-davinci-003\",\n",
    "                  openai_api_version= \"2023-03-15-preview\",\n",
    "                  max_tokens=2048, \n",
    "                  temperature=0.5) # type: ignore\n",
    "\n",
    "embeddings= OpenAIEmbeddings(\n",
    "        model=\"text-embedding-ada-002\",\n",
    "        deployment=\"text-embedding-ada-002\",\n",
    "        openai_api_key=openai.api_key,\n",
    "        openai_api_base=openai.api_base,\n",
    "        openai_api_type=openai.api_type,\n",
    "        openai_api_version=openai.api_version,\n",
    "    )"
   ]
  },
  {
   "cell_type": "code",
   "execution_count": 46,
   "metadata": {},
   "outputs": [],
   "source": [
    "loader = TextLoader('./data/ecommerce_faq.txt')\n",
    "documents = loader.load()\n",
    "text_splitter = SpacyTextSplitter(chunk_size=256, pipeline=\"zh_core_web_sm\")\n",
    "texts = text_splitter.split_documents(documents)\n",
    "\n",
    "#embeddings = OpenAIEmbeddings() # type: ignore\n",
    "docsearch = FAISS.from_documents(texts, embeddings)\n",
    "faq_chain = RetrievalQA.from_chain_type(llm=llm, retriever=docsearch.as_retriever(), verbose=True) # type: ignore\n",
    "\n",
    "@tool(\"FAQ\")\n",
    "def faq(intput: str) -> str:\n",
    "    \"\"\"\"useful for when you need to answer questions about shopping policies, like return policy, shipping policy, etc.\"\"\"\n",
    "    return faq_chain.run(intput)\n"
   ]
  },
  {
   "cell_type": "code",
   "execution_count": 47,
   "metadata": {},
   "outputs": [
    {
     "name": "stdout",
     "output_type": "stream",
     "text": [
      "\n",
      "\n",
      "\u001b[1m> Entering new  chain...\u001b[0m\n",
      "\n",
      "\u001b[1m> Finished chain.\u001b[0m\n",
      " 是的，我们支持三亚的配送。一般情况下，大部分城市的订单在2-3个工作日内送达，偏远地区可能需要5-7个工作日。\n"
     ]
    }
   ],
   "source": [
    "question = \"请问你们的货，能送到三亚吗？大概需要几天？\"\n",
    "result = faq_chain.run(question)\n",
    "print(result)"
   ]
  },
  {
   "attachments": {},
   "cell_type": "markdown",
   "metadata": {},
   "source": [
    "#### 商品信息"
   ]
  },
  {
   "cell_type": "code",
   "execution_count": 52,
   "metadata": {},
   "outputs": [],
   "source": [
    "from langchain.text_splitter import CharacterTextSplitter\n",
    "from langchain.document_loaders import CSVLoader\n",
    "\n",
    "product_loader = CSVLoader('./data/ecommerce_products.csv')\n",
    "product_documents = product_loader.load()\n",
    "product_text_splitter = CharacterTextSplitter(chunk_size=1024, separator=\"\\n\")\n",
    "product_texts = product_text_splitter.split_documents(product_documents)\n",
    "product_search = FAISS.from_documents(product_texts, embeddings)\n",
    "product_chain = RetrievalQA.from_chain_type(llm=llm, retriever=product_search.as_retriever(), verbose=True)# type: ignore\n",
    "\n",
    "@tool(\"Recommend Product\")\n",
    "def recommend_product(input: str) -> str:\n",
    "    \"\"\"\"useful for when you need to search and recommend products and recommend it to the user\"\"\"\n",
    "    return product_chain.run(input)"
   ]
  },
  {
   "cell_type": "code",
   "execution_count": 53,
   "metadata": {},
   "outputs": [
    {
     "name": "stdout",
     "output_type": "stream",
     "text": [
      "\n",
      "\n",
      "\u001b[1m> Entering new  chain...\u001b[0m\n",
      "\n",
      "\u001b[1m> Finished chain.\u001b[0m\n",
      " 我建议你买雪纺连衣裙，它是轻盈柔软的质地，带有浪漫的碎花印花，穿上后显得温柔可人，风格是田园、休闲，很适合夏季出门穿着，搭配一双凉鞋和小包包就可以了。\n"
     ]
    }
   ],
   "source": [
    "question = \"我想买一件衣服，想要在夏天去公园穿，但是不知道哪个款式好看，你能帮我推荐一下吗？\"\n",
    "answer = product_chain.run(question)\n",
    "print(answer)"
   ]
  },
  {
   "attachments": {},
   "cell_type": "markdown",
   "metadata": {},
   "source": [
    "#### 订单查询"
   ]
  },
  {
   "cell_type": "code",
   "execution_count": 55,
   "metadata": {},
   "outputs": [],
   "source": [
    "import re\n",
    "import json\n",
    "\n",
    "ORDER_1 = \"20230101ABC\"\n",
    "ORDER_2 = \"20230101EFG\"\n",
    "\n",
    "ORDER_1_DETAIL = {\n",
    "    \"order_number\": ORDER_1,\n",
    "    \"status\": \"已发货\",\n",
    "    \"shipping_date\" : \"2023-01-03\",\n",
    "    \"estimated_delivered_date\": \"2023-01-05\",\n",
    "} \n",
    "\n",
    "ORDER_2_DETAIL = {\n",
    "    \"order_number\": ORDER_2,\n",
    "    \"status\": \"未发货\",\n",
    "    \"shipping_date\" : None,\n",
    "    \"estimated_delivered_date\": None,\n",
    "}\n",
    "\n",
    "answer_order_info = PromptTemplate(\n",
    "    template=\"请把下面的订单信息回复给用户： \\n\\n {order}?\", input_variables=[\"order\"]\n",
    ")\n",
    "answer_order_llm = LLMChain(llm=llm,  prompt=answer_order_info) # type: ignore\n",
    "\n",
    "\n",
    "@tool(\"Search Order\", return_direct=True)\n",
    "def search_order(input:str)->str:\n",
    "    \"\"\"useful for when you need to answer questions about customers orders\"\"\"\n",
    "    pattern = r\"\\d+[A-Z]+\"\n",
    "    match = re.search(pattern, input)\n",
    "\n",
    "    order_number = input\n",
    "    if match:\n",
    "        order_number = match.group(0)\n",
    "    else:\n",
    "        return \"请问您的订单号是多少？\"\n",
    "    if order_number == ORDER_1:        \n",
    "        return answer_order_llm.run(json.dumps(ORDER_1_DETAIL))\n",
    "    elif order_number == ORDER_2:\n",
    "        return answer_order_llm.run(json.dumps(ORDER_2_DETAIL))\n",
    "    else:\n",
    "        return f\"对不起，根据{input}没有找到您的订单\"\n"
   ]
  },
  {
   "cell_type": "code",
   "execution_count": 56,
   "metadata": {},
   "outputs": [],
   "source": [
    "tools = {\"search_order\" : search_order, \"recommend_product\": recommend_product, \"faq\": faq}\n",
    "\n",
    "\n",
    "choicellm = llm # type: ignore\n",
    "multiple_choice = \"\"\"\n",
    "请针对用户问题，选择一个合适的工具去回答她的问题。只要用A、B、C的选项字母告诉我答案。\n",
    "\n",
    "我们有的工具包括：\n",
    "A. recommend_product[$keywords], 一个能够查询商品信息，为用户进行商品导购的工具。\n",
    "B. search_order[$order_number], 一个能够查询订单信息，获得最新的订单情况的工具\n",
    "C. faq[$question], 一个能够搜索商家的退换货政策、运费、物流时长、支付渠道、覆盖国家的工具\n",
    "\n",
    "\n",
    "返回的结果需要包含函数名称，以及对应的参数，比如：\n",
    "\n",
    "用户问题：我的订单 20220101ABC 的物流信息是什么？\n",
    "返回结果：search_order[20220101ABC]\n",
    "\n",
    "用户问题：{question}\n",
    "返回结果：\n",
    "\"\"\"\n",
    "multiple_choice_prompt = PromptTemplate(template=multiple_choice, input_variables=[\"question\"])\n",
    "choice_chain = LLMChain(llm=choicellm, prompt=multiple_choice_prompt, output_key=\"answer\")"
   ]
  },
  {
   "cell_type": "code",
   "execution_count": 57,
   "metadata": {},
   "outputs": [
    {
     "name": "stdout",
     "output_type": "stream",
     "text": [
      "search_order[2022ABCDE]\n"
     ]
    }
   ],
   "source": [
    "question = \"我有一张订单，订单号是 2022ABCDE，一直没有收到，能麻烦帮我查一下吗？\"\n",
    "result = choice_chain.run(question)\n",
    "print(result) "
   ]
  },
  {
   "cell_type": "code",
   "execution_count": 58,
   "metadata": {},
   "outputs": [
    {
     "name": "stdout",
     "output_type": "stream",
     "text": [
      "('search_order', '2022ABCDE')\n"
     ]
    }
   ],
   "source": [
    "from typing import Tuple\n",
    "\n",
    "def parse_result(result: str) -> Tuple[str, str]:\n",
    "    pattern = r\"(\\w+)\\[(.+)\\]\"\n",
    "    match = re.search(pattern, result)\n",
    "    if match:\n",
    "        return match.group(1), match.group(2)\n",
    "    else:\n",
    "        return \"\", \"\"\n",
    "    \n",
    "\n",
    "print(parse_result(result))"
   ]
  },
  {
   "cell_type": "code",
   "execution_count": 59,
   "metadata": {},
   "outputs": [
    {
     "name": "stdout",
     "output_type": "stream",
     "text": [
      "对不起，根据2022ABCDE没有找到您的订单\n"
     ]
    }
   ],
   "source": [
    "parsed_result = parse_result(result)\n",
    "method = tools.get(parsed_result[0])\n",
    "params = parsed_result[1]\n",
    "\n",
    "\n",
    "answer = method(params) # type: ignore\n",
    "print(answer)"
   ]
  },
  {
   "cell_type": "code",
   "execution_count": 60,
   "metadata": {},
   "outputs": [
    {
     "name": "stdout",
     "output_type": "stream",
     "text": [
      "\n",
      "\n",
      "您的订单号为20230101ABC，状态为已发货，预计发货日期为2023-01-03，预计到货日期为2023-01-05。\n"
     ]
    }
   ],
   "source": [
    "question = \"我有一张订单，订单号是 20230101ABC，一直没有收到，能麻烦帮我查一下吗？\"\n",
    "\n",
    "result = choice_chain.run(question)\n",
    "parsed_result = parse_result(result)\n",
    "method = tools.get(parsed_result[0])\n",
    "params = parsed_result[1]\n",
    "\n",
    "\n",
    "answer = method(params) # type: ignore\n",
    "print(answer)\n"
   ]
  },
  {
   "attachments": {},
   "cell_type": "markdown",
   "metadata": {},
   "source": [
    "### 作业，通过Langchain实现上面的功能"
   ]
  },
  {
   "attachments": {},
   "cell_type": "markdown",
   "metadata": {},
   "source": [
    "### Langchain的Agent功能"
   ]
  },
  {
   "cell_type": "code",
   "execution_count": 61,
   "metadata": {},
   "outputs": [],
   "source": [
    "agent_tools = [search_order,recommend_product, faq]\n",
    "agent = initialize_agent(agent_tools, llm, agent=AgentType.CHAT_ZERO_SHOT_REACT_DESCRIPTION, verbose=True) #type: ignore"
   ]
  },
  {
   "cell_type": "code",
   "execution_count": 62,
   "metadata": {},
   "outputs": [
    {
     "name": "stdout",
     "output_type": "stream",
     "text": [
      "\n",
      "\n",
      "\u001b[1m> Entering new  chain...\u001b[0m\n",
      "\u001b[32;1m\u001b[1;3m\n",
      "Thought: I need to find the status of the order\n",
      "Action:\n",
      "```\n",
      "{\n",
      "  \"action\": \"Search Order\",\n",
      "  \"action_input\": \"2022ABCDE\"\n",
      "}\n",
      "```\n",
      "\u001b[0m\n",
      "Observation: \u001b[36;1m\u001b[1;3m对不起，根据2022ABCDE没有找到您的订单\u001b[0m\n",
      "\u001b[32;1m\u001b[1;3m\u001b[0m\n",
      "\n",
      "\u001b[1m> Finished chain.\u001b[0m\n",
      "对不起，根据2022ABCDE没有找到您的订单\n"
     ]
    }
   ],
   "source": [
    "question = \"我有一张订单，订单号是 2022ABCDE，一直没有收到，能麻烦帮我查一下吗？\"\n",
    "answer = agent.run(question)\n",
    "print(answer)"
   ]
  },
  {
   "cell_type": "code",
   "execution_count": 68,
   "metadata": {},
   "outputs": [
    {
     "name": "stdout",
     "output_type": "stream",
     "text": [
      "\n",
      "\n",
      "\u001b[1m> Entering new  chain...\u001b[0m\n",
      "\u001b[32;1m\u001b[1;3m\n",
      "Thought: The customer is asking about an order they placed.\n",
      "\n",
      "Action:\n",
      "```\n",
      "{\n",
      "  \"action\": \"Search Order\",\n",
      "  \"action_input\": \"20230101ABC\"\n",
      "}\n",
      "```\n",
      "\n",
      "\u001b[0m\n",
      "Observation: \u001b[36;1m\u001b[1;3m\n",
      "\n",
      "您的订单号为20230101ABC，状态为已发货，发货日期为2023-01-03，预计到货日期为2023-01-05。\u001b[0m\n",
      "\u001b[32;1m\u001b[1;3m\u001b[0m\n",
      "\n",
      "\u001b[1m> Finished chain.\u001b[0m\n",
      "\n",
      "\n",
      "您的订单号为20230101ABC，状态为已发货，发货日期为2023-01-03，预计到货日期为2023-01-05。\n"
     ]
    }
   ],
   "source": [
    "question2 = \"我有一张订单，订单号是 20230101ABC 一直没有收到，能麻烦帮我查一下吗？\"\n",
    "answer2 = agent.run(question2)\n",
    "print(answer2)"
   ]
  },
  {
   "cell_type": "code",
   "execution_count": 67,
   "metadata": {},
   "outputs": [
    {
     "name": "stdout",
     "output_type": "stream",
     "text": [
      "\n",
      "\n",
      "\u001b[1m> Entering new  chain...\u001b[0m\n",
      "\u001b[32;1m\u001b[1;3m\n",
      "Thought: I need to answer a question about the return policy\n",
      "Action: \n",
      "```\n",
      "{\n",
      "  \"action\": \"FAQ\",\n",
      "  \"action_input\": \"return policy\"\n",
      "}\n",
      "```\n",
      "\u001b[0m\n",
      "\n",
      "\u001b[1m> Entering new  chain...\u001b[0m\n",
      "\n",
      "\u001b[1m> Finished chain.\u001b[0m\n",
      "\n",
      "Observation: \u001b[38;5;200m\u001b[1;3m 我们提供30天无条件退货政策，具体退货流程请查看我们的退货政策页面。\u001b[0m\n",
      "Thought:\u001b[32;1m\u001b[1;3m I now know the final answer\n",
      "Final Answer: 我们提供30天无条件退货政策，具体退货流程请查看我们的退货政策页面。\u001b[0m\n",
      "\n",
      "\u001b[1m> Finished chain.\u001b[0m\n",
      "我们提供30天无条件退货政策，具体退货流程请查看我们的退货政策页面。\n"
     ]
    }
   ],
   "source": [
    "question3 = \"你们的退货政策是怎么样的？\"\n",
    "answer3 = agent.run(question3)\n",
    "print(answer3)"
   ]
  },
  {
   "cell_type": "code",
   "execution_count": 70,
   "metadata": {},
   "outputs": [
    {
     "name": "stdout",
     "output_type": "stream",
     "text": [
      "\n",
      "\n",
      "\u001b[1m> Entering new  chain...\u001b[0m\n",
      "\u001b[32;1m\u001b[1;3m\n",
      "Thought: I need to recommend a product for the user\n",
      "Action:\n",
      "```\n",
      "{\n",
      "  \"action\": \"Recommend Product\",\n",
      "  \"action_input\": \"Clothing for summer\"\n",
      "}\n",
      "```\n",
      "\u001b[0m\n",
      "\n",
      "\u001b[1m> Entering new  chain...\u001b[0m\n",
      "\n",
      "\u001b[1m> Finished chain.\u001b[0m\n",
      "\n",
      "Observation: \u001b[33;1m\u001b[1;3m 这款雪纺连衣裙是适合夏季出门穿着的，风格是田园、休闲。\u001b[0m\n",
      "Thought:\u001b[32;1m\u001b[1;3m I now know the final answer\n",
      "Final Answer: 这款雪纺连衣裙是适合夏季出门穿着的，风格是田园、休闲。\u001b[0m\n",
      "\n",
      "\u001b[1m> Finished chain.\u001b[0m\n",
      "这款雪纺连衣裙是适合夏季出门穿着的，风格是田园、休闲。\n"
     ]
    }
   ],
   "source": [
    "question4 = \"能推荐一件现在适合夏天穿的衣服给我么？\"\n",
    "answer4 = agent.run(question4)\n",
    "print(answer4)"
   ]
  }
 ],
 "metadata": {
  "kernelspec": {
   "display_name": "mactalk",
   "language": "python",
   "name": "python3"
  },
  "language_info": {
   "codemirror_mode": {
    "name": "ipython",
    "version": 3
   },
   "file_extension": ".py",
   "mimetype": "text/x-python",
   "name": "python",
   "nbconvert_exporter": "python",
   "pygments_lexer": "ipython3",
   "version": "3.10.6"
  },
  "orig_nbformat": 4
 },
 "nbformat": 4,
 "nbformat_minor": 2
}
