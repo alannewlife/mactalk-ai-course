{
 "cells": [
  {
   "cell_type": "code",
   "execution_count": 1,
   "metadata": {},
   "outputs": [],
   "source": [
    "import openai\n",
    "import os\n",
    "\n",
    "openai.api_key = os.environ.get(\"OPENAI_API_KEY\")\n",
    "COMPLETION_MODEL = \"text-davinci-003\"\n",
    "\n",
    "def get_response(prompt):\n",
    "    completions = openai.Completion.create(\n",
    "        engine=COMPLETION_MODEL,\n",
    "        prompt=prompt,\n",
    "        max_tokens=512,\n",
    "        n=1,\n",
    "        stop=None,\n",
    "        temperature=0.0,        \n",
    "    )\n",
    "    return completions.choices[0].text # type: ignore\n",
    "\n",
    "response = get_response(\"请写一段代码，演示创建一个和当前向量的 cosine similarity为0的向量，请只输出Python代码。\\n\")"
   ]
  },
  {
   "cell_type": "code",
   "execution_count": 2,
   "metadata": {},
   "outputs": [
    {
     "name": "stdout",
     "output_type": "stream",
     "text": [
      "\n",
      "import numpy as np\n",
      "\n",
      "# 创建一个当前向量\n",
      "cur_vector = np.array([1, 2, 3])\n",
      "\n",
      "# 创建一个和当前向量的cosine similarity为0的向量\n",
      "new_vector = np.array([-2, 4, -6])\n",
      "\n",
      "# 计算cosine similarity\n",
      "cos_sim = np.dot(cur_vector, new_vector) / (np.linalg.norm(cur_vector) * np.linalg.norm(new_vector))\n",
      "\n",
      "print(cos_sim)\n"
     ]
    }
   ],
   "source": [
    "print(response)"
   ]
  },
  {
   "cell_type": "code",
   "execution_count": 1,
   "metadata": {},
   "outputs": [
    {
     "ename": "NameError",
     "evalue": "name 'openai' is not defined",
     "output_type": "error",
     "traceback": [
      "\u001b[0;31m---------------------------------------------------------------------------\u001b[0m",
      "\u001b[0;31mNameError\u001b[0m                                 Traceback (most recent call last)",
      "Cell \u001b[0;32mIn[1], line 14\u001b[0m\n\u001b[1;32m      5\u001b[0m     response \u001b[39m=\u001b[39m openai\u001b[39m.\u001b[39mChatCompletion\u001b[39m.\u001b[39mcreate(\n\u001b[1;32m      6\u001b[0m                 model\u001b[39m=\u001b[39m\u001b[39m\"\u001b[39m\u001b[39mgpt-3.5-turbo\u001b[39m\u001b[39m\"\u001b[39m,\n\u001b[1;32m      7\u001b[0m                 messages\u001b[39m=\u001b[39mmessages,\n\u001b[0;32m   (...)\u001b[0m\n\u001b[1;32m     10\u001b[0m                 top_p\u001b[39m=\u001b[39m\u001b[39m1\u001b[39m,\n\u001b[1;32m     11\u001b[0m             )\n\u001b[1;32m     12\u001b[0m     \u001b[39mreturn\u001b[39;00m response\u001b[39m.\u001b[39mchoices[\u001b[39m0\u001b[39m]\u001b[39m.\u001b[39mmessage\u001b[39m.\u001b[39mcontent \u001b[39m# type: ignore\u001b[39;00m\n\u001b[0;32m---> 14\u001b[0m response \u001b[39m=\u001b[39m get_gpt35_response(\u001b[39m\"\u001b[39;49m\u001b[39m请写一段代码，演示创建一个和当前向量的 cosine similarity为0的向量，请只输出Python代码。\u001b[39;49m\u001b[39m\\n\u001b[39;49;00m\u001b[39m\"\u001b[39;49m)\n\u001b[1;32m     15\u001b[0m \u001b[39mprint\u001b[39m(response)\n",
      "Cell \u001b[0;32mIn[1], line 5\u001b[0m, in \u001b[0;36mget_gpt35_response\u001b[0;34m(prompt)\u001b[0m\n\u001b[1;32m      3\u001b[0m messages\u001b[39m.\u001b[39mappend({\u001b[39m\"\u001b[39m\u001b[39mrole\u001b[39m\u001b[39m\"\u001b[39m: \u001b[39m\"\u001b[39m\u001b[39msystem\u001b[39m\u001b[39m\"\u001b[39m, \u001b[39m\"\u001b[39m\u001b[39mcontent\u001b[39m\u001b[39m\"\u001b[39m: \u001b[39m\"\u001b[39m\u001b[39mYou are an useful AI assistent.\u001b[39m\u001b[39m\"\u001b[39m\u001b[39m\"\u001b[39m\u001b[39m\"\u001b[39m})\n\u001b[1;32m      4\u001b[0m messages\u001b[39m.\u001b[39mappend({\u001b[39m\"\u001b[39m\u001b[39mrole\u001b[39m\u001b[39m\"\u001b[39m: \u001b[39m\"\u001b[39m\u001b[39muser\u001b[39m\u001b[39m\"\u001b[39m, \u001b[39m\"\u001b[39m\u001b[39mcontent\u001b[39m\u001b[39m\"\u001b[39m: prompt})\n\u001b[0;32m----> 5\u001b[0m response \u001b[39m=\u001b[39m openai\u001b[39m.\u001b[39mChatCompletion\u001b[39m.\u001b[39mcreate(\n\u001b[1;32m      6\u001b[0m             model\u001b[39m=\u001b[39m\u001b[39m\"\u001b[39m\u001b[39mgpt-3.5-turbo\u001b[39m\u001b[39m\"\u001b[39m,\n\u001b[1;32m      7\u001b[0m             messages\u001b[39m=\u001b[39mmessages,\n\u001b[1;32m      8\u001b[0m             temperature\u001b[39m=\u001b[39m\u001b[39m0.5\u001b[39m,\n\u001b[1;32m      9\u001b[0m             max_tokens\u001b[39m=\u001b[39m\u001b[39m2048\u001b[39m,\n\u001b[1;32m     10\u001b[0m             top_p\u001b[39m=\u001b[39m\u001b[39m1\u001b[39m,\n\u001b[1;32m     11\u001b[0m         )\n\u001b[1;32m     12\u001b[0m \u001b[39mreturn\u001b[39;00m response\u001b[39m.\u001b[39mchoices[\u001b[39m0\u001b[39m]\u001b[39m.\u001b[39mmessage\u001b[39m.\u001b[39mcontent\n",
      "\u001b[0;31mNameError\u001b[0m: name 'openai' is not defined"
     ]
    }
   ],
   "source": [
    "def get_gpt35_response(prompt):\n",
    "    messages = []\n",
    "    messages.append({\"role\": \"system\", \"content\": \"You are an useful AI assistent.\"\"\"})\n",
    "    messages.append({\"role\": \"user\", \"content\": prompt})\n",
    "    response = openai.ChatCompletion.create(\n",
    "                model=\"gpt-3.5-turbo\",\n",
    "                messages=messages,\n",
    "                temperature=0.5,\n",
    "                max_tokens=2048,\n",
    "                top_p=1,\n",
    "            )\n",
    "    return response.choices[0].message.content # type: ignore\n",
    "\n",
    "response = get_gpt35_response(\"请写一段代码，演示创建一个和当前向量的 cosine similarity为0的向量，请只输出Python代码。\\n\")\n",
    "print(response)"
   ]
  },
  {
   "cell_type": "code",
   "execution_count": null,
   "metadata": {},
   "outputs": [],
   "source": []
  },
  {
   "cell_type": "code",
   "execution_count": 3,
   "metadata": {},
   "outputs": [],
   "source": [
    "import openai\n",
    "import os\n",
    "\n",
    "#运行此API配置，需要将目录中的。env中api key替换为自己的\n",
    "from dotenv import load_dotenv, find_dotenv\n",
    "# read local .env file\n",
    "load_dotenv(find_dotenv())\n",
    "\n",
    "openai.api_type = \"azure\"\n",
    "openai.api_base = \"https://alannewlife.openai.azure.com/\"\n",
    "openai.api_version = \"2023-03-15-preview\"\n",
    "openai.api_key = os.getenv(\"OPENAI_API_KEY\")\n",
    "\n",
    "COMPLETION_MODEL = \"gpt-35-turbo\"\n",
    "\n",
    "def get_response(prompt):\n",
    "    completions = openai.Completion.create(\n",
    "        engine=COMPLETION_MODEL,\n",
    "        prompt=prompt,\n",
    "        max_tokens=512,\n",
    "        n=1,\n",
    "        temperature=0.0,        \n",
    "    )\n",
    "    return completions.choices[0].text # type: ignore\n",
    "\n",
    "response = get_response(\"请写一段代码，演示创建一个和当前向量的 cosine similarity为0的向量，请只输出Python代码。\\n\")"
   ]
  },
  {
   "cell_type": "code",
   "execution_count": 4,
   "metadata": {},
   "outputs": [
    {
     "name": "stdout",
     "output_type": "stream",
     "text": [
      "# 请注意，你创建的向量应该是一个numpy array，shape为(100,)，并且每个元素都是float32类型。\n",
      "\n",
      "# 请在这里写代码\n",
      "import numpy as np\n",
      "v = np.random.rand(100).astype(np.float32)\n",
      "v = v - np.dot(v, w) / np.dot(w, w) * w\n",
      "v = v / np.linalg.norm(v)\n",
      "print(v)\n",
      "\n",
      "# 请不要修改下方代码\n",
      "assert v.shape == (100,)\n",
      "assert v.dtype == np.float32\n",
      "assert abs(np.dot(v, w) / (np.linalg.norm(v) * np.linalg.norm(w))) < 1e-6\n",
      "\n",
      "print(\"Pass.\")<|im_sep|>\n"
     ]
    }
   ],
   "source": [
    "print(response)"
   ]
  },
  {
   "cell_type": "code",
   "execution_count": null,
   "metadata": {},
   "outputs": [],
   "source": [
    "\n",
    "def get_response(prompt):\n",
    "    completions = openai.Completion.create(\n",
    "        engine=COMPLETION_MODEL,\n",
    "        prompt=prompt,\n",
    "        max_tokens=512,\n",
    "        n=1,\n",
    "        temperature=0.0,        \n",
    "        stop=\"<|im_sep|>\"\n",
    "    )\n",
    "    return completions.choices[0].text # type: ignore\n",
    "\n",
    "response = get_response(\"请写一段代码，演示创建一个和当前向量的 cosine similarity为0的向量，请只输出Python代码。\\n\")\n",
    "print(response)"
   ]
  },
  {
   "cell_type": "markdown",
   "metadata": {},
   "source": [
    "##azure gpt35 chat"
   ]
  },
  {
   "cell_type": "code",
   "execution_count": 6,
   "metadata": {},
   "outputs": [
    {
     "name": "stdout",
     "output_type": "stream",
     "text": [
      "以下是一个示例代码，用于创建一个与当前向量的余弦相似度为0的向量：\n",
      "\n",
      "```python\n",
      "import numpy as np\n",
      "\n",
      "# 假设当前向量为 v\n",
      "v = np.array([1, 2, 3])\n",
      "\n",
      "# 创建一个随机向量 w\n",
      "w = np.random.rand(3)\n",
      "\n",
      "# 计算 v 和 w 的余弦相似度\n",
      "cos_sim = np.dot(v, w) / (np.linalg.norm(v) * np.linalg.norm(w))\n",
      "\n",
      "# 如果余弦相似度不为0，则将 w 加上一个向量，使得它与 v 的余弦相似度为0\n",
      "while cos_sim != 0:\n",
      "    w = np.random.rand(3)\n",
      "    cos_sim = np.dot(v, w) / (np.linalg.norm(v) * np.linalg.norm(w))\n",
      "\n",
      "# 输出结果\n",
      "print(w)\n",
      "```\n",
      "\n",
      "该代码使用 NumPy 库生成一个随机向量 w，并计算它与当前向量 v 的余弦相似度。如果余弦相似度不为0，则使用 while 循环生成新的随机向量，并重新计算余弦相似度，直到找到一个与 v 的余弦相似度为0的向量 w。最后，代码输出 w 的值。\n"
     ]
    }
   ],
   "source": [
    "import openai\n",
    "import os\n",
    "\n",
    "#运行此API配置，需要将目录中的。env中api key替换为自己的\n",
    "from dotenv import load_dotenv, find_dotenv\n",
    "# read local .env file\n",
    "load_dotenv(find_dotenv())\n",
    "\n",
    "openai.api_type = \"azure\"\n",
    "openai.api_base = \"https://alannewlife.openai.azure.com/\"\n",
    "openai.api_version = \"2023-03-15-preview\"\n",
    "openai.api_key = os.getenv(\"OPENAI_API_KEY\")\n",
    "\n",
    "\n",
    "def get_gpt35_response(prompt):\n",
    "    messages = []\n",
    "    messages.append({\"role\": \"system\", \"content\": \"You are an useful AI assistent.\"\"\"})\n",
    "    messages.append({\"role\": \"user\", \"content\": prompt})\n",
    "    response = openai.ChatCompletion.create(\n",
    "                engine=COMPLETION_MODEL,\n",
    "                messages=messages,\n",
    "                temperature=0.5,\n",
    "                max_tokens=2048,\n",
    "                top_p=1,\n",
    "            )\n",
    "    return response.choices[0].message.content # type: ignore\n",
    "\n",
    "response = get_gpt35_response(\"请写一段代码，演示创建一个和当前向量的 cosine similarity为0的向量，请只输出Python代码。\\n\")\n",
    "print(response)"
   ]
  }
 ],
 "metadata": {
  "kernelspec": {
   "display_name": "mactalk",
   "language": "python",
   "name": "python3"
  },
  "language_info": {
   "codemirror_mode": {
    "name": "ipython",
    "version": 3
   },
   "file_extension": ".py",
   "mimetype": "text/x-python",
   "name": "python",
   "nbconvert_exporter": "python",
   "pygments_lexer": "ipython3",
   "version": "3.10.6"
  },
  "orig_nbformat": 4
 },
 "nbformat": 4,
 "nbformat_minor": 2
}
